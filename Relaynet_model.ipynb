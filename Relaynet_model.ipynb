{
 "cells": [
  {
   "cell_type": "code",
   "execution_count": 1,
   "metadata": {},
   "outputs": [
    {
     "name": "stderr",
     "output_type": "stream",
     "text": [
      "Using TensorFlow backend.\n"
     ]
    }
   ],
   "source": [
    "import keras\n",
    "from keras.layers import Activation\n",
    "from keras.layers import Conv2D, MaxPooling2D\n",
    "from keras.models import Model\n",
    "from keras.layers import Input\n",
    "from keras.layers import BatchNormalization\n",
    "from keras.layers import UpSampling2D\n",
    "from keras.layers import Concatenate\n",
    "from keras.layers import Lambda \n",
    "\n",
    "import tensorflow as tf\n",
    "\n",
    "\n",
    "\n",
    "from keras import backend as K\n",
    "\n"
   ]
  },
  {
   "cell_type": "code",
   "execution_count": 2,
   "metadata": {
    "collapsed": true
   },
   "outputs": [],
   "source": [
    "import scipy.io as scio\n",
    "import numpy as np    \n",
    "import os\n",
    "import matplotlib.pyplot as plt\n",
    "from scipy.misc import imsave\n",
    "from scipy import ndimage, misc\n",
    "from numpy import unravel_index\n",
    "from operator import sub"
   ]
  },
  {
   "cell_type": "code",
   "execution_count": 3,
   "metadata": {
    "collapsed": true
   },
   "outputs": [],
   "source": [
    "images = []\n",
    "for root, dirnames, filenames in os.walk(\"Dataset/Train_images/\"):\n",
    "    for filename in filenames:\n",
    "        filepath = os.path.join(root, filename)\n",
    "        image = ndimage.imread(filepath, mode=\"L\")\n",
    "        images.append(image)"
   ]
  },
  {
   "cell_type": "code",
   "execution_count": 6,
   "metadata": {},
   "outputs": [
    {
     "name": "stdout",
     "output_type": "stream",
     "text": [
      "(496, 64)\n"
     ]
    }
   ],
   "source": [
    "print (images[0].shape)\n"
   ]
  },
  {
   "cell_type": "code",
   "execution_count": 7,
   "metadata": {
    "collapsed": true
   },
   "outputs": [],
   "source": [
    "labels = np.load('train_labels.npy')\n",
    "labels_list = []\n",
    "for i in range(len(labels)):\n",
    "    labels_list.append(labels[i])"
   ]
  },
  {
   "cell_type": "code",
   "execution_count": 18,
   "metadata": {},
   "outputs": [
    {
     "name": "stdout",
     "output_type": "stream",
     "text": [
      "770\n",
      "<type 'numpy.ndarray'>\n",
      "770\n",
      "(496, 64, 1)\n",
      "[1, 2, 3, 5, 7, 8, 10, 13, 15, 16, 17, 19, 22, 23, 24, 25, 27, 28, 29, 30, 31, 33, 34, 35, 36, 37, 39, 40, 41, 43, 44, 45, 46, 48, 49, 50, 51, 52, 54, 55, 56, 58, 63, 64, 66, 68, 69, 70, 71, 73, 75, 77, 78, 79, 81, 85, 87, 90, 95, 96, 97, 98, 99, 100, 102, 103, 104, 105, 106, 107, 108, 110, 111, 113, 114, 117, 118, 120, 122, 125, 126, 127, 128, 131, 132, 137, 138, 139, 141, 142, 143, 144, 145, 146, 147, 148, 149, 152, 153, 156, 157, 159, 161, 163, 165, 168, 169, 170, 171, 173, 177, 178, 179, 180, 182, 183, 184, 185, 186, 187, 188, 190, 193, 195, 196, 197, 198, 199, 200, 203, 204, 206, 207, 208, 210, 212, 213, 214, 215, 216, 218, 219, 222, 223, 224, 225, 227, 228, 231, 233, 234, 236, 237, 238, 240, 241, 242, 243, 244, 247, 248, 249, 250, 252, 254, 257, 258, 260, 261, 263, 264, 266, 267, 268, 270, 271, 272, 273, 276, 277, 279, 280, 282, 285, 287, 288, 289, 290, 292, 293, 294, 297, 298, 299, 300, 301, 302, 303, 305, 306, 310, 311, 314, 315, 316, 317, 318, 320, 322, 323, 325, 328, 329, 330, 332, 333, 335, 336, 337, 338, 339, 340, 341, 344, 345, 347, 348, 349, 350, 352, 353, 354, 355, 356, 357, 358, 359, 360, 361, 366, 367, 368, 370, 372, 373, 374, 375, 376, 377, 378, 379, 383, 385, 387, 389, 390, 392, 394, 395, 396, 398, 399, 400, 402, 403, 404, 406, 407, 408, 409, 411, 412, 416, 417, 419, 420, 423, 424, 426, 427, 428, 431, 435, 436, 438, 439, 440, 441, 443, 444, 445, 446, 451, 454, 455, 456, 457, 458, 460, 461, 462, 463, 464, 466, 467, 472, 474, 475, 476, 477, 481, 483, 487, 488, 490, 491, 493, 494, 498, 499, 500, 501, 502, 503, 504, 505, 506, 507, 509, 510, 512, 513, 514, 517, 519, 521, 523, 524, 526, 527, 529, 530, 533, 534, 535, 536, 537, 543, 545, 547, 548, 549, 550, 551, 552, 553, 555, 557, 558, 559, 560, 561, 562, 564, 568, 569, 570, 571, 572, 574, 575, 578, 579, 583, 585, 587, 588, 589, 591, 592, 593, 597, 599, 600, 601, 603, 604, 605, 606, 607, 608, 609, 610, 611, 612, 614, 615, 618, 619, 620, 621, 622, 623, 624, 625, 626, 628, 629, 631, 632, 633, 634, 635, 636, 637, 638, 639, 640, 641, 642, 643, 644, 645, 646, 648, 649, 651, 654, 655, 656, 659, 660, 661, 662, 664, 665, 666, 667, 668, 669, 671, 673, 674, 675, 676, 677, 678, 679, 682, 685, 686, 687, 688, 689, 690, 691, 692, 693, 696, 697, 699, 702, 705, 708, 710, 711, 713, 714, 715, 716, 717, 718, 719, 720, 721, 723, 724, 726, 728, 730, 733, 735, 736, 737, 739, 740, 741, 742, 743, 744, 748, 752, 753, 754, 756, 759, 761, 764, 768, 769]\n",
      "[0, 4, 6, 9, 11, 12, 14, 18, 20, 21, 26, 32, 38, 42, 47, 53, 57, 59, 60, 61, 62, 65, 67, 72, 74, 76, 80, 82, 83, 84, 86, 88, 89, 91, 92, 93, 94, 101, 109, 112, 115, 116, 119, 121, 123, 124, 129, 130, 133, 134, 135, 136, 140, 150, 151, 154, 155, 158, 160, 162, 164, 166, 167, 172, 174, 175, 176, 181, 189, 191, 192, 194, 201, 202, 205, 209, 211, 217, 220, 221, 226, 229, 230, 232, 235, 239, 245, 246, 251, 253, 255, 256, 259, 262, 265, 269, 274, 275, 278, 281, 283, 284, 286, 291, 295, 296, 304, 307, 308, 309, 312, 313, 319, 321, 324, 326, 327, 331, 334, 342, 343, 346, 351, 362, 363, 364, 365, 369, 371, 380, 381, 382, 384, 386, 388, 391, 393, 397, 401, 405, 410, 413, 414, 415, 418, 421, 422, 425, 429, 430, 432, 433, 434, 437, 442, 447, 448, 449, 450, 452, 453, 459, 465, 468, 469, 470, 471, 473, 478, 479, 480, 482, 484, 485, 486, 489, 492, 495, 496, 497, 508, 511, 515, 516, 518, 520, 522, 525, 528, 531, 532, 538, 539, 540, 541, 542, 544, 546, 554, 556, 563, 565, 566, 567, 573, 576, 577, 580, 581, 582, 584, 586, 590, 594, 595, 596, 598, 602, 613, 616, 617, 627, 630, 647, 650, 652, 653, 657, 658, 663, 670, 672, 680, 681, 683, 684, 694, 695, 698]\n"
     ]
    }
   ],
   "source": [
    "print (len(labels_list))\n",
    "print (type(labels_list[0]))\n",
    "\n",
    "images=np.array(images)\n",
    "print(images.shape[0])\n",
    "images = images.reshape(images.shape[0],496,64,1)\n",
    "\n",
    "print(images[0].shape)\n",
    "train_indices = np.random.choice(770,500,replace = False)\n",
    "print(sorted(train_indices))\n",
    "train_images = []\n",
    "train_labels = [] \n",
    "for i in train_indices:\n",
    "    train_images.append(images[i])\n",
    "    train_labels.append(labels_list[i])\n",
    "\n",
    "test_indices = [x for x in range(700) if x not in train_indices]\n",
    "print(test_indices)\n",
    "test_images = []\n",
    "test_labels = []\n",
    "for i in test_labels:\n",
    "    test_images.append(images[i])\n",
    "    test_labels.append(labels_list[i])"
   ]
  },
  {
   "cell_type": "code",
   "execution_count": 19,
   "metadata": {},
   "outputs": [
    {
     "name": "stdout",
     "output_type": "stream",
     "text": [
      "500\n",
      "500\n",
      "(500, 496, 64, 8)\n"
     ]
    }
   ],
   "source": [
    "print (len(train_images))\n",
    "print (len(train_labels))\n",
    "print (np.array(train_labels).shape)"
   ]
  },
  {
   "cell_type": "code",
   "execution_count": 10,
   "metadata": {
    "collapsed": true
   },
   "outputs": [],
   "source": [
    "arg_1 = tf.placeholder(tf.float32,shape=(None,248,32,64))\n",
    "index_mask_1 = tf.placeholder(tf.bool,shape=(None,496,64,64))\n",
    "\n",
    "arg_2 = tf.placeholder(tf.float32,shape=(None,124,16,64))\n",
    "index_mask_2 = tf.placeholder(tf.bool,shape=(None,248,32,64))\n",
    "\n",
    "arg_3 = tf.placeholder(tf.float32,shape=(None,62,8,64))\n",
    "index_mask_3 = tf.placeholder(tf.bool,shape=(None,124,16,64))"
   ]
  },
  {
   "cell_type": "code",
   "execution_count": 11,
   "metadata": {
    "collapsed": true
   },
   "outputs": [],
   "source": [
    "def maxpool_1(x):\n",
    "    print(type(x))\n",
    "    print(x.shape)\n",
    "    y = x[0,:,:,:]\n",
    "    t = K.argmax(y)\n",
    "    print(type(t))\n",
    "    print(t.shape)\n",
    "    print(type(y))\n",
    "    print(y.shape)\n",
    "    outputs = tf.nn.max_pool_with_argmax(x, ksize=[1, 2, 2, 1],\n",
    "                        strides=[1, 2, 2, 1], padding='VALID')\n",
    "    arg_1=tf.cast(outputs[1],tf.float32)\n",
    "    upsampled_output=UpSampling2D(size=(2,2))(outputs[0])\n",
    "    print(upsampled_output.dtype)\n",
    "    print(arg_1.dtype)\n",
    "    index_mask_1=K.tf.equal(x,upsampled_output)\n",
    "    print((arg_1.shape))\n",
    "    return outputs[0]\n",
    "\n",
    "def maxpool_2(x):\n",
    "    print(type(x))\n",
    "    print(x.shape)\n",
    "    y = x[0,:,:,:]\n",
    "    t = K.argmax(y)\n",
    "    print(type(t))\n",
    "    print(t.shape)\n",
    "    print(type(y))\n",
    "    print(y.shape)\n",
    "    outputs = tf.nn.max_pool_with_argmax(x, ksize=[1, 2, 2, 1],\n",
    "                        strides=[1, 2, 2, 1], padding='VALID')\n",
    "    arg_2=tf.cast(outputs[1],tf.float32)\n",
    "    upsampled_output=UpSampling2D(size=(2,2))(outputs[0])\n",
    "    print(upsampled_output.dtype)\n",
    "    print(arg_2.dtype)\n",
    "    index_mask_2=K.tf.equal(x,upsampled_output)\n",
    "    print((arg_2.shape))\n",
    "    return outputs[0]\n",
    "\n",
    "def maxpool_3(x):\n",
    "    print(type(x))\n",
    "    print(x.shape)\n",
    "    y = x[0,:,:,:]\n",
    "    t = K.argmax(y)\n",
    "    print(type(t))\n",
    "    print(t.shape)\n",
    "    print(type(y))\n",
    "    print(y.shape)\n",
    "    outputs = tf.nn.max_pool_with_argmax(x, ksize=[1, 2, 2, 1],\n",
    "                        strides=[1, 2, 2, 1], padding='VALID')\n",
    "    arg_3=tf.cast(outputs[1],tf.float32)\n",
    "    upsampled_output=UpSampling2D(size=(2,2))(outputs[0])\n",
    "    print(upsampled_output.dtype)\n",
    "    print(arg_3.dtype)\n",
    "    index_mask_3=K.tf.equal(x,upsampled_output)\n",
    "    print((arg_3.shape))\n",
    "    return outputs[0]\n",
    "\n",
    "def shape(x):\n",
    "    shape = list(x)\n",
    "    shape[1]= shape[1]//2\n",
    "    shape[2]= None\n",
    "    return tuple(shape)"
   ]
  },
  {
   "cell_type": "code",
   "execution_count": 12,
   "metadata": {},
   "outputs": [
    {
     "name": "stdout",
     "output_type": "stream",
     "text": [
      "(?, 248, 32, 64)\n"
     ]
    }
   ],
   "source": [
    "print((arg_1.shape))"
   ]
  },
  {
   "cell_type": "code",
   "execution_count": 13,
   "metadata": {
    "collapsed": true
   },
   "outputs": [],
   "source": [
    "def unpool_1(input):\n",
    "    mask_shape = index_mask_1.get_shape().as_list()\n",
    "    input_shape = input.get_shape().as_list()\n",
    "    pool_size = (mask_shape[1] / input_shape[1], None)\n",
    "    on_success = UpSampling2D(size=(2,2))(input)\n",
    "    on_fail = K.zeros_like(on_success)\n",
    "    print()\n",
    "    return K.tf.where(index_mask_1, on_success, on_fail)\n",
    "\n",
    "def unpool_2(input):\n",
    "    mask_shape= index_mask_2.get_shape().as_list()\n",
    "    input_shape = input.get_shape().as_list()\n",
    "    pool_size = (mask_shape[1] / input_shape[1], None)\n",
    "    on_success = UpSampling2D(size=(2,2))(input)\n",
    "    on_fail = K.zeros_like(on_success)\n",
    "    print()\n",
    "    return K.tf.where(index_mask_2, on_success, on_fail)\n",
    "\n",
    "def unpool_3(input):\n",
    "    mask_shape = index_mask_3.get_shape().as_list()\n",
    "    input_shape = input.get_shape().as_list()\n",
    "    pool_size = (mask_shape[1] / input_shape[1], None)\n",
    "    on_success = UpSampling2D(size=(2,2))(input)\n",
    "    on_fail = K.zeros_like(on_success)\n",
    "    print()\n",
    "    return K.tf.where(index_mask_3, on_success, on_fail)"
   ]
  },
  {
   "cell_type": "code",
   "execution_count": 14,
   "metadata": {
    "collapsed": true
   },
   "outputs": [],
   "source": [
    "def unpool_shape(x):\n",
    "    shape = list(x)\n",
    "    shape[1]= shape[1]*2\n",
    "    shape[2]= None\n",
    "    return tuple(shape)"
   ]
  },
  {
   "cell_type": "code",
   "execution_count": 15,
   "metadata": {},
   "outputs": [
    {
     "name": "stdout",
     "output_type": "stream",
     "text": [
      "<class 'tensorflow.python.framework.ops.Tensor'>\n",
      "(?, 496, ?, 64)\n",
      "<class 'tensorflow.python.framework.ops.Tensor'>\n",
      "(496, ?)\n",
      "<class 'tensorflow.python.framework.ops.Tensor'>\n",
      "(496, ?, 64)\n",
      "<dtype: 'float32'>\n",
      "<dtype: 'float32'>\n",
      "(?, 248, ?, 64)\n",
      "<class 'tensorflow.python.framework.ops.Tensor'>\n",
      "(?, 248, ?, 64)\n",
      "<class 'tensorflow.python.framework.ops.Tensor'>\n",
      "(248, ?)\n",
      "<class 'tensorflow.python.framework.ops.Tensor'>\n",
      "(248, ?, 64)\n",
      "<dtype: 'float32'>\n",
      "<dtype: 'float32'>\n",
      "(?, 124, ?, 64)\n",
      "<class 'tensorflow.python.framework.ops.Tensor'>\n",
      "(?, 124, ?, 64)\n",
      "<class 'tensorflow.python.framework.ops.Tensor'>\n",
      "(124, ?)\n",
      "<class 'tensorflow.python.framework.ops.Tensor'>\n",
      "(124, ?, 64)\n",
      "<dtype: 'float32'>\n",
      "<dtype: 'float32'>\n",
      "(?, 62, ?, 64)\n",
      "()\n",
      "()\n",
      "()\n",
      "____________________________________________________________________________________________________\n",
      "Layer (type)                     Output Shape          Param #     Connected to                     \n",
      "====================================================================================================\n",
      "input_1 (InputLayer)             (None, 496, None, 1)  0                                            \n",
      "____________________________________________________________________________________________________\n",
      "conv2d_1 (Conv2D)                (None, 496, None, 64) 1408        input_1[0][0]                    \n",
      "____________________________________________________________________________________________________\n",
      "batch_normalization_1 (BatchNorm (None, 496, None, 64) 256         conv2d_1[0][0]                   \n",
      "____________________________________________________________________________________________________\n",
      "lambda_1 (Lambda)                (None, 248, None, 64) 0           batch_normalization_1[0][0]      \n",
      "____________________________________________________________________________________________________\n",
      "conv2d_2 (Conv2D)                (None, 248, None, 64) 86080       lambda_1[0][0]                   \n",
      "____________________________________________________________________________________________________\n",
      "batch_normalization_2 (BatchNorm (None, 248, None, 64) 256         conv2d_2[0][0]                   \n",
      "____________________________________________________________________________________________________\n",
      "lambda_2 (Lambda)                (None, 124, None, 64) 0           batch_normalization_2[0][0]      \n",
      "____________________________________________________________________________________________________\n",
      "conv2d_3 (Conv2D)                (None, 124, None, 64) 86080       lambda_2[0][0]                   \n",
      "____________________________________________________________________________________________________\n",
      "batch_normalization_3 (BatchNorm (None, 124, None, 64) 256         conv2d_3[0][0]                   \n",
      "____________________________________________________________________________________________________\n",
      "lambda_3 (Lambda)                (None, 62, None, 64)  0           batch_normalization_3[0][0]      \n",
      "____________________________________________________________________________________________________\n",
      "conv2d_4 (Conv2D)                (None, 62, None, 64)  86080       lambda_3[0][0]                   \n",
      "____________________________________________________________________________________________________\n",
      "batch_normalization_4 (BatchNorm (None, 62, None, 64)  256         conv2d_4[0][0]                   \n",
      "____________________________________________________________________________________________________\n",
      "lambda_4 (Lambda)                (None, 124, None, 64) 0           batch_normalization_4[0][0]      \n",
      "____________________________________________________________________________________________________\n",
      "concatenate_1 (Concatenate)      (None, 124, None, 128 0           batch_normalization_3[0][0]      \n",
      "                                                                   lambda_4[0][0]                   \n",
      "____________________________________________________________________________________________________\n",
      "conv2d_5 (Conv2D)                (None, 124, None, 64) 172096      concatenate_1[0][0]              \n",
      "____________________________________________________________________________________________________\n",
      "batch_normalization_5 (BatchNorm (None, 124, None, 64) 256         conv2d_5[0][0]                   \n",
      "____________________________________________________________________________________________________\n",
      "lambda_5 (Lambda)                (None, 248, None, 64) 0           batch_normalization_5[0][0]      \n",
      "____________________________________________________________________________________________________\n",
      "concatenate_2 (Concatenate)      (None, 248, None, 128 0           lambda_5[0][0]                   \n",
      "                                                                   batch_normalization_2[0][0]      \n",
      "____________________________________________________________________________________________________\n",
      "conv2d_6 (Conv2D)                (None, 248, None, 64) 172096      concatenate_2[0][0]              \n",
      "____________________________________________________________________________________________________\n",
      "batch_normalization_6 (BatchNorm (None, 248, None, 64) 256         conv2d_6[0][0]                   \n",
      "____________________________________________________________________________________________________\n",
      "lambda_6 (Lambda)                (None, 496, None, 64) 0           batch_normalization_6[0][0]      \n",
      "____________________________________________________________________________________________________\n",
      "concatenate_3 (Concatenate)      (None, 496, None, 128 0           lambda_6[0][0]                   \n",
      "                                                                   batch_normalization_1[0][0]      \n",
      "____________________________________________________________________________________________________\n",
      "conv2d_7 (Conv2D)                (None, 496, None, 64) 172096      concatenate_3[0][0]              \n",
      "____________________________________________________________________________________________________\n",
      "batch_normalization_7 (BatchNorm (None, 496, None, 64) 256         conv2d_7[0][0]                   \n",
      "____________________________________________________________________________________________________\n",
      "conv2d_8 (Conv2D)                (None, 496, None, 8)  520         batch_normalization_7[0][0]      \n",
      "====================================================================================================\n",
      "Total params: 778,248\n",
      "Trainable params: 777,352\n",
      "Non-trainable params: 896\n",
      "____________________________________________________________________________________________________\n"
     ]
    }
   ],
   "source": [
    "# Defines the input tensor\n",
    "inputs = Input(shape=(496,None,1))\n",
    "\n",
    "L1 = Conv2D(64,kernel_size=(7,3),activation = 'relu',padding = \"same\")(inputs)\n",
    "L2 = BatchNormalization()(L1)\n",
    "L3 = Lambda(maxpool_1,output_shape = shape)(L2)\n",
    "#L3 = MaxPooling2D(pool_size=(2,2))(L2)\n",
    "L4 = Conv2D(64,kernel_size=(7,3),activation = 'relu',padding = \"same\")(L3)\n",
    "L5 = BatchNormalization()(L4)\n",
    "L6 = Lambda(maxpool_2,output_shape = shape)(L5)\n",
    "#L6 = MaxPooling2D(pool_size=(2,2))(L5)\n",
    "L7 = Conv2D(64,kernel_size=(7,3),activation = 'relu',padding = \"same\")(L6)\n",
    "L8 = BatchNormalization()(L7)\n",
    "L9 = Lambda(maxpool_3,output_shape = shape)(L8)\n",
    "#L9 = MaxPooling2D(pool_size=(2,2))(L8)\n",
    "L10 = Conv2D(64,kernel_size=(7,3),activation = 'relu',padding = \"same\")(L9)\n",
    "L11 = BatchNormalization()(L10)\n",
    "#L12 = UpSampling2D(size = (2,2))(L11)\n",
    "L12 = Lambda(unpool_3,output_shape = unpool_shape)(L11)\n",
    "L13 = Concatenate(axis = 3)([L8,L12])\n",
    "L14 = Conv2D(64,kernel_size=(7,3),activation = 'relu',padding = \"same\")(L13)\n",
    "L15 = BatchNormalization()(L14)\n",
    "#L16 = UpSampling2D(size= (2,2))(L15)\n",
    "L16 = Lambda(unpool_2,output_shape=unpool_shape)(L15)\n",
    "L17 = Concatenate(axis = 3)([L16,L5])\n",
    "L18 = Conv2D(64,kernel_size=(7,3),activation = 'relu',padding = \"same\")(L17)\n",
    "L19 = BatchNormalization()(L18)\n",
    "L20 = Lambda(unpool_1,output_shape=unpool_shape)(L19)\n",
    "#L20 = UpSampling2D(size=(2,2),name = \"Layer19\")(L19)\n",
    "L21 = Concatenate(axis=3)([L20,L2])\n",
    "L22 = Conv2D(64,kernel_size=(7,3),activation = 'relu',padding = \"same\")(L21)\n",
    "L23 = BatchNormalization()(L22)\n",
    "L24 = Conv2D(8,kernel_size=(1,1),activation = 'softmax',padding = \"same\")(L23)\n",
    "\n",
    "model = Model(inputs = inputs, outputs = L24)\n",
    "model.summary()"
   ]
  },
  {
   "cell_type": "code",
   "execution_count": 21,
   "metadata": {
    "collapsed": true
   },
   "outputs": [],
   "source": [
    "smooth = 1"
   ]
  },
  {
   "cell_type": "code",
   "execution_count": 22,
   "metadata": {
    "collapsed": true
   },
   "outputs": [],
   "source": [
    "def dice_coef(y_true, y_pred):\n",
    "    y_true_f = K.flatten(y_true)\n",
    "    y_pred_f = K.flatten(y_pred)\n",
    "    intersection = K.sum(y_true_f * y_pred_f)\n",
    "    return (2. * intersection + smooth) / (K.sum(y_true_f) + K.sum(y_pred_f) + smooth)\n"
   ]
  },
  {
   "cell_type": "code",
   "execution_count": 23,
   "metadata": {
    "collapsed": true
   },
   "outputs": [],
   "source": [
    "def dice_coef_loss(y_true, y_pred):\n",
    "    return -dice_coef(y_true, y_pred)"
   ]
  },
  {
   "cell_type": "code",
   "execution_count": 16,
   "metadata": {
    "collapsed": true
   },
   "outputs": [],
   "source": [
    "model.compile(optimizer='Adam',loss=dice_coef_loss,metrics=['accuracy',dice_coef])"
   ]
  },
  {
   "cell_type": "code",
   "execution_count": 20,
   "metadata": {
    "scrolled": true
   },
   "outputs": [
    {
     "name": "stdout",
     "output_type": "stream",
     "text": [
      "Train on 334 samples, validate on 166 samples\n",
      "Epoch 1/10\n"
     ]
    },
    {
     "ename": "InvalidArgumentError",
     "evalue": "No OpKernel was registered to support Op 'MaxPoolWithArgmax' with these attrs.  Registered devices: [CPU], Registered kernels:\n  device='GPU'; Targmax in [DT_INT64]; T in [DT_DOUBLE]\n  device='GPU'; Targmax in [DT_INT64]; T in [DT_FLOAT]\n  device='GPU'; Targmax in [DT_INT64]; T in [DT_HALF]\n\n\t [[Node: lambda_1/MaxPoolWithArgmax = MaxPoolWithArgmax[T=DT_FLOAT, Targmax=DT_INT64, ksize=[1, 2, 2, 1], padding=\"VALID\", strides=[1, 2, 2, 1]](batch_normalization_1/cond/Merge)]]\n\nCaused by op u'lambda_1/MaxPoolWithArgmax', defined at:\n  File \"/usr/lib/python2.7/runpy.py\", line 174, in _run_module_as_main\n    \"__main__\", fname, loader, pkg_name)\n  File \"/usr/lib/python2.7/runpy.py\", line 72, in _run_code\n    exec code in run_globals\n  File \"/usr/local/lib/python2.7/dist-packages/ipykernel_launcher.py\", line 16, in <module>\n    app.launch_new_instance()\n  File \"/usr/local/lib/python2.7/dist-packages/traitlets/config/application.py\", line 658, in launch_instance\n    app.start()\n  File \"/usr/local/lib/python2.7/dist-packages/ipykernel/kernelapp.py\", line 477, in start\n    ioloop.IOLoop.instance().start()\n  File \"/usr/lib/python2.7/dist-packages/zmq/eventloop/ioloop.py\", line 162, in start\n    super(ZMQIOLoop, self).start()\n  File \"/usr/lib/python2.7/dist-packages/tornado/ioloop.py\", line 866, in start\n    handler_func(fd_obj, events)\n  File \"/usr/lib/python2.7/dist-packages/tornado/stack_context.py\", line 275, in null_wrapper\n    return fn(*args, **kwargs)\n  File \"/usr/lib/python2.7/dist-packages/zmq/eventloop/zmqstream.py\", line 440, in _handle_events\n    self._handle_recv()\n  File \"/usr/lib/python2.7/dist-packages/zmq/eventloop/zmqstream.py\", line 472, in _handle_recv\n    self._run_callback(callback, msg)\n  File \"/usr/lib/python2.7/dist-packages/zmq/eventloop/zmqstream.py\", line 414, in _run_callback\n    callback(*args, **kwargs)\n  File \"/usr/lib/python2.7/dist-packages/tornado/stack_context.py\", line 275, in null_wrapper\n    return fn(*args, **kwargs)\n  File \"/usr/local/lib/python2.7/dist-packages/ipykernel/kernelbase.py\", line 283, in dispatcher\n    return self.dispatch_shell(stream, msg)\n  File \"/usr/local/lib/python2.7/dist-packages/ipykernel/kernelbase.py\", line 235, in dispatch_shell\n    handler(stream, idents, msg)\n  File \"/usr/local/lib/python2.7/dist-packages/ipykernel/kernelbase.py\", line 399, in execute_request\n    user_expressions, allow_stdin)\n  File \"/usr/local/lib/python2.7/dist-packages/ipykernel/ipkernel.py\", line 196, in do_execute\n    res = shell.run_cell(code, store_history=store_history, silent=silent)\n  File \"/usr/local/lib/python2.7/dist-packages/ipykernel/zmqshell.py\", line 533, in run_cell\n    return super(ZMQInteractiveShell, self).run_cell(*args, **kwargs)\n  File \"/usr/local/lib/python2.7/dist-packages/IPython/core/interactiveshell.py\", line 2718, in run_cell\n    interactivity=interactivity, compiler=compiler, result=result)\n  File \"/usr/local/lib/python2.7/dist-packages/IPython/core/interactiveshell.py\", line 2822, in run_ast_nodes\n    if self.run_code(code, result):\n  File \"/usr/local/lib/python2.7/dist-packages/IPython/core/interactiveshell.py\", line 2882, in run_code\n    exec(code_obj, self.user_global_ns, self.user_ns)\n  File \"<ipython-input-15-130cdad77027>\", line 6, in <module>\n    L3 = Lambda(maxpool_1,output_shape = shape)(L2)\n  File \"/usr/local/lib/python2.7/dist-packages/keras/engine/topology.py\", line 602, in __call__\n    output = self.call(inputs, **kwargs)\n  File \"/usr/local/lib/python2.7/dist-packages/keras/layers/core.py\", line 650, in call\n    return self.function(inputs, **arguments)\n  File \"<ipython-input-11-307d7ed59c71>\", line 11, in maxpool_1\n    strides=[1, 2, 2, 1], padding='VALID')\n  File \"/usr/local/lib/python2.7/dist-packages/tensorflow/python/ops/gen_nn_ops.py\", line 1898, in max_pool_with_argmax\n    Targmax=Targmax, name=name)\n  File \"/usr/local/lib/python2.7/dist-packages/tensorflow/python/framework/op_def_library.py\", line 767, in apply_op\n    op_def=op_def)\n  File \"/usr/local/lib/python2.7/dist-packages/tensorflow/python/framework/ops.py\", line 2630, in create_op\n    original_op=self._default_original_op, op_def=op_def)\n  File \"/usr/local/lib/python2.7/dist-packages/tensorflow/python/framework/ops.py\", line 1204, in __init__\n    self._traceback = self._graph._extract_stack()  # pylint: disable=protected-access\n\nInvalidArgumentError (see above for traceback): No OpKernel was registered to support Op 'MaxPoolWithArgmax' with these attrs.  Registered devices: [CPU], Registered kernels:\n  device='GPU'; Targmax in [DT_INT64]; T in [DT_DOUBLE]\n  device='GPU'; Targmax in [DT_INT64]; T in [DT_FLOAT]\n  device='GPU'; Targmax in [DT_INT64]; T in [DT_HALF]\n\n\t [[Node: lambda_1/MaxPoolWithArgmax = MaxPoolWithArgmax[T=DT_FLOAT, Targmax=DT_INT64, ksize=[1, 2, 2, 1], padding=\"VALID\", strides=[1, 2, 2, 1]](batch_normalization_1/cond/Merge)]]\n",
     "output_type": "error",
     "traceback": [
      "\u001b[0;31m---------------------------------------------------------------------------\u001b[0m",
      "\u001b[0;31mInvalidArgumentError\u001b[0m                      Traceback (most recent call last)",
      "\u001b[0;32m<ipython-input-20-d98b40540111>\u001b[0m in \u001b[0;36m<module>\u001b[0;34m()\u001b[0m\n\u001b[1;32m      1\u001b[0m \u001b[0mtrain_images_2\u001b[0m\u001b[0;34m=\u001b[0m\u001b[0mnp\u001b[0m\u001b[0;34m.\u001b[0m\u001b[0marray\u001b[0m\u001b[0;34m(\u001b[0m\u001b[0mtrain_images\u001b[0m\u001b[0;34m)\u001b[0m\u001b[0;34m\u001b[0m\u001b[0m\n\u001b[1;32m      2\u001b[0m \u001b[0mtrain_labels_2\u001b[0m\u001b[0;34m=\u001b[0m\u001b[0mnp\u001b[0m\u001b[0;34m.\u001b[0m\u001b[0marray\u001b[0m\u001b[0;34m(\u001b[0m\u001b[0mtrain_labels\u001b[0m\u001b[0;34m)\u001b[0m\u001b[0;34m\u001b[0m\u001b[0m\n\u001b[0;32m----> 3\u001b[0;31m \u001b[0mmodel\u001b[0m\u001b[0;34m.\u001b[0m\u001b[0mfit\u001b[0m\u001b[0;34m(\u001b[0m\u001b[0mtrain_images_2\u001b[0m\u001b[0;34m,\u001b[0m\u001b[0mtrain_labels_2\u001b[0m\u001b[0;34m,\u001b[0m\u001b[0mbatch_size\u001b[0m\u001b[0;34m=\u001b[0m\u001b[0;36m7\u001b[0m\u001b[0;34m,\u001b[0m\u001b[0mepochs\u001b[0m\u001b[0;34m=\u001b[0m\u001b[0;36m10\u001b[0m\u001b[0;34m,\u001b[0m\u001b[0mvalidation_split\u001b[0m \u001b[0;34m=\u001b[0m \u001b[0;36m0.33\u001b[0m\u001b[0;34m)\u001b[0m\u001b[0;34m\u001b[0m\u001b[0m\n\u001b[0m",
      "\u001b[0;32m/usr/local/lib/python2.7/dist-packages/keras/engine/training.pyc\u001b[0m in \u001b[0;36mfit\u001b[0;34m(self, x, y, batch_size, epochs, verbose, callbacks, validation_split, validation_data, shuffle, class_weight, sample_weight, initial_epoch, steps_per_epoch, validation_steps, **kwargs)\u001b[0m\n\u001b[1;32m   1596\u001b[0m                               \u001b[0minitial_epoch\u001b[0m\u001b[0;34m=\u001b[0m\u001b[0minitial_epoch\u001b[0m\u001b[0;34m,\u001b[0m\u001b[0;34m\u001b[0m\u001b[0m\n\u001b[1;32m   1597\u001b[0m                               \u001b[0msteps_per_epoch\u001b[0m\u001b[0;34m=\u001b[0m\u001b[0msteps_per_epoch\u001b[0m\u001b[0;34m,\u001b[0m\u001b[0;34m\u001b[0m\u001b[0m\n\u001b[0;32m-> 1598\u001b[0;31m                               validation_steps=validation_steps)\n\u001b[0m\u001b[1;32m   1599\u001b[0m \u001b[0;34m\u001b[0m\u001b[0m\n\u001b[1;32m   1600\u001b[0m     def evaluate(self, x, y,\n",
      "\u001b[0;32m/usr/local/lib/python2.7/dist-packages/keras/engine/training.pyc\u001b[0m in \u001b[0;36m_fit_loop\u001b[0;34m(self, f, ins, out_labels, batch_size, epochs, verbose, callbacks, val_f, val_ins, shuffle, callback_metrics, initial_epoch, steps_per_epoch, validation_steps)\u001b[0m\n\u001b[1;32m   1181\u001b[0m                     \u001b[0mbatch_logs\u001b[0m\u001b[0;34m[\u001b[0m\u001b[0;34m'size'\u001b[0m\u001b[0;34m]\u001b[0m \u001b[0;34m=\u001b[0m \u001b[0mlen\u001b[0m\u001b[0;34m(\u001b[0m\u001b[0mbatch_ids\u001b[0m\u001b[0;34m)\u001b[0m\u001b[0;34m\u001b[0m\u001b[0m\n\u001b[1;32m   1182\u001b[0m                     \u001b[0mcallbacks\u001b[0m\u001b[0;34m.\u001b[0m\u001b[0mon_batch_begin\u001b[0m\u001b[0;34m(\u001b[0m\u001b[0mbatch_index\u001b[0m\u001b[0;34m,\u001b[0m \u001b[0mbatch_logs\u001b[0m\u001b[0;34m)\u001b[0m\u001b[0;34m\u001b[0m\u001b[0m\n\u001b[0;32m-> 1183\u001b[0;31m                     \u001b[0mouts\u001b[0m \u001b[0;34m=\u001b[0m \u001b[0mf\u001b[0m\u001b[0;34m(\u001b[0m\u001b[0mins_batch\u001b[0m\u001b[0;34m)\u001b[0m\u001b[0;34m\u001b[0m\u001b[0m\n\u001b[0m\u001b[1;32m   1184\u001b[0m                     \u001b[0;32mif\u001b[0m \u001b[0;32mnot\u001b[0m \u001b[0misinstance\u001b[0m\u001b[0;34m(\u001b[0m\u001b[0mouts\u001b[0m\u001b[0;34m,\u001b[0m \u001b[0mlist\u001b[0m\u001b[0;34m)\u001b[0m\u001b[0;34m:\u001b[0m\u001b[0;34m\u001b[0m\u001b[0m\n\u001b[1;32m   1185\u001b[0m                         \u001b[0mouts\u001b[0m \u001b[0;34m=\u001b[0m \u001b[0;34m[\u001b[0m\u001b[0mouts\u001b[0m\u001b[0;34m]\u001b[0m\u001b[0;34m\u001b[0m\u001b[0m\n",
      "\u001b[0;32m/usr/local/lib/python2.7/dist-packages/keras/backend/tensorflow_backend.pyc\u001b[0m in \u001b[0;36m__call__\u001b[0;34m(self, inputs)\u001b[0m\n\u001b[1;32m   2268\u001b[0m                 \u001b[0mvalue\u001b[0m \u001b[0;34m=\u001b[0m \u001b[0;34m(\u001b[0m\u001b[0mindices\u001b[0m\u001b[0;34m,\u001b[0m \u001b[0msparse_coo\u001b[0m\u001b[0;34m.\u001b[0m\u001b[0mdata\u001b[0m\u001b[0;34m,\u001b[0m \u001b[0msparse_coo\u001b[0m\u001b[0;34m.\u001b[0m\u001b[0mshape\u001b[0m\u001b[0;34m)\u001b[0m\u001b[0;34m\u001b[0m\u001b[0m\n\u001b[1;32m   2269\u001b[0m             \u001b[0mfeed_dict\u001b[0m\u001b[0;34m[\u001b[0m\u001b[0mtensor\u001b[0m\u001b[0;34m]\u001b[0m \u001b[0;34m=\u001b[0m \u001b[0mvalue\u001b[0m\u001b[0;34m\u001b[0m\u001b[0m\n\u001b[0;32m-> 2270\u001b[0;31m         \u001b[0msession\u001b[0m \u001b[0;34m=\u001b[0m \u001b[0mget_session\u001b[0m\u001b[0;34m(\u001b[0m\u001b[0;34m)\u001b[0m\u001b[0;34m\u001b[0m\u001b[0m\n\u001b[0m\u001b[1;32m   2271\u001b[0m         updated = session.run(self.outputs + [self.updates_op],\n\u001b[1;32m   2272\u001b[0m                               \u001b[0mfeed_dict\u001b[0m\u001b[0;34m=\u001b[0m\u001b[0mfeed_dict\u001b[0m\u001b[0;34m,\u001b[0m\u001b[0;34m\u001b[0m\u001b[0m\n",
      "\u001b[0;32m/usr/local/lib/python2.7/dist-packages/keras/backend/tensorflow_backend.pyc\u001b[0m in \u001b[0;36mget_session\u001b[0;34m()\u001b[0m\n\u001b[1;32m    165\u001b[0m     \u001b[0;32mif\u001b[0m \u001b[0;32mnot\u001b[0m \u001b[0m_MANUAL_VAR_INIT\u001b[0m\u001b[0;34m:\u001b[0m\u001b[0;34m\u001b[0m\u001b[0m\n\u001b[1;32m    166\u001b[0m         \u001b[0;32mwith\u001b[0m \u001b[0msession\u001b[0m\u001b[0;34m.\u001b[0m\u001b[0mgraph\u001b[0m\u001b[0;34m.\u001b[0m\u001b[0mas_default\u001b[0m\u001b[0;34m(\u001b[0m\u001b[0;34m)\u001b[0m\u001b[0;34m:\u001b[0m\u001b[0;34m\u001b[0m\u001b[0m\n\u001b[0;32m--> 167\u001b[0;31m             \u001b[0m_initialize_variables\u001b[0m\u001b[0;34m(\u001b[0m\u001b[0;34m)\u001b[0m\u001b[0;34m\u001b[0m\u001b[0m\n\u001b[0m\u001b[1;32m    168\u001b[0m     \u001b[0;32mreturn\u001b[0m \u001b[0msession\u001b[0m\u001b[0;34m\u001b[0m\u001b[0m\n\u001b[1;32m    169\u001b[0m \u001b[0;34m\u001b[0m\u001b[0m\n",
      "\u001b[0;32m/usr/local/lib/python2.7/dist-packages/keras/backend/tensorflow_backend.pyc\u001b[0m in \u001b[0;36m_initialize_variables\u001b[0;34m()\u001b[0m\n\u001b[1;32m    339\u001b[0m     \u001b[0;32mif\u001b[0m \u001b[0muninitialized_variables\u001b[0m\u001b[0;34m:\u001b[0m\u001b[0;34m\u001b[0m\u001b[0m\n\u001b[1;32m    340\u001b[0m         \u001b[0msess\u001b[0m \u001b[0;34m=\u001b[0m \u001b[0mget_session\u001b[0m\u001b[0;34m(\u001b[0m\u001b[0;34m)\u001b[0m\u001b[0;34m\u001b[0m\u001b[0m\n\u001b[0;32m--> 341\u001b[0;31m         \u001b[0msess\u001b[0m\u001b[0;34m.\u001b[0m\u001b[0mrun\u001b[0m\u001b[0;34m(\u001b[0m\u001b[0mtf\u001b[0m\u001b[0;34m.\u001b[0m\u001b[0mvariables_initializer\u001b[0m\u001b[0;34m(\u001b[0m\u001b[0muninitialized_variables\u001b[0m\u001b[0;34m)\u001b[0m\u001b[0;34m)\u001b[0m\u001b[0;34m\u001b[0m\u001b[0m\n\u001b[0m\u001b[1;32m    342\u001b[0m \u001b[0;34m\u001b[0m\u001b[0m\n\u001b[1;32m    343\u001b[0m \u001b[0;34m\u001b[0m\u001b[0m\n",
      "\u001b[0;32m/usr/local/lib/python2.7/dist-packages/tensorflow/python/client/session.pyc\u001b[0m in \u001b[0;36mrun\u001b[0;34m(self, fetches, feed_dict, options, run_metadata)\u001b[0m\n\u001b[1;32m    893\u001b[0m     \u001b[0;32mtry\u001b[0m\u001b[0;34m:\u001b[0m\u001b[0;34m\u001b[0m\u001b[0m\n\u001b[1;32m    894\u001b[0m       result = self._run(None, fetches, feed_dict, options_ptr,\n\u001b[0;32m--> 895\u001b[0;31m                          run_metadata_ptr)\n\u001b[0m\u001b[1;32m    896\u001b[0m       \u001b[0;32mif\u001b[0m \u001b[0mrun_metadata\u001b[0m\u001b[0;34m:\u001b[0m\u001b[0;34m\u001b[0m\u001b[0m\n\u001b[1;32m    897\u001b[0m         \u001b[0mproto_data\u001b[0m \u001b[0;34m=\u001b[0m \u001b[0mtf_session\u001b[0m\u001b[0;34m.\u001b[0m\u001b[0mTF_GetBuffer\u001b[0m\u001b[0;34m(\u001b[0m\u001b[0mrun_metadata_ptr\u001b[0m\u001b[0;34m)\u001b[0m\u001b[0;34m\u001b[0m\u001b[0m\n",
      "\u001b[0;32m/usr/local/lib/python2.7/dist-packages/tensorflow/python/client/session.pyc\u001b[0m in \u001b[0;36m_run\u001b[0;34m(self, handle, fetches, feed_dict, options, run_metadata)\u001b[0m\n\u001b[1;32m   1122\u001b[0m     \u001b[0;32mif\u001b[0m \u001b[0mfinal_fetches\u001b[0m \u001b[0;32mor\u001b[0m \u001b[0mfinal_targets\u001b[0m \u001b[0;32mor\u001b[0m \u001b[0;34m(\u001b[0m\u001b[0mhandle\u001b[0m \u001b[0;32mand\u001b[0m \u001b[0mfeed_dict_tensor\u001b[0m\u001b[0;34m)\u001b[0m\u001b[0;34m:\u001b[0m\u001b[0;34m\u001b[0m\u001b[0m\n\u001b[1;32m   1123\u001b[0m       results = self._do_run(handle, final_targets, final_fetches,\n\u001b[0;32m-> 1124\u001b[0;31m                              feed_dict_tensor, options, run_metadata)\n\u001b[0m\u001b[1;32m   1125\u001b[0m     \u001b[0;32melse\u001b[0m\u001b[0;34m:\u001b[0m\u001b[0;34m\u001b[0m\u001b[0m\n\u001b[1;32m   1126\u001b[0m       \u001b[0mresults\u001b[0m \u001b[0;34m=\u001b[0m \u001b[0;34m[\u001b[0m\u001b[0;34m]\u001b[0m\u001b[0;34m\u001b[0m\u001b[0m\n",
      "\u001b[0;32m/usr/local/lib/python2.7/dist-packages/tensorflow/python/client/session.pyc\u001b[0m in \u001b[0;36m_do_run\u001b[0;34m(self, handle, target_list, fetch_list, feed_dict, options, run_metadata)\u001b[0m\n\u001b[1;32m   1319\u001b[0m     \u001b[0;32mif\u001b[0m \u001b[0mhandle\u001b[0m \u001b[0;32mis\u001b[0m \u001b[0mNone\u001b[0m\u001b[0;34m:\u001b[0m\u001b[0;34m\u001b[0m\u001b[0m\n\u001b[1;32m   1320\u001b[0m       return self._do_call(_run_fn, self._session, feeds, fetches, targets,\n\u001b[0;32m-> 1321\u001b[0;31m                            options, run_metadata)\n\u001b[0m\u001b[1;32m   1322\u001b[0m     \u001b[0;32melse\u001b[0m\u001b[0;34m:\u001b[0m\u001b[0;34m\u001b[0m\u001b[0m\n\u001b[1;32m   1323\u001b[0m       \u001b[0;32mreturn\u001b[0m \u001b[0mself\u001b[0m\u001b[0;34m.\u001b[0m\u001b[0m_do_call\u001b[0m\u001b[0;34m(\u001b[0m\u001b[0m_prun_fn\u001b[0m\u001b[0;34m,\u001b[0m \u001b[0mself\u001b[0m\u001b[0;34m.\u001b[0m\u001b[0m_session\u001b[0m\u001b[0;34m,\u001b[0m \u001b[0mhandle\u001b[0m\u001b[0;34m,\u001b[0m \u001b[0mfeeds\u001b[0m\u001b[0;34m,\u001b[0m \u001b[0mfetches\u001b[0m\u001b[0;34m)\u001b[0m\u001b[0;34m\u001b[0m\u001b[0m\n",
      "\u001b[0;32m/usr/local/lib/python2.7/dist-packages/tensorflow/python/client/session.pyc\u001b[0m in \u001b[0;36m_do_call\u001b[0;34m(self, fn, *args)\u001b[0m\n\u001b[1;32m   1338\u001b[0m         \u001b[0;32mexcept\u001b[0m \u001b[0mKeyError\u001b[0m\u001b[0;34m:\u001b[0m\u001b[0;34m\u001b[0m\u001b[0m\n\u001b[1;32m   1339\u001b[0m           \u001b[0;32mpass\u001b[0m\u001b[0;34m\u001b[0m\u001b[0m\n\u001b[0;32m-> 1340\u001b[0;31m       \u001b[0;32mraise\u001b[0m \u001b[0mtype\u001b[0m\u001b[0;34m(\u001b[0m\u001b[0me\u001b[0m\u001b[0;34m)\u001b[0m\u001b[0;34m(\u001b[0m\u001b[0mnode_def\u001b[0m\u001b[0;34m,\u001b[0m \u001b[0mop\u001b[0m\u001b[0;34m,\u001b[0m \u001b[0mmessage\u001b[0m\u001b[0;34m)\u001b[0m\u001b[0;34m\u001b[0m\u001b[0m\n\u001b[0m\u001b[1;32m   1341\u001b[0m \u001b[0;34m\u001b[0m\u001b[0m\n\u001b[1;32m   1342\u001b[0m   \u001b[0;32mdef\u001b[0m \u001b[0m_extend_graph\u001b[0m\u001b[0;34m(\u001b[0m\u001b[0mself\u001b[0m\u001b[0;34m)\u001b[0m\u001b[0;34m:\u001b[0m\u001b[0;34m\u001b[0m\u001b[0m\n",
      "\u001b[0;31mInvalidArgumentError\u001b[0m: No OpKernel was registered to support Op 'MaxPoolWithArgmax' with these attrs.  Registered devices: [CPU], Registered kernels:\n  device='GPU'; Targmax in [DT_INT64]; T in [DT_DOUBLE]\n  device='GPU'; Targmax in [DT_INT64]; T in [DT_FLOAT]\n  device='GPU'; Targmax in [DT_INT64]; T in [DT_HALF]\n\n\t [[Node: lambda_1/MaxPoolWithArgmax = MaxPoolWithArgmax[T=DT_FLOAT, Targmax=DT_INT64, ksize=[1, 2, 2, 1], padding=\"VALID\", strides=[1, 2, 2, 1]](batch_normalization_1/cond/Merge)]]\n\nCaused by op u'lambda_1/MaxPoolWithArgmax', defined at:\n  File \"/usr/lib/python2.7/runpy.py\", line 174, in _run_module_as_main\n    \"__main__\", fname, loader, pkg_name)\n  File \"/usr/lib/python2.7/runpy.py\", line 72, in _run_code\n    exec code in run_globals\n  File \"/usr/local/lib/python2.7/dist-packages/ipykernel_launcher.py\", line 16, in <module>\n    app.launch_new_instance()\n  File \"/usr/local/lib/python2.7/dist-packages/traitlets/config/application.py\", line 658, in launch_instance\n    app.start()\n  File \"/usr/local/lib/python2.7/dist-packages/ipykernel/kernelapp.py\", line 477, in start\n    ioloop.IOLoop.instance().start()\n  File \"/usr/lib/python2.7/dist-packages/zmq/eventloop/ioloop.py\", line 162, in start\n    super(ZMQIOLoop, self).start()\n  File \"/usr/lib/python2.7/dist-packages/tornado/ioloop.py\", line 866, in start\n    handler_func(fd_obj, events)\n  File \"/usr/lib/python2.7/dist-packages/tornado/stack_context.py\", line 275, in null_wrapper\n    return fn(*args, **kwargs)\n  File \"/usr/lib/python2.7/dist-packages/zmq/eventloop/zmqstream.py\", line 440, in _handle_events\n    self._handle_recv()\n  File \"/usr/lib/python2.7/dist-packages/zmq/eventloop/zmqstream.py\", line 472, in _handle_recv\n    self._run_callback(callback, msg)\n  File \"/usr/lib/python2.7/dist-packages/zmq/eventloop/zmqstream.py\", line 414, in _run_callback\n    callback(*args, **kwargs)\n  File \"/usr/lib/python2.7/dist-packages/tornado/stack_context.py\", line 275, in null_wrapper\n    return fn(*args, **kwargs)\n  File \"/usr/local/lib/python2.7/dist-packages/ipykernel/kernelbase.py\", line 283, in dispatcher\n    return self.dispatch_shell(stream, msg)\n  File \"/usr/local/lib/python2.7/dist-packages/ipykernel/kernelbase.py\", line 235, in dispatch_shell\n    handler(stream, idents, msg)\n  File \"/usr/local/lib/python2.7/dist-packages/ipykernel/kernelbase.py\", line 399, in execute_request\n    user_expressions, allow_stdin)\n  File \"/usr/local/lib/python2.7/dist-packages/ipykernel/ipkernel.py\", line 196, in do_execute\n    res = shell.run_cell(code, store_history=store_history, silent=silent)\n  File \"/usr/local/lib/python2.7/dist-packages/ipykernel/zmqshell.py\", line 533, in run_cell\n    return super(ZMQInteractiveShell, self).run_cell(*args, **kwargs)\n  File \"/usr/local/lib/python2.7/dist-packages/IPython/core/interactiveshell.py\", line 2718, in run_cell\n    interactivity=interactivity, compiler=compiler, result=result)\n  File \"/usr/local/lib/python2.7/dist-packages/IPython/core/interactiveshell.py\", line 2822, in run_ast_nodes\n    if self.run_code(code, result):\n  File \"/usr/local/lib/python2.7/dist-packages/IPython/core/interactiveshell.py\", line 2882, in run_code\n    exec(code_obj, self.user_global_ns, self.user_ns)\n  File \"<ipython-input-15-130cdad77027>\", line 6, in <module>\n    L3 = Lambda(maxpool_1,output_shape = shape)(L2)\n  File \"/usr/local/lib/python2.7/dist-packages/keras/engine/topology.py\", line 602, in __call__\n    output = self.call(inputs, **kwargs)\n  File \"/usr/local/lib/python2.7/dist-packages/keras/layers/core.py\", line 650, in call\n    return self.function(inputs, **arguments)\n  File \"<ipython-input-11-307d7ed59c71>\", line 11, in maxpool_1\n    strides=[1, 2, 2, 1], padding='VALID')\n  File \"/usr/local/lib/python2.7/dist-packages/tensorflow/python/ops/gen_nn_ops.py\", line 1898, in max_pool_with_argmax\n    Targmax=Targmax, name=name)\n  File \"/usr/local/lib/python2.7/dist-packages/tensorflow/python/framework/op_def_library.py\", line 767, in apply_op\n    op_def=op_def)\n  File \"/usr/local/lib/python2.7/dist-packages/tensorflow/python/framework/ops.py\", line 2630, in create_op\n    original_op=self._default_original_op, op_def=op_def)\n  File \"/usr/local/lib/python2.7/dist-packages/tensorflow/python/framework/ops.py\", line 1204, in __init__\n    self._traceback = self._graph._extract_stack()  # pylint: disable=protected-access\n\nInvalidArgumentError (see above for traceback): No OpKernel was registered to support Op 'MaxPoolWithArgmax' with these attrs.  Registered devices: [CPU], Registered kernels:\n  device='GPU'; Targmax in [DT_INT64]; T in [DT_DOUBLE]\n  device='GPU'; Targmax in [DT_INT64]; T in [DT_FLOAT]\n  device='GPU'; Targmax in [DT_INT64]; T in [DT_HALF]\n\n\t [[Node: lambda_1/MaxPoolWithArgmax = MaxPoolWithArgmax[T=DT_FLOAT, Targmax=DT_INT64, ksize=[1, 2, 2, 1], padding=\"VALID\", strides=[1, 2, 2, 1]](batch_normalization_1/cond/Merge)]]\n"
     ]
    }
   ],
   "source": [
    "train_images_2=np.array(train_images)\n",
    "train_labels_2=np.array(train_labels)\n",
    "model.fit(train_images_2,train_labels_2,batch_size=7,epochs=10,validation_split = 0.33)"
   ]
  },
  {
   "cell_type": "code",
   "execution_count": 11,
   "metadata": {
    "collapsed": true
   },
   "outputs": [],
   "source": [
    "model.save_weights(\"weights.h5\")"
   ]
  },
  {
   "cell_type": "code",
   "execution_count": 55,
   "metadata": {
    "collapsed": true
   },
   "outputs": [],
   "source": [
    "testing_image = ndimage.imread('Dataset/testing_image_4.png',mode = 'L')"
   ]
  },
  {
   "cell_type": "code",
   "execution_count": 56,
   "metadata": {},
   "outputs": [
    {
     "name": "stdout",
     "output_type": "stream",
     "text": [
      "496\n"
     ]
    }
   ],
   "source": [
    "testing_image = np.array(testing_image)\n",
    "print(testing_image.shape[0])"
   ]
  },
  {
   "cell_type": "code",
   "execution_count": 57,
   "metadata": {
    "collapsed": true
   },
   "outputs": [],
   "source": [
    "testing_image = testing_image.reshape(1,496,64,1)"
   ]
  },
  {
   "cell_type": "code",
   "execution_count": 58,
   "metadata": {
    "collapsed": true
   },
   "outputs": [],
   "source": [
    "prediction = model.predict(testing_image)"
   ]
  },
  {
   "cell_type": "code",
   "execution_count": 59,
   "metadata": {},
   "outputs": [
    {
     "name": "stdout",
     "output_type": "stream",
     "text": [
      "(1, 496, 64, 8)\n"
     ]
    }
   ],
   "source": [
    "print(prediction.shape)"
   ]
  },
  {
   "cell_type": "code",
   "execution_count": 60,
   "metadata": {
    "collapsed": true
   },
   "outputs": [],
   "source": [
    "prediction = np.squeeze(prediction,axis = 0)"
   ]
  },
  {
   "cell_type": "code",
   "execution_count": 61,
   "metadata": {},
   "outputs": [
    {
     "name": "stdout",
     "output_type": "stream",
     "text": [
      "(496, 64, 8)\n"
     ]
    }
   ],
   "source": [
    "print(prediction.shape)\n"
   ]
  },
  {
   "cell_type": "code",
   "execution_count": 62,
   "metadata": {},
   "outputs": [
    {
     "name": "stdout",
     "output_type": "stream",
     "text": [
      "[[[  9.90431845e-01   5.23849914e-04   2.38480396e-03 ...,   3.14290333e-03\n",
      "     7.15359987e-04   9.47752633e-05]\n",
      "  [  9.95876908e-01   1.26564744e-04   5.17529435e-04 ...,   2.05338211e-03\n",
      "     3.22114036e-04   4.62890821e-05]\n",
      "  [  9.91709769e-01   3.47106252e-04   1.40436867e-03 ...,   3.52300471e-03\n",
      "     4.66498459e-04   1.45449289e-04]\n",
      "  ..., \n",
      "  [  9.93215978e-01   2.89540971e-04   1.14223047e-03 ...,   2.86238850e-03\n",
      "     4.15960822e-04   1.21896235e-04]\n",
      "  [  9.94165242e-01   1.88748279e-04   9.98849748e-04 ...,   2.88870698e-03\n",
      "     5.12290921e-04   5.69161930e-05]\n",
      "  [  9.77184176e-01   1.62097695e-03   5.97098330e-03 ...,   8.09637923e-03\n",
      "     1.31334132e-03   5.07012708e-04]]\n",
      "\n",
      " [[  9.90255058e-01   3.38861166e-04   1.74046448e-03 ...,   4.34618024e-03\n",
      "     1.35297398e-03   1.18468612e-04]\n",
      "  [  9.95023370e-01   1.01163852e-04   3.01213498e-04 ...,   2.36597634e-03\n",
      "     9.77306976e-04   7.58161477e-05]\n",
      "  [  9.88762558e-01   4.33083362e-04   1.21312588e-03 ...,   5.10587031e-03\n",
      "     1.09717529e-03   2.63440015e-04]\n",
      "  ..., \n",
      "  [  9.91281629e-01   3.42571380e-04   9.18625679e-04 ...,   3.90662067e-03\n",
      "     8.95616191e-04   2.10764672e-04]\n",
      "  [  9.93597388e-01   1.58802737e-04   3.77169432e-04 ...,   3.55895376e-03\n",
      "     1.00448204e-03   9.56160293e-05]\n",
      "  [  9.84181404e-01   8.47313553e-04   3.29919416e-03 ...,   7.02520646e-03\n",
      "     1.48526952e-03   2.46619573e-04]]\n",
      "\n",
      " [[  9.74529088e-01   1.21575373e-03   4.12007654e-03 ...,   1.18069425e-02\n",
      "     3.39906197e-03   2.07784149e-04]\n",
      "  [  9.90355372e-01   1.86323290e-04   5.50398894e-04 ...,   5.00425138e-03\n",
      "     2.17842031e-03   5.41268673e-05]\n",
      "  [  9.78334606e-01   8.60139553e-04   2.12629605e-03 ...,   1.12865148e-02\n",
      "     2.77075032e-03   2.52791593e-04]\n",
      "  ..., \n",
      "  [  9.83236134e-01   6.94643648e-04   1.56729110e-03 ...,   8.49746075e-03\n",
      "     2.30723177e-03   2.13592415e-04]\n",
      "  [  9.83772814e-01   4.62632335e-04   8.58771964e-04 ...,   9.48271807e-03\n",
      "     2.97520170e-03   1.66534373e-04]\n",
      "  [  9.70981836e-01   1.66576635e-03   4.81727673e-03 ...,   1.36180576e-02\n",
      "     3.62858782e-03   3.86472471e-04]]\n",
      "\n",
      " ..., \n",
      " [[  9.35610414e-01   1.08410632e-02   1.88477654e-02 ...,   1.36803668e-02\n",
      "     4.30256780e-03   2.60322005e-03]\n",
      "  [  9.39385593e-01   1.32400952e-02   1.94174219e-02 ...,   1.22866249e-02\n",
      "     2.79524969e-03   1.33786676e-03]\n",
      "  [  9.21719193e-01   1.81544051e-02   2.51135882e-02 ...,   1.53281745e-02\n",
      "     3.10707092e-03   1.35587540e-03]\n",
      "  ..., \n",
      "  [  9.39390004e-01   1.46924844e-02   1.78972241e-02 ...,   1.28695564e-02\n",
      "     2.74265511e-03   1.00809371e-03]\n",
      "  [  9.53405738e-01   1.02786161e-02   1.31759392e-02 ...,   1.16282357e-02\n",
      "     2.59682676e-03   9.56178759e-04]\n",
      "  [  9.40995097e-01   9.32195224e-03   1.65981501e-02 ...,   1.46331051e-02\n",
      "     4.64907149e-03   2.39924761e-03]]\n",
      "\n",
      " [[  9.35710251e-01   8.82554706e-03   1.80705097e-02 ...,   1.45533094e-02\n",
      "     5.01212943e-03   3.22904368e-03]\n",
      "  [  9.42313135e-01   1.03421314e-02   1.74628738e-02 ...,   1.26807513e-02\n",
      "     3.60166538e-03   1.94576941e-03]\n",
      "  [  9.27808166e-01   1.45627605e-02   2.14146730e-02 ...,   1.58059113e-02\n",
      "     3.91027471e-03   1.74122292e-03]\n",
      "  ..., \n",
      "  [  9.41626608e-01   1.15386834e-02   1.72992889e-02 ...,   1.23937000e-02\n",
      "     3.32949962e-03   1.52602140e-03]\n",
      "  [  9.52535748e-01   8.70242342e-03   1.32798329e-02 ...,   1.21384030e-02\n",
      "     3.22847255e-03   1.34360127e-03]\n",
      "  [  9.28587019e-01   1.02902604e-02   1.85933243e-02 ...,   1.81699209e-02\n",
      "     5.62000927e-03   3.50589771e-03]]\n",
      "\n",
      " [[  9.10407841e-01   1.02036027e-02   2.61319485e-02 ...,   1.98036041e-02\n",
      "     6.61617937e-03   5.62639721e-03]\n",
      "  [  9.23993826e-01   1.14721227e-02   2.22188327e-02 ...,   1.70544311e-02\n",
      "     5.09488583e-03   3.53984325e-03]\n",
      "  [  9.24438477e-01   1.18975407e-02   2.22453475e-02 ...,   1.77026223e-02\n",
      "     4.98476950e-03   2.73528113e-03]\n",
      "  ..., \n",
      "  [  9.31796908e-01   9.85012203e-03   2.00748146e-02 ...,   1.74492002e-02\n",
      "     4.74172458e-03   2.67803459e-03]\n",
      "  [  9.40884888e-01   8.53689015e-03   1.60142053e-02 ...,   1.56390071e-02\n",
      "     4.78343479e-03   2.42307270e-03]\n",
      "  [  9.06518459e-01   1.16982171e-02   2.40787175e-02 ...,   2.22525187e-02\n",
      "     8.14915914e-03   5.75513532e-03]]]\n"
     ]
    }
   ],
   "source": [
    "print (prediction)"
   ]
  },
  {
   "cell_type": "code",
   "execution_count": 63,
   "metadata": {},
   "outputs": [
    {
     "name": "stdout",
     "output_type": "stream",
     "text": [
      "[ 0.18668322  0.02075981  0.07049716  0.08813264  0.0905104   0.37279558\n",
      "  0.11087015  0.059751  ]\n"
     ]
    }
   ],
   "source": [
    "print(prediction[260][45])"
   ]
  },
  {
   "cell_type": "code",
   "execution_count": 64,
   "metadata": {},
   "outputs": [
    {
     "name": "stdout",
     "output_type": "stream",
     "text": [
      "3\n"
     ]
    }
   ],
   "source": [
    "s = [1,2,3,4]\n",
    "print(np.argmax(s))"
   ]
  },
  {
   "cell_type": "code",
   "execution_count": 65,
   "metadata": {},
   "outputs": [
    {
     "name": "stdout",
     "output_type": "stream",
     "text": [
      "(496, 64, 8)\n"
     ]
    }
   ],
   "source": [
    "print(prediction.shape)"
   ]
  },
  {
   "cell_type": "code",
   "execution_count": 66,
   "metadata": {
    "collapsed": true
   },
   "outputs": [],
   "source": [
    "output = np.zeros((496,64))"
   ]
  },
  {
   "cell_type": "code",
   "execution_count": 67,
   "metadata": {
    "collapsed": true
   },
   "outputs": [],
   "source": [
    "for i in range(496):\n",
    "    for j in range(64):\n",
    "        index = np.argmax(prediction[i][j])\n",
    "        output[i][j] = index"
   ]
  },
  {
   "cell_type": "code",
   "execution_count": 68,
   "metadata": {},
   "outputs": [
    {
     "name": "stdout",
     "output_type": "stream",
     "text": [
      "(496, 64)\n"
     ]
    }
   ],
   "source": [
    "print (output.shape)"
   ]
  },
  {
   "cell_type": "code",
   "execution_count": 69,
   "metadata": {
    "collapsed": true
   },
   "outputs": [],
   "source": [
    "color= np.zeros((496,64,3))"
   ]
  },
  {
   "cell_type": "code",
   "execution_count": 70,
   "metadata": {
    "collapsed": true
   },
   "outputs": [],
   "source": [
    "for j in range(496):\n",
    "    for k in range(64):\n",
    "        if(output[j][k]==0):\n",
    "            color[j][k] = [0,0,0]\n",
    "        if(output[j][k]==1):\n",
    "            color[j][k] = [128,0,0]\n",
    "        if(output[j][k]==2):\n",
    "            color[j][k] = [0,128,0]\n",
    "        if(output[j][k]==3):\n",
    "            color[j][k] = [128,128,0] \n",
    "        if(output[j][k]==4):\n",
    "            color[j][k] = [0,128,128]\n",
    "        if(output[j][k]==5):\n",
    "            color[j][k] = [64,0,0]\n",
    "        if(output[j][k]==6):\n",
    "            color[j][k] = [192,0,0]\n",
    "        if(output[j][k]==7):\n",
    "            color[j][k] = [64,128,0]"
   ]
  },
  {
   "cell_type": "code",
   "execution_count": 71,
   "metadata": {},
   "outputs": [
    {
     "data": {
      "text/plain": [
       "<matplotlib.image.AxesImage at 0x7f84257fba50>"
      ]
     },
     "execution_count": 71,
     "metadata": {},
     "output_type": "execute_result"
    }
   ],
   "source": [
    "plt.imshow(color)"
   ]
  },
  {
   "cell_type": "code",
   "execution_count": 72,
   "metadata": {},
   "outputs": [
    {
     "data": {
      "image/png": "[encoded data removed]",
      "text/plain": [
       "<matplotlib.figure.Figure at 0x7f84258bd3d0>"
      ]
     },
     "metadata": {},
     "output_type": "display_data"
    }
   ],
   "source": [
    "plt.show()"
   ]
  },
  {
   "cell_type": "code",
   "execution_count": null,
   "metadata": {
    "collapsed": true
   },
   "outputs": [],
   "source": []
  }
 ],
 "metadata": {
  "kernelspec": {
   "display_name": "Python 2",
   "language": "python",
   "name": "python2"
  },
  "language_info": {
   "codemirror_mode": {
    "name": "ipython",
    "version": 2
   },
   "file_extension": ".py",
   "mimetype": "text/x-python",
   "name": "python",
   "nbconvert_exporter": "python",
   "pygments_lexer": "ipython2",
   "version": "2.7.12"
  }
 },
 "nbformat": 4,
 "nbformat_minor": 2
}
