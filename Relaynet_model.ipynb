{
 "cells": [
  {
   "cell_type": "code",
   "execution_count": 2,
   "metadata": {},
   "outputs": [],
   "source": [
    "import keras\n",
    "from keras.layers import Activation\n",
    "from keras.layers import Conv2D, MaxPooling2D\n",
    "from keras.models import Model\n",
    "from keras.layers import Input\n",
    "from keras.layers import BatchNormalization\n",
    "from keras.layers import UpSampling2D\n",
    "from keras.layers import Concatenate\n",
    "from keras import backend as K\n",
    "from keras.layers import Lambda \n"
   ]
  },
  {
   "cell_type": "code",
   "execution_count": 3,
   "metadata": {
    "collapsed": true
   },
   "outputs": [],
   "source": [
    "import scipy.io as scio\n",
    "import numpy as np    \n",
    "import os\n",
    "import matplotlib.pyplot as plt\n",
    "from scipy.misc import imsave\n",
    "from scipy import ndimage, misc\n",
    "from numpy import unravel_index"
   ]
  },
  {
   "cell_type": "code",
   "execution_count": 3,
   "metadata": {
    "collapsed": true
   },
   "outputs": [],
   "source": [
    "images = []\n",
    "for root, dirnames, filenames in os.walk(\"Dataset/Train_images/\"):\n",
    "    for filename in filenames:\n",
    "        filepath = os.path.join(root, filename)\n",
    "        image = ndimage.imread(filepath, mode=\"L\")\n",
    "        images.append(image)"
   ]
  },
  {
   "cell_type": "code",
   "execution_count": 4,
   "metadata": {},
   "outputs": [
    {
     "name": "stdout",
     "output_type": "stream",
     "text": [
      "496\n"
     ]
    }
   ],
   "source": [
    "print (len(image))\n"
   ]
  },
  {
   "cell_type": "code",
   "execution_count": 5,
   "metadata": {
    "collapsed": true
   },
   "outputs": [],
   "source": [
    "labels = np.load('train_labels.npy')\n",
    "labels_list = []\n",
    "for i in range(len(labels)):\n",
    "    labels_list.append(labels[i])"
   ]
  },
  {
   "cell_type": "code",
   "execution_count": 6,
   "metadata": {},
   "outputs": [
    {
     "name": "stdout",
     "output_type": "stream",
     "text": [
      "770\n",
      "<type 'numpy.ndarray'>\n",
      "770\n",
      "(496, 64, 1)\n"
     ]
    }
   ],
   "source": [
    "print (len(labels_list))\n",
    "print (type(labels_list[0]))\n",
    "\n",
    "\n",
    "images=np.array(images)\n",
    "print(images.shape[0])\n",
    "images = images.reshape(images.shape[0],496,64,1)\n",
    "\n",
    "print(images[0].shape)\n",
    "train_labels=labels_list[0:500]\n",
    "train_images=images[0:500]\n",
    "test_labels = labels_list[500:770]\n",
    "test_images = images[500:770]"
   ]
  },
  {
   "cell_type": "code",
   "execution_count": 7,
   "metadata": {},
   "outputs": [
    {
     "name": "stdout",
     "output_type": "stream",
     "text": [
      "500\n",
      "500\n",
      "(500, 496, 64, 8)\n"
     ]
    }
   ],
   "source": [
    "print (len(train_images))\n",
    "print (len(train_labels))\n",
    "print (np.array(train_labels).shape)"
   ]
  },
  {
   "cell_type": "code",
   "execution_count": 11,
   "metadata": {},
   "outputs": [
    {
     "name": "stdout",
     "output_type": "stream",
     "text": [
      "(1, 1, 1)\n",
      "(2, 2, 2)\n"
     ]
    }
   ],
   "source": [
    "#x = np.array([[1,2],[3,4]])\n",
    "x = np.ndarray(shape=(2,2,2),)\n",
    "temp = np.zeros((2,2,2))\n",
    "temp[0][0][0] = 1\n",
    "temp[0][0][1] = 2\n",
    "temp[0][1][0] = 3\n",
    "temp[0][1][1] = 4\n",
    "temp[1][0][0] = 1\n",
    "temp[1][0][1] = 2\n",
    "temp[1][1][0] = 1\n",
    "temp[1][1][1] = 9\n",
    "print (unravel_index(temp.argmax(),temp.shape))\n",
    "print (x.shape)"
   ]
  },
  {
   "cell_type": "code",
   "execution_count": 12,
   "metadata": {},
   "outputs": [
    {
     "name": "stdout",
     "output_type": "stream",
     "text": [
      "(2, 2, 2)\n",
      "(1, 2, 2, 2)\n"
     ]
    }
   ],
   "source": [
    "print(temp.shape)\n",
    "temp = np.expand_dims(temp,axis = 0)\n",
    "print(temp.shape)"
   ]
  },
  {
   "cell_type": "code",
   "execution_count": 48,
   "metadata": {},
   "outputs": [],
   "source": [
    "pooling_indices1 = np.array([])\n",
    "pooling_indices2 = np.array([])\n",
    "pooling_indices3 = np.array([])\n"
   ]
  },
  {
   "cell_type": "code",
   "execution_count": 53,
   "metadata": {},
   "outputs": [],
   "source": [
    "def Pooling_layer1(x) :\n",
    "    matrix = x[0]\n",
    "    rows = matrix.shape[0]\n",
    "    cols = matrix.shape[1]\n",
    "    depth = matrix.shape[2]\n",
    "    pooled_mat1 = np.zeros((int(rows/2),int(cols/2),depth))\n",
    "    pooled_indices1 = np.zeros((int(rows/2),int(cols/2),int(depth),2))\n",
    "   # print (pooled_mat.shape)\n",
    "    for i in range(depth):\n",
    "        for j in range(rows/2):\n",
    "            for k in range(cols/2):\n",
    "                temp = np.zeros((2,2))\n",
    "                temp[0][0] = matrix[j*2][k*2][i]\n",
    "                temp[0][1] = matrix[j*2][k*2+1][i]\n",
    "                temp[1][0] = matrix[j*2+1][k*2][i]\n",
    "                temp[1][1] = matrix[j*2+1][k*2+1][i]\n",
    "                index = unravel_index(temp.argmax(),temp.shape)\n",
    "                pooled_mat1[j][k][i] = temp.max()\n",
    "                pooled_indices1[j][k][i][0] = index[0]\n",
    "                pooled_indices1[j][k][i][1] = index[1]\n",
    "    return (np.expand_dims(pooled_mat1,axis=0))\n",
    "    \n",
    "\n",
    "#output = Pooling_layer1(temp)\n",
    "#print (output[0])\n"
   ]
  },
  {
   "cell_type": "code",
   "execution_count": null,
   "metadata": {
    "collapsed": true
   },
   "outputs": [],
   "source": [
    "def Pooling_layer2(x) :\n",
    "    matrix = x[0]\n",
    "    rows = matrix.shape[0]\n",
    "    cols = matrix.shape[1]\n",
    "    depth = matrix.shape[2]\n",
    "    pooled_mat2 = np.zeros((rows/2,cols/2,depth))\n",
    "    pooled_indices2 = np.zeros((rows/2,cols/2,depth,2))\n",
    "   # print (pooled_mat.shape)\n",
    "    for i in range(depth):\n",
    "        for j in range(rows/2):\n",
    "            for k in range(cols/2):\n",
    "                temp = np.zeros((2,2))\n",
    "                temp[0][0] = matrix[j*2][k*2][i]\n",
    "                temp[0][1] = matrix[j*2][k*2+1][i]\n",
    "                temp[1][0] = matrix[j*2+1][k*2][i]\n",
    "                temp[1][1] = matrix[j*2+1][k*2+1][i]\n",
    "                index = unravel_index(temp.argmax(),temp.shape)\n",
    "                pooled_mat2[j][k][i] = temp.max()\n",
    "                pooled_indices2[j][k][i][0] = index[0]\n",
    "                pooled_indices2[j][k][i][1] = index[1]\n",
    "    return (np.expand_dims(pooled_mat2,axis=0))\n",
    "    \n",
    "\n",
    "#output = Pooling_layer1(temp)\n",
    "#print (output[0])\n"
   ]
  },
  {
   "cell_type": "code",
   "execution_count": null,
   "metadata": {
    "collapsed": true
   },
   "outputs": [],
   "source": [
    "def Pooling_layer3(x) :\n",
    "    matrix = x[0]\n",
    "    rows = matrix.shape[0]\n",
    "    cols = matrix.shape[1]\n",
    "    depth = matrix.shape[2]\n",
    "    pooled_mat3 = np.zeros((rows/2,cols/2,depth))\n",
    "    pooled_indices3 = np.zeros((rows/2,cols/2,depth,2))\n",
    "   # print (pooled_mat.shape)\n",
    "    for i in range(depth):\n",
    "        for j in range(rows/2):\n",
    "            for k in range(cols/2):\n",
    "                temp = np.zeros((2,2))\n",
    "                temp[0][0] = matrix[j*2][k*2][i]\n",
    "                temp[0][1] = matrix[j*2][k*2+1][i]\n",
    "                temp[1][0] = matrix[j*2+1][k*2][i]\n",
    "                temp[1][1] = matrix[j*2+1][k*2+1][i]\n",
    "                index = unravel_index(temp.argmax(),temp.shape)\n",
    "                pooled_mat3[j][k][i] = temp.max()\n",
    "                pooled_indices3[j][k][i][0] = index[0]\n",
    "                pooled_indices3[j][k][i][1] = index[1]\n",
    "    return (np.expand_dims(pooled_mat3,axis=0))\n",
    "    \n",
    "\n",
    "#output = Pooling_layer1(temp)\n",
    "#print (output[0])\n"
   ]
  },
  {
   "cell_type": "code",
   "execution_count": 36,
   "metadata": {
    "collapsed": true
   },
   "outputs": [],
   "source": [
    "def Pooling_output_shape_1(x):\n",
    "    shape = list(x.shape)\n",
    "    shape[2] = (shape[2])/2\n",
    "    shape[1] = (shape[1])/2\n",
    "    return tuple(shape)\n",
    "\n",
    "def Pooling_output_shape_2(x):\n",
    "    shape = list(x.shape)\n",
    "    shape[2] = (shape[2])/2\n",
    "    shape[1] = (shape[1])/2\n",
    "    return tuple(shape)\n",
    "\n",
    "def Pooling_output_shape_3(x):\n",
    "    shape = list(x.shape)\n",
    "    shape[2] = (shape[2])/2\n",
    "    shape[1] = (shape[1])/2\n",
    "    return tuple(shape)"
   ]
  },
  {
   "cell_type": "code",
   "execution_count": 35,
   "metadata": {
    "collapsed": true
   },
   "outputs": [],
   "source": [
    "pooling_indices = np.zeros((2,2,1,2))\n",
    "pooling_indices[0][0][0][0] = 0\n",
    "pooling_indices[0][0][0][1] = 0\n",
    "pooling_indices[0][1][0][0] = 1\n",
    "pooling_indices[0][1][0][1] = 1\n",
    "pooling_indices[1][0][0][0] = 1\n",
    "pooling_indices[1][0][0][1] = 1\n",
    "pooling_indices[1][1][0][0] = 0\n",
    "pooling_indices[1][1][0][1] = 1"
   ]
  },
  {
   "cell_type": "code",
   "execution_count": 40,
   "metadata": {
    "collapsed": true
   },
   "outputs": [],
   "source": [
    "def Unpooling_layer1(x):\n",
    "    matrix = np.squeeze(x,axis = 0)\n",
    "    shape = (x.shape)\n",
    "    unpooled_mat1 = np.zeros((shape[0],shape[1]*2,shape[2]*2,shape[3]))\n",
    "    for i in range(shape[3]):\n",
    "        for j in range(shape[1]):\n",
    "            for k in range(shape[2]):\n",
    "                x_index = j*2+pooling_indices[j][k][i][0]\n",
    "                y_index = k*2+pooling_indices[j][k][i][1]\n",
    "                unpooled_mat1[0][x_index][y_index][i] = matrix[j][k][i]\n",
    "    return unpooled_mat1\n",
    "    "
   ]
  },
  {
   "cell_type": "code",
   "execution_count": null,
   "metadata": {
    "collapsed": true
   },
   "outputs": [],
   "source": [
    "def Unpooling_layer2(x):\n",
    "    matrix = np.squeeze(x,axis = 0)\n",
    "    shape = (x.shape)\n",
    "    unpooled_mat2 = np.zeros((shape[0],shape[1]*2,shape[2]*2,shape[3]))\n",
    "    for i in range(shape[3]):\n",
    "        for j in range(shape[1]):\n",
    "            for k in range(shape[2]):\n",
    "                x_index = j*2+pooling_indices[j][k][i][0]\n",
    "                y_index = k*2+pooling_indices[j][k][i][1]\n",
    "                unpooled_mat2[0][x_index][y_index][i] = matrix[j][k][i]\n",
    "    return unpooled_mat2\n",
    "    "
   ]
  },
  {
   "cell_type": "code",
   "execution_count": null,
   "metadata": {
    "collapsed": true
   },
   "outputs": [],
   "source": [
    "def Unpooling_layer3(x):\n",
    "    matrix = np.squeeze(x,axis = 0)\n",
    "    shape = (x.shape)\n",
    "    unpooled_mat3 = np.zeros((shape[0],shape[1]*2,shape[2]*2,shape[3]))\n",
    "    for i in range(shape[3]):\n",
    "        for j in range(shape[1]):\n",
    "            for k in range(shape[2]):\n",
    "                x_index = j*2+pooling_indices[j][k][i][0]\n",
    "                y_index = k*2+pooling_indices[j][k][i][1]\n",
    "                unpooled_mat3[0][x_index][y_index][i] = matrix[j][k][i]\n",
    "    return unpooled_mat3\n",
    "    "
   ]
  },
  {
   "cell_type": "code",
   "execution_count": 41,
   "metadata": {
    "collapsed": true
   },
   "outputs": [],
   "source": [
    "def Unpooling_output_shape1(x):\n",
    "    shape = (x.shape)\n",
    "    shape[2] = shape[2]*2\n",
    "    shape[1] = shape[1]*2\n",
    "    return tuple(shape)\n",
    "\n",
    "def Unpooling_output_shape2(x):\n",
    "    shape = (x.shape)\n",
    "    shape[2] = shape[2]*2\n",
    "    shape[1] = shape[1]*2\n",
    "    return tuple(shape)\n",
    "\n",
    "def Unpooling_output_shape3(x):\n",
    "    shape = (x.shape)\n",
    "    shape[2] = shape[2]*2\n",
    "    shape[1] = shape[1]*2\n",
    "    return tuple(shape)"
   ]
  },
  {
   "cell_type": "code",
   "execution_count": 42,
   "metadata": {},
   "outputs": [
    {
     "name": "stdout",
     "output_type": "stream",
     "text": [
      "(2, 2, 1)\n",
      "[[[  7.]\n",
      "  [  0.]\n",
      "  [  0.]\n",
      "  [  0.]]\n",
      "\n",
      " [[  0.]\n",
      "  [  0.]\n",
      "  [  0.]\n",
      "  [  7.]]\n",
      "\n",
      " [[  0.]\n",
      "  [  0.]\n",
      "  [  0.]\n",
      "  [  6.]]\n",
      "\n",
      " [[  0.]\n",
      "  [ 10.]\n",
      "  [  0.]\n",
      "  [  0.]]]\n"
     ]
    },
    {
     "name": "stderr",
     "output_type": "stream",
     "text": [
      "/usr/local/lib/python2.7/dist-packages/ipykernel_launcher.py:10: VisibleDeprecationWarning: using a non-integer number instead of an integer will result in an error in the future\n",
      "  # Remove the CWD from sys.path while we load stuff.\n"
     ]
    }
   ],
   "source": [
    "sample = np.zeros((2,2,1))\n",
    "sample[0][0][0] = 7\n",
    "sample[0][1][0] = 7\n",
    "sample[1][0][0] = 10\n",
    "sample[1][1][0] = 6\n",
    "\n",
    "print(sample.shape)\n",
    "sol = Unpooling_layer1(np.expand_dims(sample,axis=0))\n",
    "print(np.squeeze(sol,axis = 0))"
   ]
  },
  {
   "cell_type": "code",
   "execution_count": 54,
   "metadata": {},
   "outputs": [
    {
     "ename": "TypeError",
     "evalue": "__int__ returned non-int (type NoneType)",
     "output_type": "error",
     "traceback": [
      "\u001b[0;31m---------------------------------------------------------------------------\u001b[0m",
      "\u001b[0;31mTypeError\u001b[0m                                 Traceback (most recent call last)",
      "\u001b[0;32m<ipython-input-54-39c54259f918>\u001b[0m in \u001b[0;36m<module>\u001b[0;34m()\u001b[0m\n\u001b[1;32m      4\u001b[0m \u001b[0mL1\u001b[0m \u001b[0;34m=\u001b[0m \u001b[0mConv2D\u001b[0m\u001b[0;34m(\u001b[0m\u001b[0;36m64\u001b[0m\u001b[0;34m,\u001b[0m\u001b[0mkernel_size\u001b[0m\u001b[0;34m=\u001b[0m\u001b[0;34m(\u001b[0m\u001b[0;36m7\u001b[0m\u001b[0;34m,\u001b[0m\u001b[0;36m3\u001b[0m\u001b[0;34m)\u001b[0m\u001b[0;34m,\u001b[0m\u001b[0mactivation\u001b[0m \u001b[0;34m=\u001b[0m \u001b[0;34m'relu'\u001b[0m\u001b[0;34m,\u001b[0m\u001b[0mpadding\u001b[0m \u001b[0;34m=\u001b[0m \u001b[0;34m\"same\"\u001b[0m\u001b[0;34m)\u001b[0m\u001b[0;34m(\u001b[0m\u001b[0minputs\u001b[0m\u001b[0;34m)\u001b[0m\u001b[0;34m\u001b[0m\u001b[0m\n\u001b[1;32m      5\u001b[0m \u001b[0mL2\u001b[0m \u001b[0;34m=\u001b[0m \u001b[0mBatchNormalization\u001b[0m\u001b[0;34m(\u001b[0m\u001b[0;34m)\u001b[0m\u001b[0;34m(\u001b[0m\u001b[0mL1\u001b[0m\u001b[0;34m)\u001b[0m\u001b[0;34m\u001b[0m\u001b[0m\n\u001b[0;32m----> 6\u001b[0;31m \u001b[0mL3\u001b[0m \u001b[0;34m=\u001b[0m \u001b[0mLambda\u001b[0m\u001b[0;34m(\u001b[0m\u001b[0mPooling_layer1\u001b[0m\u001b[0;34m,\u001b[0m\u001b[0moutput_shape\u001b[0m \u001b[0;34m=\u001b[0m \u001b[0mPooling_output_shape_1\u001b[0m\u001b[0;34m)\u001b[0m\u001b[0;34m(\u001b[0m\u001b[0mL2\u001b[0m\u001b[0;34m)\u001b[0m\u001b[0;34m\u001b[0m\u001b[0m\n\u001b[0m\u001b[1;32m      7\u001b[0m \u001b[0;31m#L3 = MaxPooling2D(pool_size=(2,2))(L2)\u001b[0m\u001b[0;34m\u001b[0m\u001b[0;34m\u001b[0m\u001b[0m\n\u001b[1;32m      8\u001b[0m \u001b[0mL4\u001b[0m \u001b[0;34m=\u001b[0m \u001b[0mConv2D\u001b[0m\u001b[0;34m(\u001b[0m\u001b[0;36m64\u001b[0m\u001b[0;34m,\u001b[0m\u001b[0mkernel_size\u001b[0m\u001b[0;34m=\u001b[0m\u001b[0;34m(\u001b[0m\u001b[0;36m7\u001b[0m\u001b[0;34m,\u001b[0m\u001b[0;36m3\u001b[0m\u001b[0;34m)\u001b[0m\u001b[0;34m,\u001b[0m\u001b[0mactivation\u001b[0m \u001b[0;34m=\u001b[0m \u001b[0;34m'relu'\u001b[0m\u001b[0;34m,\u001b[0m\u001b[0mpadding\u001b[0m \u001b[0;34m=\u001b[0m \u001b[0;34m\"same\"\u001b[0m\u001b[0;34m)\u001b[0m\u001b[0;34m(\u001b[0m\u001b[0mL3\u001b[0m\u001b[0;34m)\u001b[0m\u001b[0;34m\u001b[0m\u001b[0m\n",
      "\u001b[0;32m/usr/local/lib/python2.7/dist-packages/keras/engine/topology.pyc\u001b[0m in \u001b[0;36m__call__\u001b[0;34m(self, inputs, **kwargs)\u001b[0m\n\u001b[1;32m    600\u001b[0m \u001b[0;34m\u001b[0m\u001b[0m\n\u001b[1;32m    601\u001b[0m             \u001b[0;31m# Actually call the layer, collecting output(s), mask(s), and shape(s).\u001b[0m\u001b[0;34m\u001b[0m\u001b[0;34m\u001b[0m\u001b[0m\n\u001b[0;32m--> 602\u001b[0;31m             \u001b[0moutput\u001b[0m \u001b[0;34m=\u001b[0m \u001b[0mself\u001b[0m\u001b[0;34m.\u001b[0m\u001b[0mcall\u001b[0m\u001b[0;34m(\u001b[0m\u001b[0minputs\u001b[0m\u001b[0;34m,\u001b[0m \u001b[0;34m**\u001b[0m\u001b[0mkwargs\u001b[0m\u001b[0;34m)\u001b[0m\u001b[0;34m\u001b[0m\u001b[0m\n\u001b[0m\u001b[1;32m    603\u001b[0m             \u001b[0moutput_mask\u001b[0m \u001b[0;34m=\u001b[0m \u001b[0mself\u001b[0m\u001b[0;34m.\u001b[0m\u001b[0mcompute_mask\u001b[0m\u001b[0;34m(\u001b[0m\u001b[0minputs\u001b[0m\u001b[0;34m,\u001b[0m \u001b[0mprevious_mask\u001b[0m\u001b[0;34m)\u001b[0m\u001b[0;34m\u001b[0m\u001b[0m\n\u001b[1;32m    604\u001b[0m \u001b[0;34m\u001b[0m\u001b[0m\n",
      "\u001b[0;32m/usr/local/lib/python2.7/dist-packages/keras/layers/core.pyc\u001b[0m in \u001b[0;36mcall\u001b[0;34m(self, inputs, mask)\u001b[0m\n\u001b[1;32m    648\u001b[0m         \u001b[0;32mif\u001b[0m \u001b[0mhas_arg\u001b[0m\u001b[0;34m(\u001b[0m\u001b[0mself\u001b[0m\u001b[0;34m.\u001b[0m\u001b[0mfunction\u001b[0m\u001b[0;34m,\u001b[0m \u001b[0;34m'mask'\u001b[0m\u001b[0;34m)\u001b[0m\u001b[0;34m:\u001b[0m\u001b[0;34m\u001b[0m\u001b[0m\n\u001b[1;32m    649\u001b[0m             \u001b[0marguments\u001b[0m\u001b[0;34m[\u001b[0m\u001b[0;34m'mask'\u001b[0m\u001b[0;34m]\u001b[0m \u001b[0;34m=\u001b[0m \u001b[0mmask\u001b[0m\u001b[0;34m\u001b[0m\u001b[0m\n\u001b[0;32m--> 650\u001b[0;31m         \u001b[0;32mreturn\u001b[0m \u001b[0mself\u001b[0m\u001b[0;34m.\u001b[0m\u001b[0mfunction\u001b[0m\u001b[0;34m(\u001b[0m\u001b[0minputs\u001b[0m\u001b[0;34m,\u001b[0m \u001b[0;34m**\u001b[0m\u001b[0marguments\u001b[0m\u001b[0;34m)\u001b[0m\u001b[0;34m\u001b[0m\u001b[0m\n\u001b[0m\u001b[1;32m    651\u001b[0m \u001b[0;34m\u001b[0m\u001b[0m\n\u001b[1;32m    652\u001b[0m     \u001b[0;32mdef\u001b[0m \u001b[0mcompute_mask\u001b[0m\u001b[0;34m(\u001b[0m\u001b[0mself\u001b[0m\u001b[0;34m,\u001b[0m \u001b[0minputs\u001b[0m\u001b[0;34m,\u001b[0m \u001b[0mmask\u001b[0m\u001b[0;34m=\u001b[0m\u001b[0mNone\u001b[0m\u001b[0;34m)\u001b[0m\u001b[0;34m:\u001b[0m\u001b[0;34m\u001b[0m\u001b[0m\n",
      "\u001b[0;32m<ipython-input-53-b1601ea7a781>\u001b[0m in \u001b[0;36mPooling_layer1\u001b[0;34m(x)\u001b[0m\n\u001b[1;32m      4\u001b[0m     \u001b[0mcols\u001b[0m \u001b[0;34m=\u001b[0m \u001b[0mmatrix\u001b[0m\u001b[0;34m.\u001b[0m\u001b[0mshape\u001b[0m\u001b[0;34m[\u001b[0m\u001b[0;36m1\u001b[0m\u001b[0;34m]\u001b[0m\u001b[0;34m\u001b[0m\u001b[0m\n\u001b[1;32m      5\u001b[0m     \u001b[0mdepth\u001b[0m \u001b[0;34m=\u001b[0m \u001b[0mmatrix\u001b[0m\u001b[0;34m.\u001b[0m\u001b[0mshape\u001b[0m\u001b[0;34m[\u001b[0m\u001b[0;36m2\u001b[0m\u001b[0;34m]\u001b[0m\u001b[0;34m\u001b[0m\u001b[0m\n\u001b[0;32m----> 6\u001b[0;31m     \u001b[0mpooled_mat1\u001b[0m \u001b[0;34m=\u001b[0m \u001b[0mnp\u001b[0m\u001b[0;34m.\u001b[0m\u001b[0mzeros\u001b[0m\u001b[0;34m(\u001b[0m\u001b[0;34m(\u001b[0m\u001b[0mint\u001b[0m\u001b[0;34m(\u001b[0m\u001b[0mrows\u001b[0m\u001b[0;34m/\u001b[0m\u001b[0;36m2\u001b[0m\u001b[0;34m)\u001b[0m\u001b[0;34m,\u001b[0m\u001b[0mint\u001b[0m\u001b[0;34m(\u001b[0m\u001b[0mcols\u001b[0m\u001b[0;34m/\u001b[0m\u001b[0;36m2\u001b[0m\u001b[0;34m)\u001b[0m\u001b[0;34m,\u001b[0m\u001b[0mdepth\u001b[0m\u001b[0;34m)\u001b[0m\u001b[0;34m)\u001b[0m\u001b[0;34m\u001b[0m\u001b[0m\n\u001b[0m\u001b[1;32m      7\u001b[0m     \u001b[0mpooled_indices1\u001b[0m \u001b[0;34m=\u001b[0m \u001b[0mnp\u001b[0m\u001b[0;34m.\u001b[0m\u001b[0mzeros\u001b[0m\u001b[0;34m(\u001b[0m\u001b[0;34m(\u001b[0m\u001b[0mint\u001b[0m\u001b[0;34m(\u001b[0m\u001b[0mrows\u001b[0m\u001b[0;34m/\u001b[0m\u001b[0;36m2\u001b[0m\u001b[0;34m)\u001b[0m\u001b[0;34m,\u001b[0m\u001b[0mint\u001b[0m\u001b[0;34m(\u001b[0m\u001b[0mcols\u001b[0m\u001b[0;34m/\u001b[0m\u001b[0;36m2\u001b[0m\u001b[0;34m)\u001b[0m\u001b[0;34m,\u001b[0m\u001b[0mint\u001b[0m\u001b[0;34m(\u001b[0m\u001b[0mdepth\u001b[0m\u001b[0;34m)\u001b[0m\u001b[0;34m,\u001b[0m\u001b[0;36m2\u001b[0m\u001b[0;34m)\u001b[0m\u001b[0;34m)\u001b[0m\u001b[0;34m\u001b[0m\u001b[0m\n\u001b[1;32m      8\u001b[0m    \u001b[0;31m# print (pooled_mat.shape)\u001b[0m\u001b[0;34m\u001b[0m\u001b[0;34m\u001b[0m\u001b[0m\n",
      "\u001b[0;31mTypeError\u001b[0m: __int__ returned non-int (type NoneType)"
     ]
    }
   ],
   "source": [
    "# Defines the input tensor\n",
    "inputs = Input(shape=(496,None,1))\n",
    "\n",
    "L1 = Conv2D(64,kernel_size=(7,3),activation = 'relu',padding = \"same\")(inputs)\n",
    "L2 = BatchNormalization()(L1)\n",
    "L3 = Lambda(Pooling_layer1,output_shape = Pooling_output_shape_1)(L2)\n",
    "#L3 = MaxPooling2D(pool_size=(2,2))(L2)\n",
    "L4 = Conv2D(64,kernel_size=(7,3),activation = 'relu',padding = \"same\")(L3)\n",
    "L5 = BatchNormalization()(L4)\n",
    "L6 = MaxPooling2D(pool_size=(2,2))(L5)\n",
    "L7 = Conv2D(64,kernel_size=(7,3),activation = 'relu',padding = \"same\")(L6)\n",
    "L8 = BatchNormalization()(L7)\n",
    "L9 = MaxPooling2D(pool_size=(2,2))(L8)\n",
    "L10 = Conv2D(64,kernel_size=(7,3),activation = 'relu',padding = \"same\")(L9)\n",
    "L11 = BatchNormalization()(L10)\n",
    "L12 = UpSampling2D(size = (2,2))(L11)\n",
    "L13 = Concatenate(axis = 3)([L8,L12])\n",
    "L14 = Conv2D(64,kernel_size=(7,3),activation = 'relu',padding = \"same\")(L13)\n",
    "L15 = BatchNormalization()(L14)\n",
    "L16 = UpSampling2D(size= (2,2))(L15)\n",
    "L17 = Concatenate(axis = 3)([L16,L5])\n",
    "L18 = Conv2D(64,kernel_size=(7,3),activation = 'relu',padding = \"same\")(L17)\n",
    "L19 = BatchNormalization()(L18)\n",
    "L20 = UpSampling2D(size=(2,2))(L19)\n",
    "L21 = Concatenate(axis=3)([L20,L2])\n",
    "L22 = Conv2D(64,kernel_size=(7,3),activation = 'relu',padding = \"same\")(L21)\n",
    "L23 = BatchNormalization()(L22)\n",
    "L24 = Conv2D(8,kernel_size=(1,1),activation = 'softmax',padding = \"same\")(L23)\n",
    "\n",
    "model = Model(inputs = inputs, outputs = L24)\n",
    "model.summary()"
   ]
  },
  {
   "cell_type": "code",
   "execution_count": 9,
   "metadata": {
    "collapsed": true
   },
   "outputs": [],
   "source": [
    "model.compile(optimizer='Adam',loss='categorical_crossentropy',metrics=['accuracy'])"
   ]
  },
  {
   "cell_type": "code",
   "execution_count": 10,
   "metadata": {
    "scrolled": true
   },
   "outputs": [
    {
     "name": "stdout",
     "output_type": "stream",
     "text": [
      "Train on 515 samples, validate on 255 samples\n",
      "Epoch 1/10\n",
      "515/515 [==============================] - 1375s - loss: 1.4785 - acc: 0.7307 - val_loss: 1.8171 - val_acc: 0.8342\n",
      "Epoch 2/10\n",
      "515/515 [==============================] - 1358s - loss: 0.9489 - acc: 0.7920 - val_loss: 1.1931 - val_acc: 0.7953\n",
      "Epoch 3/10\n",
      "515/515 [==============================] - 1431s - loss: 0.7919 - acc: 0.8005 - val_loss: 1.2294 - val_acc: 0.7746\n",
      "Epoch 4/10\n",
      "515/515 [==============================] - 1372s - loss: 0.7093 - acc: 0.8020 - val_loss: 0.6476 - val_acc: 0.8346\n",
      "Epoch 5/10\n",
      "515/515 [==============================] - 1476s - loss: 0.6552 - acc: 0.8054 - val_loss: 0.6271 - val_acc: 0.8318\n",
      "Epoch 6/10\n",
      "515/515 [==============================] - 1647s - loss: 0.7162 - acc: 0.8035 - val_loss: 0.6038 - val_acc: 0.8344\n",
      "Epoch 7/10\n",
      "515/515 [==============================] - 1455s - loss: 0.6374 - acc: 0.8073 - val_loss: 0.5707 - val_acc: 0.8348\n",
      "Epoch 8/10\n",
      "515/515 [==============================] - 1467s - loss: 0.6300 - acc: 0.8076 - val_loss: 0.8078 - val_acc: 0.7545\n",
      "Epoch 9/10\n",
      "515/515 [==============================] - 1536s - loss: 0.6687 - acc: 0.8006 - val_loss: 0.6330 - val_acc: 0.8125\n",
      "Epoch 10/10\n",
      "515/515 [==============================] - 1519s - loss: 0.6285 - acc: 0.8031 - val_loss: 0.5784 - val_acc: 0.8229\n"
     ]
    },
    {
     "data": {
      "text/plain": [
       "<keras.callbacks.History at 0x7f855d2b7210>"
      ]
     },
     "execution_count": 10,
     "metadata": {},
     "output_type": "execute_result"
    }
   ],
   "source": [
    "train_images_2=np.array(images)\n",
    "train_labels_2=np.array(labels_list)\n",
    "model.fit(train_images_2,train_labels_2,batch_size=8,epochs=10,validation_split = 0.33)"
   ]
  },
  {
   "cell_type": "code",
   "execution_count": 11,
   "metadata": {
    "collapsed": true
   },
   "outputs": [],
   "source": [
    "model.save_weights(\"weights.h5\")"
   ]
  },
  {
   "cell_type": "code",
   "execution_count": 55,
   "metadata": {
    "collapsed": true
   },
   "outputs": [],
   "source": [
    "testing_image = ndimage.imread('Dataset/testing_image_4.png',mode = 'L')"
   ]
  },
  {
   "cell_type": "code",
   "execution_count": 56,
   "metadata": {},
   "outputs": [
    {
     "name": "stdout",
     "output_type": "stream",
     "text": [
      "496\n"
     ]
    }
   ],
   "source": [
    "testing_image = np.array(testing_image)\n",
    "print(testing_image.shape[0])"
   ]
  },
  {
   "cell_type": "code",
   "execution_count": 57,
   "metadata": {
    "collapsed": true
   },
   "outputs": [],
   "source": [
    "testing_image = testing_image.reshape(1,496,64,1)"
   ]
  },
  {
   "cell_type": "code",
   "execution_count": 58,
   "metadata": {
    "collapsed": true
   },
   "outputs": [],
   "source": [
    "prediction = model.predict(testing_image)"
   ]
  },
  {
   "cell_type": "code",
   "execution_count": 59,
   "metadata": {},
   "outputs": [
    {
     "name": "stdout",
     "output_type": "stream",
     "text": [
      "(1, 496, 64, 8)\n"
     ]
    }
   ],
   "source": [
    "print(prediction.shape)"
   ]
  },
  {
   "cell_type": "code",
   "execution_count": 60,
   "metadata": {
    "collapsed": true
   },
   "outputs": [],
   "source": [
    "prediction = np.squeeze(prediction,axis = 0)"
   ]
  },
  {
   "cell_type": "code",
   "execution_count": 61,
   "metadata": {},
   "outputs": [
    {
     "name": "stdout",
     "output_type": "stream",
     "text": [
      "(496, 64, 8)\n"
     ]
    }
   ],
   "source": [
    "print(prediction.shape)\n"
   ]
  },
  {
   "cell_type": "code",
   "execution_count": 62,
   "metadata": {},
   "outputs": [
    {
     "name": "stdout",
     "output_type": "stream",
     "text": [
      "[[[  9.90431845e-01   5.23849914e-04   2.38480396e-03 ...,   3.14290333e-03\n",
      "     7.15359987e-04   9.47752633e-05]\n",
      "  [  9.95876908e-01   1.26564744e-04   5.17529435e-04 ...,   2.05338211e-03\n",
      "     3.22114036e-04   4.62890821e-05]\n",
      "  [  9.91709769e-01   3.47106252e-04   1.40436867e-03 ...,   3.52300471e-03\n",
      "     4.66498459e-04   1.45449289e-04]\n",
      "  ..., \n",
      "  [  9.93215978e-01   2.89540971e-04   1.14223047e-03 ...,   2.86238850e-03\n",
      "     4.15960822e-04   1.21896235e-04]\n",
      "  [  9.94165242e-01   1.88748279e-04   9.98849748e-04 ...,   2.88870698e-03\n",
      "     5.12290921e-04   5.69161930e-05]\n",
      "  [  9.77184176e-01   1.62097695e-03   5.97098330e-03 ...,   8.09637923e-03\n",
      "     1.31334132e-03   5.07012708e-04]]\n",
      "\n",
      " [[  9.90255058e-01   3.38861166e-04   1.74046448e-03 ...,   4.34618024e-03\n",
      "     1.35297398e-03   1.18468612e-04]\n",
      "  [  9.95023370e-01   1.01163852e-04   3.01213498e-04 ...,   2.36597634e-03\n",
      "     9.77306976e-04   7.58161477e-05]\n",
      "  [  9.88762558e-01   4.33083362e-04   1.21312588e-03 ...,   5.10587031e-03\n",
      "     1.09717529e-03   2.63440015e-04]\n",
      "  ..., \n",
      "  [  9.91281629e-01   3.42571380e-04   9.18625679e-04 ...,   3.90662067e-03\n",
      "     8.95616191e-04   2.10764672e-04]\n",
      "  [  9.93597388e-01   1.58802737e-04   3.77169432e-04 ...,   3.55895376e-03\n",
      "     1.00448204e-03   9.56160293e-05]\n",
      "  [  9.84181404e-01   8.47313553e-04   3.29919416e-03 ...,   7.02520646e-03\n",
      "     1.48526952e-03   2.46619573e-04]]\n",
      "\n",
      " [[  9.74529088e-01   1.21575373e-03   4.12007654e-03 ...,   1.18069425e-02\n",
      "     3.39906197e-03   2.07784149e-04]\n",
      "  [  9.90355372e-01   1.86323290e-04   5.50398894e-04 ...,   5.00425138e-03\n",
      "     2.17842031e-03   5.41268673e-05]\n",
      "  [  9.78334606e-01   8.60139553e-04   2.12629605e-03 ...,   1.12865148e-02\n",
      "     2.77075032e-03   2.52791593e-04]\n",
      "  ..., \n",
      "  [  9.83236134e-01   6.94643648e-04   1.56729110e-03 ...,   8.49746075e-03\n",
      "     2.30723177e-03   2.13592415e-04]\n",
      "  [  9.83772814e-01   4.62632335e-04   8.58771964e-04 ...,   9.48271807e-03\n",
      "     2.97520170e-03   1.66534373e-04]\n",
      "  [  9.70981836e-01   1.66576635e-03   4.81727673e-03 ...,   1.36180576e-02\n",
      "     3.62858782e-03   3.86472471e-04]]\n",
      "\n",
      " ..., \n",
      " [[  9.35610414e-01   1.08410632e-02   1.88477654e-02 ...,   1.36803668e-02\n",
      "     4.30256780e-03   2.60322005e-03]\n",
      "  [  9.39385593e-01   1.32400952e-02   1.94174219e-02 ...,   1.22866249e-02\n",
      "     2.79524969e-03   1.33786676e-03]\n",
      "  [  9.21719193e-01   1.81544051e-02   2.51135882e-02 ...,   1.53281745e-02\n",
      "     3.10707092e-03   1.35587540e-03]\n",
      "  ..., \n",
      "  [  9.39390004e-01   1.46924844e-02   1.78972241e-02 ...,   1.28695564e-02\n",
      "     2.74265511e-03   1.00809371e-03]\n",
      "  [  9.53405738e-01   1.02786161e-02   1.31759392e-02 ...,   1.16282357e-02\n",
      "     2.59682676e-03   9.56178759e-04]\n",
      "  [  9.40995097e-01   9.32195224e-03   1.65981501e-02 ...,   1.46331051e-02\n",
      "     4.64907149e-03   2.39924761e-03]]\n",
      "\n",
      " [[  9.35710251e-01   8.82554706e-03   1.80705097e-02 ...,   1.45533094e-02\n",
      "     5.01212943e-03   3.22904368e-03]\n",
      "  [  9.42313135e-01   1.03421314e-02   1.74628738e-02 ...,   1.26807513e-02\n",
      "     3.60166538e-03   1.94576941e-03]\n",
      "  [  9.27808166e-01   1.45627605e-02   2.14146730e-02 ...,   1.58059113e-02\n",
      "     3.91027471e-03   1.74122292e-03]\n",
      "  ..., \n",
      "  [  9.41626608e-01   1.15386834e-02   1.72992889e-02 ...,   1.23937000e-02\n",
      "     3.32949962e-03   1.52602140e-03]\n",
      "  [  9.52535748e-01   8.70242342e-03   1.32798329e-02 ...,   1.21384030e-02\n",
      "     3.22847255e-03   1.34360127e-03]\n",
      "  [  9.28587019e-01   1.02902604e-02   1.85933243e-02 ...,   1.81699209e-02\n",
      "     5.62000927e-03   3.50589771e-03]]\n",
      "\n",
      " [[  9.10407841e-01   1.02036027e-02   2.61319485e-02 ...,   1.98036041e-02\n",
      "     6.61617937e-03   5.62639721e-03]\n",
      "  [  9.23993826e-01   1.14721227e-02   2.22188327e-02 ...,   1.70544311e-02\n",
      "     5.09488583e-03   3.53984325e-03]\n",
      "  [  9.24438477e-01   1.18975407e-02   2.22453475e-02 ...,   1.77026223e-02\n",
      "     4.98476950e-03   2.73528113e-03]\n",
      "  ..., \n",
      "  [  9.31796908e-01   9.85012203e-03   2.00748146e-02 ...,   1.74492002e-02\n",
      "     4.74172458e-03   2.67803459e-03]\n",
      "  [  9.40884888e-01   8.53689015e-03   1.60142053e-02 ...,   1.56390071e-02\n",
      "     4.78343479e-03   2.42307270e-03]\n",
      "  [  9.06518459e-01   1.16982171e-02   2.40787175e-02 ...,   2.22525187e-02\n",
      "     8.14915914e-03   5.75513532e-03]]]\n"
     ]
    }
   ],
   "source": [
    "print (prediction)"
   ]
  },
  {
   "cell_type": "code",
   "execution_count": 63,
   "metadata": {},
   "outputs": [
    {
     "name": "stdout",
     "output_type": "stream",
     "text": [
      "[ 0.18668322  0.02075981  0.07049716  0.08813264  0.0905104   0.37279558\n",
      "  0.11087015  0.059751  ]\n"
     ]
    }
   ],
   "source": [
    "print(prediction[260][45])"
   ]
  },
  {
   "cell_type": "code",
   "execution_count": 64,
   "metadata": {},
   "outputs": [
    {
     "name": "stdout",
     "output_type": "stream",
     "text": [
      "3\n"
     ]
    }
   ],
   "source": [
    "s = [1,2,3,4]\n",
    "print(np.argmax(s))"
   ]
  },
  {
   "cell_type": "code",
   "execution_count": 65,
   "metadata": {},
   "outputs": [
    {
     "name": "stdout",
     "output_type": "stream",
     "text": [
      "(496, 64, 8)\n"
     ]
    }
   ],
   "source": [
    "print(prediction.shape)"
   ]
  },
  {
   "cell_type": "code",
   "execution_count": 66,
   "metadata": {
    "collapsed": true
   },
   "outputs": [],
   "source": [
    "output = np.zeros((496,64))"
   ]
  },
  {
   "cell_type": "code",
   "execution_count": 67,
   "metadata": {
    "collapsed": true
   },
   "outputs": [],
   "source": [
    "for i in range(496):\n",
    "    for j in range(64):\n",
    "        index = np.argmax(prediction[i][j])\n",
    "        output[i][j] = index"
   ]
  },
  {
   "cell_type": "code",
   "execution_count": 68,
   "metadata": {},
   "outputs": [
    {
     "name": "stdout",
     "output_type": "stream",
     "text": [
      "(496, 64)\n"
     ]
    }
   ],
   "source": [
    "print (output.shape)"
   ]
  },
  {
   "cell_type": "code",
   "execution_count": 69,
   "metadata": {
    "collapsed": true
   },
   "outputs": [],
   "source": [
    "color= np.zeros((496,64,3))"
   ]
  },
  {
   "cell_type": "code",
   "execution_count": 70,
   "metadata": {
    "collapsed": true
   },
   "outputs": [],
   "source": [
    "for j in range(496):\n",
    "    for k in range(64):\n",
    "        if(output[j][k]==0):\n",
    "            color[j][k] = [0,0,0]\n",
    "        if(output[j][k]==1):\n",
    "            color[j][k] = [128,0,0]\n",
    "        if(output[j][k]==2):\n",
    "            color[j][k] = [0,128,0]\n",
    "        if(output[j][k]==3):\n",
    "            color[j][k] = [128,128,0] \n",
    "        if(output[j][k]==4):\n",
    "            color[j][k] = [0,128,128]\n",
    "        if(output[j][k]==5):\n",
    "            color[j][k] = [64,0,0]\n",
    "        if(output[j][k]==6):\n",
    "            color[j][k] = [192,0,0]\n",
    "        if(output[j][k]==7):\n",
    "            color[j][k] = [64,128,0]"
   ]
  },
  {
   "cell_type": "code",
   "execution_count": 71,
   "metadata": {},
   "outputs": [
    {
     "data": {
      "text/plain": [
       "<matplotlib.image.AxesImage at 0x7f84257fba50>"
      ]
     },
     "execution_count": 71,
     "metadata": {},
     "output_type": "execute_result"
    }
   ],
   "source": [
    "plt.imshow(color)"
   ]
  },
  {
   "cell_type": "code",
   "execution_count": 72,
   "metadata": {},
   "outputs": [
    {
     "data": {
      "image/png": "[encoded data removed]",
      "text/plain": [
       "<matplotlib.figure.Figure at 0x7f84258bd3d0>"
      ]
     },
     "metadata": {},
     "output_type": "display_data"
    }
   ],
   "source": [
    "plt.show()"
   ]
  },
  {
   "cell_type": "code",
   "execution_count": null,
   "metadata": {
    "collapsed": true
   },
   "outputs": [],
   "source": []
  }
 ],
 "metadata": {
  "kernelspec": {
   "display_name": "Python 2",
   "language": "python",
   "name": "python2"
  },
  "language_info": {
   "codemirror_mode": {
    "name": "ipython",
    "version": 2
   },
   "file_extension": ".py",
   "mimetype": "text/x-python",
   "name": "python",
   "nbconvert_exporter": "python",
   "pygments_lexer": "ipython2",
   "version": "2.7.12"
  }
 },
 "nbformat": 4,
 "nbformat_minor": 2
}
