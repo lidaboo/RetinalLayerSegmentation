{
 "cells": [
  {
   "cell_type": "code",
   "execution_count": 1,
   "metadata": {},
   "outputs": [
    {
     "name": "stderr",
     "output_type": "stream",
     "text": [
      "Using TensorFlow backend.\n"
     ]
    }
   ],
   "source": [
    "import keras\n",
    "from keras.layers import Activation\n",
    "from keras.layers import Conv2D, MaxPooling2D\n",
    "from keras.models import Model\n",
    "from keras.layers import Input\n",
    "from keras.layers import BatchNormalization\n",
    "from keras.layers import UpSampling2D\n",
    "from keras.layers import Concatenate\n",
    "from keras.layers import Lambda \n",
    "\n",
    "import tensorflow as tf\n",
    "\n",
    "\n",
    "from keras import backend as K\n",
    "\n"
   ]
  },
  {
   "cell_type": "code",
   "execution_count": 2,
   "metadata": {
    "collapsed": true
   },
   "outputs": [],
   "source": [
    "import scipy.io as scio\n",
    "import numpy as np    \n",
    "import os\n",
    "import matplotlib.pyplot as plt\n",
    "from scipy.misc import imsave\n",
    "from scipy import ndimage, misc\n",
    "from numpy import unravel_index\n",
    "from operator import sub"
   ]
  },
  {
   "cell_type": "code",
   "execution_count": 3,
   "metadata": {
    "collapsed": true
   },
   "outputs": [],
   "source": [
    "images = []\n",
    "for root, dirnames, filenames in os.walk(\"Dataset/Train_images/\"):\n",
    "    for filename in filenames:\n",
    "        filepath = os.path.join(root, filename)\n",
    "        image = ndimage.imread(filepath, mode=\"L\")\n",
    "        images.append(image)"
   ]
  },
  {
   "cell_type": "code",
   "execution_count": 4,
   "metadata": {},
   "outputs": [
    {
     "name": "stdout",
     "output_type": "stream",
     "text": [
      "496\n"
     ]
    }
   ],
   "source": [
    "print (len(image))\n"
   ]
  },
  {
   "cell_type": "code",
   "execution_count": 5,
   "metadata": {
    "collapsed": true
   },
   "outputs": [],
   "source": [
    "labels = np.load('train_labels.npy')\n",
    "labels_list = []\n",
    "for i in range(len(labels)):\n",
    "    labels_list.append(labels[i])"
   ]
  },
  {
   "cell_type": "code",
   "execution_count": 6,
   "metadata": {},
   "outputs": [
    {
     "name": "stdout",
     "output_type": "stream",
     "text": [
      "770\n",
      "<type 'numpy.ndarray'>\n",
      "770\n",
      "(496, 64, 1)\n",
      "[0, 1, 2, 3, 4, 5, 7, 8, 10, 13, 16, 17, 19, 21, 22, 23, 24, 25, 26, 28, 29, 30, 31, 32, 33, 34, 39, 40, 42, 44, 45, 46, 47, 49, 50, 51, 52, 53, 54, 56, 57, 59, 60, 61, 62, 63, 65, 66, 67, 68, 69, 71, 72, 73, 74, 75, 76, 77, 79, 80, 81, 83, 84, 85, 86, 87, 88, 91, 92, 93, 96, 100, 103, 105, 108, 111, 112, 113, 114, 115, 116, 117, 118, 119, 120, 121, 122, 123, 124, 125, 126, 127, 128, 130, 131, 134, 135, 136, 137, 139, 141, 142, 143, 144, 146, 147, 148, 149, 150, 151, 153, 154, 156, 157, 158, 159, 161, 163, 166, 169, 170, 171, 172, 174, 175, 178, 180, 181, 182, 183, 184, 185, 187, 189, 191, 192, 193, 196, 197, 198, 200, 201, 204, 207, 209, 210, 211, 212, 215, 216, 219, 223, 224, 225, 228, 229, 231, 233, 234, 235, 236, 237, 238, 243, 244, 245, 246, 251, 254, 255, 256, 257, 258, 260, 262, 263, 264, 265, 266, 268, 271, 272, 273, 275, 278, 280, 281, 283, 284, 287, 288, 289, 290, 293, 294, 295, 296, 297, 299, 301, 306, 308, 309, 310, 311, 312, 313, 315, 316, 317, 318, 319, 320, 322, 324, 325, 326, 327, 329, 330, 331, 333, 335, 337, 338, 340, 342, 343, 345, 346, 348, 349, 351, 354, 356, 360, 361, 362, 363, 364, 365, 366, 368, 369, 371, 372, 377, 379, 382, 383, 384, 388, 389, 390, 391, 393, 394, 395, 396, 398, 399, 402, 405, 406, 407, 410, 412, 413, 414, 415, 416, 417, 419, 420, 422, 424, 425, 427, 432, 435, 436, 437, 439, 440, 443, 445, 446, 447, 449, 450, 453, 454, 455, 457, 458, 459, 460, 462, 463, 465, 468, 469, 470, 471, 472, 473, 474, 475, 476, 479, 480, 481, 482, 483, 484, 487, 489, 490, 491, 497, 498, 499, 500, 501, 502, 503, 504, 507, 508, 509, 511, 512, 513, 516, 518, 519, 520, 521, 522, 524, 525, 526, 527, 528, 529, 530, 532, 534, 535, 536, 537, 538, 539, 540, 541, 543, 545, 546, 547, 548, 550, 551, 552, 553, 555, 556, 557, 559, 562, 563, 564, 567, 568, 570, 571, 572, 573, 577, 578, 579, 580, 581, 583, 584, 588, 591, 592, 593, 596, 597, 598, 601, 603, 604, 605, 608, 610, 612, 613, 615, 618, 619, 620, 621, 622, 624, 626, 627, 628, 629, 630, 632, 633, 635, 636, 637, 638, 639, 640, 643, 644, 646, 648, 651, 652, 655, 656, 657, 658, 662, 664, 667, 669, 670, 671, 672, 673, 674, 676, 677, 678, 679, 680, 681, 683, 684, 685, 686, 687, 689, 690, 692, 693, 694, 699, 701, 704, 706, 707, 708, 712, 713, 714, 715, 717, 718, 720, 721, 722, 723, 725, 726, 727, 728, 729, 730, 734, 737, 738, 739, 740, 741, 742, 743, 744, 745, 746, 751, 753, 754, 755, 756, 757, 758, 759, 761, 763, 766, 768, 769]\n",
      "[6, 9, 11, 12, 14, 15, 18, 20, 27, 35, 36, 37, 38, 41, 43, 48, 55, 58, 64, 70, 78, 82, 89, 90, 94, 95, 97, 98, 99, 101, 102, 104, 106, 107, 109, 110, 129, 132, 133, 138, 140, 145, 152, 155, 160, 162, 164, 165, 167, 168, 173, 176, 177, 179, 186, 188, 190, 194, 195, 199, 202, 203, 205, 206, 208, 213, 214, 217, 218, 220, 221, 222, 226, 227, 230, 232, 239, 240, 241, 242, 247, 248, 249, 250, 252, 253, 259, 261, 267, 269, 270, 274, 276, 277, 279, 282, 285, 286, 291, 292, 298, 300, 302, 303, 304, 305, 307, 314, 321, 323, 328, 332, 334, 336, 339, 341, 344, 347, 350, 352, 353, 355, 357, 358, 359, 367, 370, 373, 374, 375, 376, 378, 380, 381, 385, 386, 387, 392, 397, 400, 401, 403, 404, 408, 409, 411, 418, 421, 423, 426, 428, 429, 430, 431, 433, 434, 438, 441, 442, 444, 448, 451, 452, 456, 461, 464, 466, 467, 477, 478, 485, 486, 488, 492, 493, 494, 495, 496, 505, 506, 510, 514, 515, 517, 523, 531, 533, 542, 544, 549, 554, 558, 560, 561, 565, 566, 569, 574, 575, 576, 582, 585, 586, 587, 589, 590, 594, 595, 599, 600, 602, 606, 607, 609, 611, 614, 616, 617, 623, 625, 631, 634, 641, 642, 645, 647, 649, 650, 653, 654, 659, 660, 661, 663, 665, 666, 668, 675, 682, 688, 691, 695, 696, 697, 698]\n"
     ]
    }
   ],
   "source": [
    "print (len(labels_list))\n",
    "print (type(labels_list[0]))\n",
    "\n",
    "images=np.array(images)\n",
    "print(images.shape[0])\n",
    "images = images.reshape(images.shape[0],496,64,1)\n",
    "\n",
    "print(images[0].shape)\n",
    "train_labels = np.random.choice(770,500,replace = False)\n",
    "print(sorted(train_labels))\n",
    "train_images = []\n",
    "for i in train_labels:\n",
    "    train_images.append(images[i])\n",
    "test_labels = [x for x in range(700) if x not in train_labels]\n",
    "print(test_labels)\n",
    "test_images = []\n",
    "for i in test_labels:\n",
    "    test_images.append(images[i])"
   ]
  },
  {
   "cell_type": "code",
   "execution_count": 7,
   "metadata": {},
   "outputs": [
    {
     "name": "stdout",
     "output_type": "stream",
     "text": [
      "500\n",
      "500\n",
      "(500,)\n"
     ]
    }
   ],
   "source": [
    "print (len(train_images))\n",
    "print (len(train_labels))\n",
    "print (np.array(train_labels).shape)"
   ]
  },
  {
   "cell_type": "code",
   "execution_count": 8,
   "metadata": {
    "collapsed": true
   },
   "outputs": [],
   "source": [
    "arg_1 = tf.placeholder(tf.float32,shape=(None,248,32,64))\n",
    "index_mask_1 = tf.placeholder(tf.bool,shape=(None,496,64,64))\n",
    "\n",
    "arg_2 = tf.placeholder(tf.float32,shape=(None,248,32,64))\n",
    "index_mask_2 = tf.placeholder(tf.bool,shape=(None,496,64,64))\n",
    "\n",
    "arg_3 = tf.placeholder(tf.float32,shape=(None,248,32,64))\n",
    "index_mask_3 = tf.placeholder(tf.bool,shape=(None,496,64,64))"
   ]
  },
  {
   "cell_type": "code",
   "execution_count": 9,
   "metadata": {
    "collapsed": true
   },
   "outputs": [],
   "source": [
    "def maxpool_1(x):\n",
    "    print(type(x))\n",
    "    print(x.shape)\n",
    "    y = x[0,:,:,:]\n",
    "    t = K.argmax(y)\n",
    "    print(type(t))\n",
    "    print(t.shape)\n",
    "    print(type(y))\n",
    "    print(y.shape)\n",
    "    outputs = tf.nn.max_pool_with_argmax(x, ksize=[1, 2, 2, 1],\n",
    "                        strides=[1, 2, 2, 1], padding='VALID')\n",
    "    arg_1=tf.cast(outputs[1],tf.float32)\n",
    "    upsampled_output=UpSampling2D(size=(2,2))(outputs[0])\n",
    "    print(upsampled_output.dtype)\n",
    "    print(arg_1.dtype)\n",
    "    index_mask_1=K.tf.equal(x,upsampled_output)\n",
    "    print((arg_1.shape))\n",
    "    return outputs[0]\n",
    "\n",
    "def maxpool_2(x):\n",
    "    print(type(x))\n",
    "    print(x.shape)\n",
    "    y = x[0,:,:,:]\n",
    "    t = K.argmax(y)\n",
    "    print(type(t))\n",
    "    print(t.shape)\n",
    "    print(type(y))\n",
    "    print(y.shape)\n",
    "    outputs = tf.nn.max_pool_with_argmax(x, ksize=[1, 2, 2, 1],\n",
    "                        strides=[1, 2, 2, 1], padding='VALID')\n",
    "    arg_2=tf.cast(outputs[1],tf.float32)\n",
    "    upsampled_output=UpSampling2D(size=(2,2))(outputs[0])\n",
    "    print(upsampled_output.dtype)\n",
    "    print(arg_2.dtype)\n",
    "    index_mask_2=K.tf.equal(x,upsampled_output)\n",
    "    print((arg_2.shape))\n",
    "    return outputs[0]\n",
    "\n",
    "def maxpool_3(x):\n",
    "    print(type(x))\n",
    "    print(x.shape)\n",
    "    y = x[0,:,:,:]\n",
    "    t = K.argmax(y)\n",
    "    print(type(t))\n",
    "    print(t.shape)\n",
    "    print(type(y))\n",
    "    print(y.shape)\n",
    "    outputs = tf.nn.max_pool_with_argmax(x, ksize=[1, 2, 2, 1],\n",
    "                        strides=[1, 2, 2, 1], padding='VALID')\n",
    "    arg_3=tf.cast(outputs[1],tf.float32)\n",
    "    upsampled_output=UpSampling2D(size=(2,2))(outputs[0])\n",
    "    print(upsampled_output.dtype)\n",
    "    print(arg_3.dtype)\n",
    "    index_mask_3=K.tf.equal(x,upsampled_output)\n",
    "    print((arg_3.shape))\n",
    "    return outputs[0]\n",
    "\n",
    "def shape(x):\n",
    "    shape = list(x)\n",
    "    shape[1]= shape[1]//2\n",
    "    shape[2]= None\n",
    "    return tuple(shape)"
   ]
  },
  {
   "cell_type": "code",
   "execution_count": 10,
   "metadata": {},
   "outputs": [
    {
     "name": "stdout",
     "output_type": "stream",
     "text": [
      "(?, 248, 32, 64)\n"
     ]
    }
   ],
   "source": [
    "print((arg_1.shape))"
   ]
  },
  {
   "cell_type": "code",
   "execution_count": 11,
   "metadata": {
    "collapsed": true
   },
   "outputs": [],
   "source": [
    "def unpool_1(input):\n",
    "    mask_shape = index_mask.get_shape().as_list()\n",
    "    input_shape = input.get_shape().as_list()\n",
    "    pool_size = (mask_shape[1] / input_shape[1], None)\n",
    "    on_success = UpSampling2D(size=(2,2))(input)\n",
    "    on_fail = K.zeros_like(on_success)\n",
    "    print()\n",
    "    return K.tf.where(index_mask, on_success, on_fail)\n",
    "\n",
    "def unpool_2(input):\n",
    "    mask_shape= index_mask.get_shape().as_list()\n",
    "    input_shape = input.get_shape().as_list()\n",
    "    pool_size = (mask_shape[1] / input_shape[1], None)\n",
    "    on_success = UpSampling2D(size=(2,2))(input)\n",
    "    on_fail = K.zeros_like(on_success)\n",
    "    print()\n",
    "    return K.tf.where(index_mask, on_success, on_fail)\n",
    "\n",
    "def unpool_3(input):\n",
    "    mask_shape = index_mask.get_shape().as_list()\n",
    "    input_shape = input.get_shape().as_list()\n",
    "    pool_size = (mask_shape[1] / input_shape[1], None)\n",
    "    on_success = UpSampling2D(size=(2,2))(input)\n",
    "    on_fail = K.zeros_like(on_success)\n",
    "    print()\n",
    "    return K.tf.where(index_mask, on_success, on_fail)"
   ]
  },
  {
   "cell_type": "code",
   "execution_count": 12,
   "metadata": {
    "collapsed": true
   },
   "outputs": [],
   "source": [
    "def unpool_shape(x):\n",
    "    shape = list(x)\n",
    "    shape[1]= shape[1]*2\n",
    "    shape[2]= None\n",
    "    return tuple(shape)"
   ]
  },
  {
   "cell_type": "code",
   "execution_count": 13,
   "metadata": {},
   "outputs": [
    {
     "name": "stdout",
     "output_type": "stream",
     "text": [
      "<class 'tensorflow.python.framework.ops.Tensor'>\n",
      "(?, 496, ?, 64)\n",
      "<class 'tensorflow.python.framework.ops.Tensor'>\n",
      "(496, ?)\n",
      "<class 'tensorflow.python.framework.ops.Tensor'>\n",
      "(496, ?, 64)\n",
      "<dtype: 'float32'>\n",
      "<dtype: 'float32'>\n",
      "(?, 248, ?, 64)\n",
      "<class 'tensorflow.python.framework.ops.Tensor'>\n",
      "(?, 248, ?, 64)\n",
      "<class 'tensorflow.python.framework.ops.Tensor'>\n",
      "(248, ?)\n",
      "<class 'tensorflow.python.framework.ops.Tensor'>\n",
      "(248, ?, 64)\n",
      "<dtype: 'float32'>\n",
      "<dtype: 'float32'>\n",
      "(?, 124, ?, 64)\n",
      "<class 'tensorflow.python.framework.ops.Tensor'>\n",
      "(?, 124, ?, 64)\n",
      "<class 'tensorflow.python.framework.ops.Tensor'>\n",
      "(124, ?)\n",
      "<class 'tensorflow.python.framework.ops.Tensor'>\n",
      "(124, ?, 64)\n",
      "<dtype: 'float32'>\n",
      "<dtype: 'float32'>\n",
      "(?, 62, ?, 64)\n",
      "()\n"
     ]
    },
    {
     "ename": "ValueError",
     "evalue": "Dimension 1 in both shapes must be equal, but are 124 and 496 for 'lambda_4/Select' (op: 'Select') with input shapes: [?,496,64,64], [?,124,?,64], [?,124,?,64].",
     "output_type": "error",
     "traceback": [
      "\u001b[0;31m---------------------------------------------------------------------------\u001b[0m",
      "\u001b[0;31mValueError\u001b[0m                                Traceback (most recent call last)",
      "\u001b[0;32m<ipython-input-13-f01048739f13>\u001b[0m in \u001b[0;36m<module>\u001b[0;34m()\u001b[0m\n\u001b[1;32m     17\u001b[0m \u001b[0mL11\u001b[0m \u001b[0;34m=\u001b[0m \u001b[0mBatchNormalization\u001b[0m\u001b[0;34m(\u001b[0m\u001b[0;34m)\u001b[0m\u001b[0;34m(\u001b[0m\u001b[0mL10\u001b[0m\u001b[0;34m)\u001b[0m\u001b[0;34m\u001b[0m\u001b[0m\n\u001b[1;32m     18\u001b[0m \u001b[0;31m#L12 = UpSampling2D(size = (2,2))(L11)\u001b[0m\u001b[0;34m\u001b[0m\u001b[0;34m\u001b[0m\u001b[0m\n\u001b[0;32m---> 19\u001b[0;31m \u001b[0mL12\u001b[0m \u001b[0;34m=\u001b[0m \u001b[0mLambda\u001b[0m\u001b[0;34m(\u001b[0m\u001b[0munpool_3\u001b[0m\u001b[0;34m,\u001b[0m\u001b[0moutput_shape\u001b[0m \u001b[0;34m=\u001b[0m \u001b[0mshape\u001b[0m\u001b[0;34m)\u001b[0m\u001b[0;34m(\u001b[0m\u001b[0mL11\u001b[0m\u001b[0;34m)\u001b[0m\u001b[0;34m\u001b[0m\u001b[0m\n\u001b[0m\u001b[1;32m     20\u001b[0m \u001b[0mL13\u001b[0m \u001b[0;34m=\u001b[0m \u001b[0mConcatenate\u001b[0m\u001b[0;34m(\u001b[0m\u001b[0maxis\u001b[0m \u001b[0;34m=\u001b[0m \u001b[0;36m3\u001b[0m\u001b[0;34m)\u001b[0m\u001b[0;34m(\u001b[0m\u001b[0;34m[\u001b[0m\u001b[0mL8\u001b[0m\u001b[0;34m,\u001b[0m\u001b[0mL12\u001b[0m\u001b[0;34m]\u001b[0m\u001b[0;34m)\u001b[0m\u001b[0;34m\u001b[0m\u001b[0m\n\u001b[1;32m     21\u001b[0m \u001b[0mL14\u001b[0m \u001b[0;34m=\u001b[0m \u001b[0mConv2D\u001b[0m\u001b[0;34m(\u001b[0m\u001b[0;36m64\u001b[0m\u001b[0;34m,\u001b[0m\u001b[0mkernel_size\u001b[0m\u001b[0;34m=\u001b[0m\u001b[0;34m(\u001b[0m\u001b[0;36m7\u001b[0m\u001b[0;34m,\u001b[0m\u001b[0;36m3\u001b[0m\u001b[0;34m)\u001b[0m\u001b[0;34m,\u001b[0m\u001b[0mactivation\u001b[0m \u001b[0;34m=\u001b[0m \u001b[0;34m'relu'\u001b[0m\u001b[0;34m,\u001b[0m\u001b[0mpadding\u001b[0m \u001b[0;34m=\u001b[0m \u001b[0;34m\"same\"\u001b[0m\u001b[0;34m)\u001b[0m\u001b[0;34m(\u001b[0m\u001b[0mL13\u001b[0m\u001b[0;34m)\u001b[0m\u001b[0;34m\u001b[0m\u001b[0m\n",
      "\u001b[0;32m/usr/local/lib/python2.7/dist-packages/keras/engine/topology.pyc\u001b[0m in \u001b[0;36m__call__\u001b[0;34m(self, inputs, **kwargs)\u001b[0m\n\u001b[1;32m    600\u001b[0m \u001b[0;34m\u001b[0m\u001b[0m\n\u001b[1;32m    601\u001b[0m             \u001b[0;31m# Actually call the layer, collecting output(s), mask(s), and shape(s).\u001b[0m\u001b[0;34m\u001b[0m\u001b[0;34m\u001b[0m\u001b[0m\n\u001b[0;32m--> 602\u001b[0;31m             \u001b[0moutput\u001b[0m \u001b[0;34m=\u001b[0m \u001b[0mself\u001b[0m\u001b[0;34m.\u001b[0m\u001b[0mcall\u001b[0m\u001b[0;34m(\u001b[0m\u001b[0minputs\u001b[0m\u001b[0;34m,\u001b[0m \u001b[0;34m**\u001b[0m\u001b[0mkwargs\u001b[0m\u001b[0;34m)\u001b[0m\u001b[0;34m\u001b[0m\u001b[0m\n\u001b[0m\u001b[1;32m    603\u001b[0m             \u001b[0moutput_mask\u001b[0m \u001b[0;34m=\u001b[0m \u001b[0mself\u001b[0m\u001b[0;34m.\u001b[0m\u001b[0mcompute_mask\u001b[0m\u001b[0;34m(\u001b[0m\u001b[0minputs\u001b[0m\u001b[0;34m,\u001b[0m \u001b[0mprevious_mask\u001b[0m\u001b[0;34m)\u001b[0m\u001b[0;34m\u001b[0m\u001b[0m\n\u001b[1;32m    604\u001b[0m \u001b[0;34m\u001b[0m\u001b[0m\n",
      "\u001b[0;32m/usr/local/lib/python2.7/dist-packages/keras/layers/core.pyc\u001b[0m in \u001b[0;36mcall\u001b[0;34m(self, inputs, mask)\u001b[0m\n\u001b[1;32m    648\u001b[0m         \u001b[0;32mif\u001b[0m \u001b[0mhas_arg\u001b[0m\u001b[0;34m(\u001b[0m\u001b[0mself\u001b[0m\u001b[0;34m.\u001b[0m\u001b[0mfunction\u001b[0m\u001b[0;34m,\u001b[0m \u001b[0;34m'mask'\u001b[0m\u001b[0;34m)\u001b[0m\u001b[0;34m:\u001b[0m\u001b[0;34m\u001b[0m\u001b[0m\n\u001b[1;32m    649\u001b[0m             \u001b[0marguments\u001b[0m\u001b[0;34m[\u001b[0m\u001b[0;34m'mask'\u001b[0m\u001b[0;34m]\u001b[0m \u001b[0;34m=\u001b[0m \u001b[0mmask\u001b[0m\u001b[0;34m\u001b[0m\u001b[0m\n\u001b[0;32m--> 650\u001b[0;31m         \u001b[0;32mreturn\u001b[0m \u001b[0mself\u001b[0m\u001b[0;34m.\u001b[0m\u001b[0mfunction\u001b[0m\u001b[0;34m(\u001b[0m\u001b[0minputs\u001b[0m\u001b[0;34m,\u001b[0m \u001b[0;34m**\u001b[0m\u001b[0marguments\u001b[0m\u001b[0;34m)\u001b[0m\u001b[0;34m\u001b[0m\u001b[0m\n\u001b[0m\u001b[1;32m    651\u001b[0m \u001b[0;34m\u001b[0m\u001b[0m\n\u001b[1;32m    652\u001b[0m     \u001b[0;32mdef\u001b[0m \u001b[0mcompute_mask\u001b[0m\u001b[0;34m(\u001b[0m\u001b[0mself\u001b[0m\u001b[0;34m,\u001b[0m \u001b[0minputs\u001b[0m\u001b[0;34m,\u001b[0m \u001b[0mmask\u001b[0m\u001b[0;34m=\u001b[0m\u001b[0mNone\u001b[0m\u001b[0;34m)\u001b[0m\u001b[0;34m:\u001b[0m\u001b[0;34m\u001b[0m\u001b[0m\n",
      "\u001b[0;32m<ipython-input-11-584842482290>\u001b[0m in \u001b[0;36munpool_3\u001b[0;34m(input)\u001b[0m\n\u001b[1;32m     24\u001b[0m     \u001b[0mon_fail\u001b[0m \u001b[0;34m=\u001b[0m \u001b[0mK\u001b[0m\u001b[0;34m.\u001b[0m\u001b[0mzeros_like\u001b[0m\u001b[0;34m(\u001b[0m\u001b[0mon_success\u001b[0m\u001b[0;34m)\u001b[0m\u001b[0;34m\u001b[0m\u001b[0m\n\u001b[1;32m     25\u001b[0m     \u001b[0;32mprint\u001b[0m\u001b[0;34m(\u001b[0m\u001b[0;34m)\u001b[0m\u001b[0;34m\u001b[0m\u001b[0m\n\u001b[0;32m---> 26\u001b[0;31m     \u001b[0;32mreturn\u001b[0m \u001b[0mK\u001b[0m\u001b[0;34m.\u001b[0m\u001b[0mtf\u001b[0m\u001b[0;34m.\u001b[0m\u001b[0mwhere\u001b[0m\u001b[0;34m(\u001b[0m\u001b[0mindex_mask\u001b[0m\u001b[0;34m,\u001b[0m \u001b[0mon_success\u001b[0m\u001b[0;34m,\u001b[0m \u001b[0mon_fail\u001b[0m\u001b[0;34m)\u001b[0m\u001b[0;34m\u001b[0m\u001b[0m\n\u001b[0m",
      "\u001b[0;32m/usr/local/lib/python2.7/dist-packages/tensorflow/python/ops/array_ops.pyc\u001b[0m in \u001b[0;36mwhere\u001b[0;34m(condition, x, y, name)\u001b[0m\n\u001b[1;32m   2365\u001b[0m     \u001b[0;32mreturn\u001b[0m \u001b[0mgen_array_ops\u001b[0m\u001b[0;34m.\u001b[0m\u001b[0mwhere\u001b[0m\u001b[0;34m(\u001b[0m\u001b[0minput\u001b[0m\u001b[0;34m=\u001b[0m\u001b[0mcondition\u001b[0m\u001b[0;34m,\u001b[0m \u001b[0mname\u001b[0m\u001b[0;34m=\u001b[0m\u001b[0mname\u001b[0m\u001b[0;34m)\u001b[0m\u001b[0;34m\u001b[0m\u001b[0m\n\u001b[1;32m   2366\u001b[0m   \u001b[0;32melif\u001b[0m \u001b[0mx\u001b[0m \u001b[0;32mis\u001b[0m \u001b[0;32mnot\u001b[0m \u001b[0mNone\u001b[0m \u001b[0;32mand\u001b[0m \u001b[0my\u001b[0m \u001b[0;32mis\u001b[0m \u001b[0;32mnot\u001b[0m \u001b[0mNone\u001b[0m\u001b[0;34m:\u001b[0m\u001b[0;34m\u001b[0m\u001b[0m\n\u001b[0;32m-> 2367\u001b[0;31m     \u001b[0;32mreturn\u001b[0m \u001b[0mgen_math_ops\u001b[0m\u001b[0;34m.\u001b[0m\u001b[0m_select\u001b[0m\u001b[0;34m(\u001b[0m\u001b[0mcondition\u001b[0m\u001b[0;34m=\u001b[0m\u001b[0mcondition\u001b[0m\u001b[0;34m,\u001b[0m \u001b[0mt\u001b[0m\u001b[0;34m=\u001b[0m\u001b[0mx\u001b[0m\u001b[0;34m,\u001b[0m \u001b[0me\u001b[0m\u001b[0;34m=\u001b[0m\u001b[0my\u001b[0m\u001b[0;34m,\u001b[0m \u001b[0mname\u001b[0m\u001b[0;34m=\u001b[0m\u001b[0mname\u001b[0m\u001b[0;34m)\u001b[0m\u001b[0;34m\u001b[0m\u001b[0m\n\u001b[0m\u001b[1;32m   2368\u001b[0m   \u001b[0;32melse\u001b[0m\u001b[0;34m:\u001b[0m\u001b[0;34m\u001b[0m\u001b[0m\n\u001b[1;32m   2369\u001b[0m     \u001b[0;32mraise\u001b[0m \u001b[0mValueError\u001b[0m\u001b[0;34m(\u001b[0m\u001b[0;34m\"x and y must both be non-None or both be None.\"\u001b[0m\u001b[0;34m)\u001b[0m\u001b[0;34m\u001b[0m\u001b[0m\n",
      "\u001b[0;32m/usr/local/lib/python2.7/dist-packages/tensorflow/python/ops/gen_math_ops.pyc\u001b[0m in \u001b[0;36m_select\u001b[0;34m(condition, t, e, name)\u001b[0m\n\u001b[1;32m   2253\u001b[0m   \"\"\"\n\u001b[1;32m   2254\u001b[0m   result = _op_def_lib.apply_op(\"Select\", condition=condition, t=t, e=e,\n\u001b[0;32m-> 2255\u001b[0;31m                                 name=name)\n\u001b[0m\u001b[1;32m   2256\u001b[0m   \u001b[0;32mreturn\u001b[0m \u001b[0mresult\u001b[0m\u001b[0;34m\u001b[0m\u001b[0m\n\u001b[1;32m   2257\u001b[0m \u001b[0;34m\u001b[0m\u001b[0m\n",
      "\u001b[0;32m/usr/local/lib/python2.7/dist-packages/tensorflow/python/framework/op_def_library.pyc\u001b[0m in \u001b[0;36mapply_op\u001b[0;34m(self, op_type_name, name, **keywords)\u001b[0m\n\u001b[1;32m    765\u001b[0m         op = g.create_op(op_type_name, inputs, output_types, name=scope,\n\u001b[1;32m    766\u001b[0m                          \u001b[0minput_types\u001b[0m\u001b[0;34m=\u001b[0m\u001b[0minput_types\u001b[0m\u001b[0;34m,\u001b[0m \u001b[0mattrs\u001b[0m\u001b[0;34m=\u001b[0m\u001b[0mattr_protos\u001b[0m\u001b[0;34m,\u001b[0m\u001b[0;34m\u001b[0m\u001b[0m\n\u001b[0;32m--> 767\u001b[0;31m                          op_def=op_def)\n\u001b[0m\u001b[1;32m    768\u001b[0m         \u001b[0;32mif\u001b[0m \u001b[0moutput_structure\u001b[0m\u001b[0;34m:\u001b[0m\u001b[0;34m\u001b[0m\u001b[0m\n\u001b[1;32m    769\u001b[0m           \u001b[0moutputs\u001b[0m \u001b[0;34m=\u001b[0m \u001b[0mop\u001b[0m\u001b[0;34m.\u001b[0m\u001b[0moutputs\u001b[0m\u001b[0;34m\u001b[0m\u001b[0m\n",
      "\u001b[0;32m/usr/local/lib/python2.7/dist-packages/tensorflow/python/framework/ops.pyc\u001b[0m in \u001b[0;36mcreate_op\u001b[0;34m(self, op_type, inputs, dtypes, input_types, name, attrs, op_def, compute_shapes, compute_device)\u001b[0m\n\u001b[1;32m   2630\u001b[0m                     original_op=self._default_original_op, op_def=op_def)\n\u001b[1;32m   2631\u001b[0m     \u001b[0;32mif\u001b[0m \u001b[0mcompute_shapes\u001b[0m\u001b[0;34m:\u001b[0m\u001b[0;34m\u001b[0m\u001b[0m\n\u001b[0;32m-> 2632\u001b[0;31m       \u001b[0mset_shapes_for_outputs\u001b[0m\u001b[0;34m(\u001b[0m\u001b[0mret\u001b[0m\u001b[0;34m)\u001b[0m\u001b[0;34m\u001b[0m\u001b[0m\n\u001b[0m\u001b[1;32m   2633\u001b[0m     \u001b[0mself\u001b[0m\u001b[0;34m.\u001b[0m\u001b[0m_add_op\u001b[0m\u001b[0;34m(\u001b[0m\u001b[0mret\u001b[0m\u001b[0;34m)\u001b[0m\u001b[0;34m\u001b[0m\u001b[0m\n\u001b[1;32m   2634\u001b[0m     \u001b[0mself\u001b[0m\u001b[0;34m.\u001b[0m\u001b[0m_record_op_seen_by_control_dependencies\u001b[0m\u001b[0;34m(\u001b[0m\u001b[0mret\u001b[0m\u001b[0;34m)\u001b[0m\u001b[0;34m\u001b[0m\u001b[0m\n",
      "\u001b[0;32m/usr/local/lib/python2.7/dist-packages/tensorflow/python/framework/ops.pyc\u001b[0m in \u001b[0;36mset_shapes_for_outputs\u001b[0;34m(op)\u001b[0m\n\u001b[1;32m   1909\u001b[0m       \u001b[0mshape_func\u001b[0m \u001b[0;34m=\u001b[0m \u001b[0m_call_cpp_shape_fn_and_require_op\u001b[0m\u001b[0;34m\u001b[0m\u001b[0m\n\u001b[1;32m   1910\u001b[0m \u001b[0;34m\u001b[0m\u001b[0m\n\u001b[0;32m-> 1911\u001b[0;31m   \u001b[0mshapes\u001b[0m \u001b[0;34m=\u001b[0m \u001b[0mshape_func\u001b[0m\u001b[0;34m(\u001b[0m\u001b[0mop\u001b[0m\u001b[0;34m)\u001b[0m\u001b[0;34m\u001b[0m\u001b[0m\n\u001b[0m\u001b[1;32m   1912\u001b[0m   \u001b[0;32mif\u001b[0m \u001b[0mshapes\u001b[0m \u001b[0;32mis\u001b[0m \u001b[0mNone\u001b[0m\u001b[0;34m:\u001b[0m\u001b[0;34m\u001b[0m\u001b[0m\n\u001b[1;32m   1913\u001b[0m     raise RuntimeError(\n",
      "\u001b[0;32m/usr/local/lib/python2.7/dist-packages/tensorflow/python/framework/ops.pyc\u001b[0m in \u001b[0;36mcall_with_requiring\u001b[0;34m(op)\u001b[0m\n\u001b[1;32m   1859\u001b[0m \u001b[0;34m\u001b[0m\u001b[0m\n\u001b[1;32m   1860\u001b[0m   \u001b[0;32mdef\u001b[0m \u001b[0mcall_with_requiring\u001b[0m\u001b[0;34m(\u001b[0m\u001b[0mop\u001b[0m\u001b[0;34m)\u001b[0m\u001b[0;34m:\u001b[0m\u001b[0;34m\u001b[0m\u001b[0m\n\u001b[0;32m-> 1861\u001b[0;31m     \u001b[0;32mreturn\u001b[0m \u001b[0mcall_cpp_shape_fn\u001b[0m\u001b[0;34m(\u001b[0m\u001b[0mop\u001b[0m\u001b[0;34m,\u001b[0m \u001b[0mrequire_shape_fn\u001b[0m\u001b[0;34m=\u001b[0m\u001b[0mTrue\u001b[0m\u001b[0;34m)\u001b[0m\u001b[0;34m\u001b[0m\u001b[0m\n\u001b[0m\u001b[1;32m   1862\u001b[0m \u001b[0;34m\u001b[0m\u001b[0m\n\u001b[1;32m   1863\u001b[0m   \u001b[0m_call_cpp_shape_fn_and_require_op\u001b[0m \u001b[0;34m=\u001b[0m \u001b[0mcall_with_requiring\u001b[0m\u001b[0;34m\u001b[0m\u001b[0m\n",
      "\u001b[0;32m/usr/local/lib/python2.7/dist-packages/tensorflow/python/framework/common_shapes.pyc\u001b[0m in \u001b[0;36mcall_cpp_shape_fn\u001b[0;34m(op, require_shape_fn)\u001b[0m\n\u001b[1;32m    593\u001b[0m     res = _call_cpp_shape_fn_impl(op, input_tensors_needed,\n\u001b[1;32m    594\u001b[0m                                   \u001b[0minput_tensors_as_shapes_needed\u001b[0m\u001b[0;34m,\u001b[0m\u001b[0;34m\u001b[0m\u001b[0m\n\u001b[0;32m--> 595\u001b[0;31m                                   require_shape_fn)\n\u001b[0m\u001b[1;32m    596\u001b[0m     \u001b[0;32mif\u001b[0m \u001b[0;32mnot\u001b[0m \u001b[0misinstance\u001b[0m\u001b[0;34m(\u001b[0m\u001b[0mres\u001b[0m\u001b[0;34m,\u001b[0m \u001b[0mdict\u001b[0m\u001b[0;34m)\u001b[0m\u001b[0;34m:\u001b[0m\u001b[0;34m\u001b[0m\u001b[0m\n\u001b[1;32m    597\u001b[0m       \u001b[0;31m# Handles the case where _call_cpp_shape_fn_impl calls unknown_shape(op).\u001b[0m\u001b[0;34m\u001b[0m\u001b[0;34m\u001b[0m\u001b[0m\n",
      "\u001b[0;32m/usr/local/lib/python2.7/dist-packages/tensorflow/python/framework/common_shapes.pyc\u001b[0m in \u001b[0;36m_call_cpp_shape_fn_impl\u001b[0;34m(op, input_tensors_needed, input_tensors_as_shapes_needed, require_shape_fn)\u001b[0m\n\u001b[1;32m    657\u001b[0m       \u001b[0mmissing_shape_fn\u001b[0m \u001b[0;34m=\u001b[0m \u001b[0mTrue\u001b[0m\u001b[0;34m\u001b[0m\u001b[0m\n\u001b[1;32m    658\u001b[0m     \u001b[0;32melse\u001b[0m\u001b[0;34m:\u001b[0m\u001b[0;34m\u001b[0m\u001b[0m\n\u001b[0;32m--> 659\u001b[0;31m       \u001b[0;32mraise\u001b[0m \u001b[0mValueError\u001b[0m\u001b[0;34m(\u001b[0m\u001b[0merr\u001b[0m\u001b[0;34m.\u001b[0m\u001b[0mmessage\u001b[0m\u001b[0;34m)\u001b[0m\u001b[0;34m\u001b[0m\u001b[0m\n\u001b[0m\u001b[1;32m    660\u001b[0m \u001b[0;34m\u001b[0m\u001b[0m\n\u001b[1;32m    661\u001b[0m   \u001b[0;32mif\u001b[0m \u001b[0mmissing_shape_fn\u001b[0m\u001b[0;34m:\u001b[0m\u001b[0;34m\u001b[0m\u001b[0m\n",
      "\u001b[0;31mValueError\u001b[0m: Dimension 1 in both shapes must be equal, but are 124 and 496 for 'lambda_4/Select' (op: 'Select') with input shapes: [?,496,64,64], [?,124,?,64], [?,124,?,64]."
     ]
    }
   ],
   "source": [
    "# Defines the input tensor\n",
    "inputs = Input(shape=(496,None,1))\n",
    "\n",
    "L1 = Conv2D(64,kernel_size=(7,3),activation = 'relu',padding = \"same\")(inputs)\n",
    "L2 = BatchNormalization()(L1)\n",
    "L3 = Lambda(maxpool_1,output_shape = shape)(L2)\n",
    "#L3 = MaxPooling2D(pool_size=(2,2))(L2)\n",
    "L4 = Conv2D(64,kernel_size=(7,3),activation = 'relu',padding = \"same\")(L3)\n",
    "L5 = BatchNormalization()(L4)\n",
    "L6 = Lambda(maxpool_2,output_shape = shape)(L5)\n",
    "#L6 = MaxPooling2D(pool_size=(2,2))(L5)\n",
    "L7 = Conv2D(64,kernel_size=(7,3),activation = 'relu',padding = \"same\")(L6)\n",
    "L8 = BatchNormalization()(L7)\n",
    "L9 = Lambda(maxpool_3,output_shape = shape)(L8)\n",
    "#L9 = MaxPooling2D(pool_size=(2,2))(L8)\n",
    "L10 = Conv2D(64,kernel_size=(7,3),activation = 'relu',padding = \"same\")(L9)\n",
    "L11 = BatchNormalization()(L10)\n",
    "#L12 = UpSampling2D(size = (2,2))(L11)\n",
    "L12 = Lambda(unpool_3,output_shape = shape)(L11)\n",
    "L13 = Concatenate(axis = 3)([L8,L12])\n",
    "L14 = Conv2D(64,kernel_size=(7,3),activation = 'relu',padding = \"same\")(L13)\n",
    "L15 = BatchNormalization()(L14)\n",
    "#L16 = UpSampling2D(size= (2,2))(L15)\n",
    "L16 = Lambda(unpool_2,output_shape=unpool_shape)(L15)\n",
    "L17 = Concatenate(axis = 3)([L16,L5])\n",
    "L18 = Conv2D(64,kernel_size=(7,3),activation = 'relu',padding = \"same\")(L17)\n",
    "L19 = BatchNormalization()(L18)\n",
    "L20 = Lambda(unpool_1,output_shape=unpool_shape)(L19)\n",
    "#L20 = UpSampling2D(size=(2,2),name = \"Layer19\")(L19)\n",
    "L21 = Concatenate(axis=3)([L20,L2])\n",
    "L22 = Conv2D(64,kernel_size=(7,3),activation = 'relu',padding = \"same\")(L21)\n",
    "L23 = BatchNormalization()(L22)\n",
    "L24 = Conv2D(8,kernel_size=(1,1),activation = 'softmax',padding = \"same\")(L23)\n",
    "\n",
    "model = Model(inputs = inputs, outputs = L24)\n",
    "model.summary()"
   ]
  },
  {
   "cell_type": "code",
   "execution_count": 9,
   "metadata": {
    "collapsed": true
   },
   "outputs": [],
   "source": [
    "model.compile(optimizer='Adam',loss='categorical_crossentropy',metrics=['accuracy'])"
   ]
  },
  {
   "cell_type": "code",
   "execution_count": 10,
   "metadata": {
    "scrolled": true
   },
   "outputs": [
    {
     "name": "stdout",
     "output_type": "stream",
     "text": [
      "Train on 515 samples, validate on 255 samples\n",
      "Epoch 1/10\n",
      "515/515 [==============================] - 1375s - loss: 1.4785 - acc: 0.7307 - val_loss: 1.8171 - val_acc: 0.8342\n",
      "Epoch 2/10\n",
      "515/515 [==============================] - 1358s - loss: 0.9489 - acc: 0.7920 - val_loss: 1.1931 - val_acc: 0.7953\n",
      "Epoch 3/10\n",
      "515/515 [==============================] - 1431s - loss: 0.7919 - acc: 0.8005 - val_loss: 1.2294 - val_acc: 0.7746\n",
      "Epoch 4/10\n",
      "515/515 [==============================] - 1372s - loss: 0.7093 - acc: 0.8020 - val_loss: 0.6476 - val_acc: 0.8346\n",
      "Epoch 5/10\n",
      "515/515 [==============================] - 1476s - loss: 0.6552 - acc: 0.8054 - val_loss: 0.6271 - val_acc: 0.8318\n",
      "Epoch 6/10\n",
      "515/515 [==============================] - 1647s - loss: 0.7162 - acc: 0.8035 - val_loss: 0.6038 - val_acc: 0.8344\n",
      "Epoch 7/10\n",
      "515/515 [==============================] - 1455s - loss: 0.6374 - acc: 0.8073 - val_loss: 0.5707 - val_acc: 0.8348\n",
      "Epoch 8/10\n",
      "515/515 [==============================] - 1467s - loss: 0.6300 - acc: 0.8076 - val_loss: 0.8078 - val_acc: 0.7545\n",
      "Epoch 9/10\n",
      "515/515 [==============================] - 1536s - loss: 0.6687 - acc: 0.8006 - val_loss: 0.6330 - val_acc: 0.8125\n",
      "Epoch 10/10\n",
      "515/515 [==============================] - 1519s - loss: 0.6285 - acc: 0.8031 - val_loss: 0.5784 - val_acc: 0.8229\n"
     ]
    },
    {
     "data": {
      "text/plain": [
       "<keras.callbacks.History at 0x7f855d2b7210>"
      ]
     },
     "execution_count": 10,
     "metadata": {},
     "output_type": "execute_result"
    }
   ],
   "source": [
    "train_images_2=np.array(images)\n",
    "train_labels_2=np.array(labels_list)\n",
    "model.fit(train_images_2,train_labels_2,batch_size=8,epochs=10,validation_split = 0.33)"
   ]
  },
  {
   "cell_type": "code",
   "execution_count": 11,
   "metadata": {
    "collapsed": true
   },
   "outputs": [],
   "source": [
    "model.save_weights(\"weights.h5\")"
   ]
  },
  {
   "cell_type": "code",
   "execution_count": 55,
   "metadata": {
    "collapsed": true
   },
   "outputs": [],
   "source": [
    "testing_image = ndimage.imread('Dataset/testing_image_4.png',mode = 'L')"
   ]
  },
  {
   "cell_type": "code",
   "execution_count": 56,
   "metadata": {},
   "outputs": [
    {
     "name": "stdout",
     "output_type": "stream",
     "text": [
      "496\n"
     ]
    }
   ],
   "source": [
    "testing_image = np.array(testing_image)\n",
    "print(testing_image.shape[0])"
   ]
  },
  {
   "cell_type": "code",
   "execution_count": 57,
   "metadata": {
    "collapsed": true
   },
   "outputs": [],
   "source": [
    "testing_image = testing_image.reshape(1,496,64,1)"
   ]
  },
  {
   "cell_type": "code",
   "execution_count": 58,
   "metadata": {
    "collapsed": true
   },
   "outputs": [],
   "source": [
    "prediction = model.predict(testing_image)"
   ]
  },
  {
   "cell_type": "code",
   "execution_count": 59,
   "metadata": {},
   "outputs": [
    {
     "name": "stdout",
     "output_type": "stream",
     "text": [
      "(1, 496, 64, 8)\n"
     ]
    }
   ],
   "source": [
    "print(prediction.shape)"
   ]
  },
  {
   "cell_type": "code",
   "execution_count": 60,
   "metadata": {
    "collapsed": true
   },
   "outputs": [],
   "source": [
    "prediction = np.squeeze(prediction,axis = 0)"
   ]
  },
  {
   "cell_type": "code",
   "execution_count": 61,
   "metadata": {},
   "outputs": [
    {
     "name": "stdout",
     "output_type": "stream",
     "text": [
      "(496, 64, 8)\n"
     ]
    }
   ],
   "source": [
    "print(prediction.shape)\n"
   ]
  },
  {
   "cell_type": "code",
   "execution_count": 62,
   "metadata": {},
   "outputs": [
    {
     "name": "stdout",
     "output_type": "stream",
     "text": [
      "[[[  9.90431845e-01   5.23849914e-04   2.38480396e-03 ...,   3.14290333e-03\n",
      "     7.15359987e-04   9.47752633e-05]\n",
      "  [  9.95876908e-01   1.26564744e-04   5.17529435e-04 ...,   2.05338211e-03\n",
      "     3.22114036e-04   4.62890821e-05]\n",
      "  [  9.91709769e-01   3.47106252e-04   1.40436867e-03 ...,   3.52300471e-03\n",
      "     4.66498459e-04   1.45449289e-04]\n",
      "  ..., \n",
      "  [  9.93215978e-01   2.89540971e-04   1.14223047e-03 ...,   2.86238850e-03\n",
      "     4.15960822e-04   1.21896235e-04]\n",
      "  [  9.94165242e-01   1.88748279e-04   9.98849748e-04 ...,   2.88870698e-03\n",
      "     5.12290921e-04   5.69161930e-05]\n",
      "  [  9.77184176e-01   1.62097695e-03   5.97098330e-03 ...,   8.09637923e-03\n",
      "     1.31334132e-03   5.07012708e-04]]\n",
      "\n",
      " [[  9.90255058e-01   3.38861166e-04   1.74046448e-03 ...,   4.34618024e-03\n",
      "     1.35297398e-03   1.18468612e-04]\n",
      "  [  9.95023370e-01   1.01163852e-04   3.01213498e-04 ...,   2.36597634e-03\n",
      "     9.77306976e-04   7.58161477e-05]\n",
      "  [  9.88762558e-01   4.33083362e-04   1.21312588e-03 ...,   5.10587031e-03\n",
      "     1.09717529e-03   2.63440015e-04]\n",
      "  ..., \n",
      "  [  9.91281629e-01   3.42571380e-04   9.18625679e-04 ...,   3.90662067e-03\n",
      "     8.95616191e-04   2.10764672e-04]\n",
      "  [  9.93597388e-01   1.58802737e-04   3.77169432e-04 ...,   3.55895376e-03\n",
      "     1.00448204e-03   9.56160293e-05]\n",
      "  [  9.84181404e-01   8.47313553e-04   3.29919416e-03 ...,   7.02520646e-03\n",
      "     1.48526952e-03   2.46619573e-04]]\n",
      "\n",
      " [[  9.74529088e-01   1.21575373e-03   4.12007654e-03 ...,   1.18069425e-02\n",
      "     3.39906197e-03   2.07784149e-04]\n",
      "  [  9.90355372e-01   1.86323290e-04   5.50398894e-04 ...,   5.00425138e-03\n",
      "     2.17842031e-03   5.41268673e-05]\n",
      "  [  9.78334606e-01   8.60139553e-04   2.12629605e-03 ...,   1.12865148e-02\n",
      "     2.77075032e-03   2.52791593e-04]\n",
      "  ..., \n",
      "  [  9.83236134e-01   6.94643648e-04   1.56729110e-03 ...,   8.49746075e-03\n",
      "     2.30723177e-03   2.13592415e-04]\n",
      "  [  9.83772814e-01   4.62632335e-04   8.58771964e-04 ...,   9.48271807e-03\n",
      "     2.97520170e-03   1.66534373e-04]\n",
      "  [  9.70981836e-01   1.66576635e-03   4.81727673e-03 ...,   1.36180576e-02\n",
      "     3.62858782e-03   3.86472471e-04]]\n",
      "\n",
      " ..., \n",
      " [[  9.35610414e-01   1.08410632e-02   1.88477654e-02 ...,   1.36803668e-02\n",
      "     4.30256780e-03   2.60322005e-03]\n",
      "  [  9.39385593e-01   1.32400952e-02   1.94174219e-02 ...,   1.22866249e-02\n",
      "     2.79524969e-03   1.33786676e-03]\n",
      "  [  9.21719193e-01   1.81544051e-02   2.51135882e-02 ...,   1.53281745e-02\n",
      "     3.10707092e-03   1.35587540e-03]\n",
      "  ..., \n",
      "  [  9.39390004e-01   1.46924844e-02   1.78972241e-02 ...,   1.28695564e-02\n",
      "     2.74265511e-03   1.00809371e-03]\n",
      "  [  9.53405738e-01   1.02786161e-02   1.31759392e-02 ...,   1.16282357e-02\n",
      "     2.59682676e-03   9.56178759e-04]\n",
      "  [  9.40995097e-01   9.32195224e-03   1.65981501e-02 ...,   1.46331051e-02\n",
      "     4.64907149e-03   2.39924761e-03]]\n",
      "\n",
      " [[  9.35710251e-01   8.82554706e-03   1.80705097e-02 ...,   1.45533094e-02\n",
      "     5.01212943e-03   3.22904368e-03]\n",
      "  [  9.42313135e-01   1.03421314e-02   1.74628738e-02 ...,   1.26807513e-02\n",
      "     3.60166538e-03   1.94576941e-03]\n",
      "  [  9.27808166e-01   1.45627605e-02   2.14146730e-02 ...,   1.58059113e-02\n",
      "     3.91027471e-03   1.74122292e-03]\n",
      "  ..., \n",
      "  [  9.41626608e-01   1.15386834e-02   1.72992889e-02 ...,   1.23937000e-02\n",
      "     3.32949962e-03   1.52602140e-03]\n",
      "  [  9.52535748e-01   8.70242342e-03   1.32798329e-02 ...,   1.21384030e-02\n",
      "     3.22847255e-03   1.34360127e-03]\n",
      "  [  9.28587019e-01   1.02902604e-02   1.85933243e-02 ...,   1.81699209e-02\n",
      "     5.62000927e-03   3.50589771e-03]]\n",
      "\n",
      " [[  9.10407841e-01   1.02036027e-02   2.61319485e-02 ...,   1.98036041e-02\n",
      "     6.61617937e-03   5.62639721e-03]\n",
      "  [  9.23993826e-01   1.14721227e-02   2.22188327e-02 ...,   1.70544311e-02\n",
      "     5.09488583e-03   3.53984325e-03]\n",
      "  [  9.24438477e-01   1.18975407e-02   2.22453475e-02 ...,   1.77026223e-02\n",
      "     4.98476950e-03   2.73528113e-03]\n",
      "  ..., \n",
      "  [  9.31796908e-01   9.85012203e-03   2.00748146e-02 ...,   1.74492002e-02\n",
      "     4.74172458e-03   2.67803459e-03]\n",
      "  [  9.40884888e-01   8.53689015e-03   1.60142053e-02 ...,   1.56390071e-02\n",
      "     4.78343479e-03   2.42307270e-03]\n",
      "  [  9.06518459e-01   1.16982171e-02   2.40787175e-02 ...,   2.22525187e-02\n",
      "     8.14915914e-03   5.75513532e-03]]]\n"
     ]
    }
   ],
   "source": [
    "print (prediction)"
   ]
  },
  {
   "cell_type": "code",
   "execution_count": 63,
   "metadata": {},
   "outputs": [
    {
     "name": "stdout",
     "output_type": "stream",
     "text": [
      "[ 0.18668322  0.02075981  0.07049716  0.08813264  0.0905104   0.37279558\n",
      "  0.11087015  0.059751  ]\n"
     ]
    }
   ],
   "source": [
    "print(prediction[260][45])"
   ]
  },
  {
   "cell_type": "code",
   "execution_count": 64,
   "metadata": {},
   "outputs": [
    {
     "name": "stdout",
     "output_type": "stream",
     "text": [
      "3\n"
     ]
    }
   ],
   "source": [
    "s = [1,2,3,4]\n",
    "print(np.argmax(s))"
   ]
  },
  {
   "cell_type": "code",
   "execution_count": 65,
   "metadata": {},
   "outputs": [
    {
     "name": "stdout",
     "output_type": "stream",
     "text": [
      "(496, 64, 8)\n"
     ]
    }
   ],
   "source": [
    "print(prediction.shape)"
   ]
  },
  {
   "cell_type": "code",
   "execution_count": 66,
   "metadata": {
    "collapsed": true
   },
   "outputs": [],
   "source": [
    "output = np.zeros((496,64))"
   ]
  },
  {
   "cell_type": "code",
   "execution_count": 67,
   "metadata": {
    "collapsed": true
   },
   "outputs": [],
   "source": [
    "for i in range(496):\n",
    "    for j in range(64):\n",
    "        index = np.argmax(prediction[i][j])\n",
    "        output[i][j] = index"
   ]
  },
  {
   "cell_type": "code",
   "execution_count": 68,
   "metadata": {},
   "outputs": [
    {
     "name": "stdout",
     "output_type": "stream",
     "text": [
      "(496, 64)\n"
     ]
    }
   ],
   "source": [
    "print (output.shape)"
   ]
  },
  {
   "cell_type": "code",
   "execution_count": 69,
   "metadata": {
    "collapsed": true
   },
   "outputs": [],
   "source": [
    "color= np.zeros((496,64,3))"
   ]
  },
  {
   "cell_type": "code",
   "execution_count": 70,
   "metadata": {
    "collapsed": true
   },
   "outputs": [],
   "source": [
    "for j in range(496):\n",
    "    for k in range(64):\n",
    "        if(output[j][k]==0):\n",
    "            color[j][k] = [0,0,0]\n",
    "        if(output[j][k]==1):\n",
    "            color[j][k] = [128,0,0]\n",
    "        if(output[j][k]==2):\n",
    "            color[j][k] = [0,128,0]\n",
    "        if(output[j][k]==3):\n",
    "            color[j][k] = [128,128,0] \n",
    "        if(output[j][k]==4):\n",
    "            color[j][k] = [0,128,128]\n",
    "        if(output[j][k]==5):\n",
    "            color[j][k] = [64,0,0]\n",
    "        if(output[j][k]==6):\n",
    "            color[j][k] = [192,0,0]\n",
    "        if(output[j][k]==7):\n",
    "            color[j][k] = [64,128,0]"
   ]
  },
  {
   "cell_type": "code",
   "execution_count": 71,
   "metadata": {},
   "outputs": [
    {
     "data": {
      "text/plain": [
       "<matplotlib.image.AxesImage at 0x7f84257fba50>"
      ]
     },
     "execution_count": 71,
     "metadata": {},
     "output_type": "execute_result"
    }
   ],
   "source": [
    "plt.imshow(color)"
   ]
  },
  {
   "cell_type": "code",
   "execution_count": 72,
   "metadata": {},
   "outputs": [
    {
     "data": {
      "image/png": "[encoded data removed]",
      "text/plain": [
       "<matplotlib.figure.Figure at 0x7f84258bd3d0>"
      ]
     },
     "metadata": {},
     "output_type": "display_data"
    }
   ],
   "source": [
    "plt.show()"
   ]
  },
  {
   "cell_type": "code",
   "execution_count": null,
   "metadata": {
    "collapsed": true
   },
   "outputs": [],
   "source": []
  }
 ],
 "metadata": {
  "kernelspec": {
   "display_name": "Python 2",
   "language": "python",
   "name": "python2"
  },
  "language_info": {
   "codemirror_mode": {
    "name": "ipython",
    "version": 2
   },
   "file_extension": ".py",
   "mimetype": "text/x-python",
   "name": "python",
   "nbconvert_exporter": "python",
   "pygments_lexer": "ipython2",
   "version": "2.7.9"
  }
 },
 "nbformat": 4,
 "nbformat_minor": 2
}
