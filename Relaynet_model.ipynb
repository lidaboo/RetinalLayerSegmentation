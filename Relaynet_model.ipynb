{
 "cells": [
  {
   "cell_type": "code",
   "execution_count": 1,
   "metadata": {},
   "outputs": [
    {
     "name": "stderr",
     "output_type": "stream",
     "text": [
      "Using TensorFlow backend.\n"
     ]
    }
   ],
   "source": [
    "import keras\n",
    "from keras.layers import Activation\n",
    "from keras.layers import Conv2D, MaxPooling2D\n",
    "from keras.models import Model\n",
    "from keras.layers import Input\n",
    "from keras.layers import BatchNormalization\n",
    "from keras.layers import UpSampling2D\n",
    "from keras.layers import Concatenate"
   ]
  },
  {
   "cell_type": "code",
   "execution_count": 2,
   "metadata": {
    "collapsed": true
   },
   "outputs": [],
   "source": [
    "import scipy.io as scio\n",
    "import numpy as np    \n",
    "import os\n",
    "import matplotlib.pyplot as plt\n",
    "from scipy.misc import imsave\n",
    "from scipy import ndimage, misc"
   ]
  },
  {
   "cell_type": "code",
   "execution_count": 3,
   "metadata": {
    "collapsed": true
   },
   "outputs": [],
   "source": [
    "images = []\n",
    "for root, dirnames, filenames in os.walk(\"Dataset/Train_images/\"):\n",
    "    for filename in filenames:\n",
    "        filepath = os.path.join(root, filename)\n",
    "        image = ndimage.imread(filepath, mode=\"L\")\n",
    "        images.append(image)"
   ]
  },
  {
   "cell_type": "code",
   "execution_count": 4,
   "metadata": {},
   "outputs": [
    {
     "name": "stdout",
     "output_type": "stream",
     "text": [
      "496\n"
     ]
    }
   ],
   "source": [
    "print (len(image))\n"
   ]
  },
  {
   "cell_type": "code",
   "execution_count": 5,
   "metadata": {
    "collapsed": true
   },
   "outputs": [],
   "source": [
    "labels = np.load('train_labels.npy')\n",
    "labels_list = []\n",
    "for i in range(len(labels)):\n",
    "    labels_list.append(labels[i])"
   ]
  },
  {
   "cell_type": "code",
   "execution_count": 22,
   "metadata": {},
   "outputs": [
    {
     "name": "stdout",
     "output_type": "stream",
     "text": [
      "770\n",
      "<type 'numpy.ndarray'>\n",
      "770\n",
      "(496, 64, 1)\n"
     ]
    }
   ],
   "source": [
    "print (len(labels_list))\n",
    "print (type(labels_list[0]))\n",
    "\n",
    "\n",
    "images=np.array(images)\n",
    "print(images.shape[0])\n",
    "images = images.reshape(images.shape[0],496,64,1)\n",
    "\n",
    "print(images[0].shape)\n",
    "train_labels=labels_list[0:500]\n",
    "train_images=images[0:500]\n",
    "test_labels = labels_list[500:770]\n",
    "test_images = images[500:770]"
   ]
  },
  {
   "cell_type": "code",
   "execution_count": 7,
   "metadata": {},
   "outputs": [
    {
     "name": "stdout",
     "output_type": "stream",
     "text": [
      "500\n",
      "500\n",
      "(500, 496, 64, 8)\n"
     ]
    }
   ],
   "source": [
    "print (len(train_images))\n",
    "print (len(train_labels))\n",
    "print (np.array(train_labels).shape)"
   ]
  },
  {
   "cell_type": "code",
   "execution_count": 8,
   "metadata": {},
   "outputs": [
    {
     "name": "stdout",
     "output_type": "stream",
     "text": [
      "____________________________________________________________________________________________________\n",
      "Layer (type)                     Output Shape          Param #     Connected to                     \n",
      "====================================================================================================\n",
      "input_1 (InputLayer)             (None, 496, 64, 1)    0                                            \n",
      "____________________________________________________________________________________________________\n",
      "conv2d_1 (Conv2D)                (None, 496, 64, 64)   1408        input_1[0][0]                    \n",
      "____________________________________________________________________________________________________\n",
      "batch_normalization_1 (BatchNorm (None, 496, 64, 64)   256         conv2d_1[0][0]                   \n",
      "____________________________________________________________________________________________________\n",
      "max_pooling2d_1 (MaxPooling2D)   (None, 248, 32, 64)   0           batch_normalization_1[0][0]      \n",
      "____________________________________________________________________________________________________\n",
      "conv2d_2 (Conv2D)                (None, 248, 32, 64)   86080       max_pooling2d_1[0][0]            \n",
      "____________________________________________________________________________________________________\n",
      "batch_normalization_2 (BatchNorm (None, 248, 32, 64)   256         conv2d_2[0][0]                   \n",
      "____________________________________________________________________________________________________\n",
      "max_pooling2d_2 (MaxPooling2D)   (None, 124, 16, 64)   0           batch_normalization_2[0][0]      \n",
      "____________________________________________________________________________________________________\n",
      "conv2d_3 (Conv2D)                (None, 124, 16, 64)   86080       max_pooling2d_2[0][0]            \n",
      "____________________________________________________________________________________________________\n",
      "batch_normalization_3 (BatchNorm (None, 124, 16, 64)   256         conv2d_3[0][0]                   \n",
      "____________________________________________________________________________________________________\n",
      "max_pooling2d_3 (MaxPooling2D)   (None, 62, 8, 64)     0           batch_normalization_3[0][0]      \n",
      "____________________________________________________________________________________________________\n",
      "conv2d_4 (Conv2D)                (None, 62, 8, 64)     86080       max_pooling2d_3[0][0]            \n",
      "____________________________________________________________________________________________________\n",
      "batch_normalization_4 (BatchNorm (None, 62, 8, 64)     256         conv2d_4[0][0]                   \n",
      "____________________________________________________________________________________________________\n",
      "up_sampling2d_1 (UpSampling2D)   (None, 124, 16, 64)   0           batch_normalization_4[0][0]      \n",
      "____________________________________________________________________________________________________\n",
      "concatenate_1 (Concatenate)      (None, 124, 16, 128)  0           batch_normalization_3[0][0]      \n",
      "                                                                   up_sampling2d_1[0][0]            \n",
      "____________________________________________________________________________________________________\n",
      "conv2d_5 (Conv2D)                (None, 124, 16, 64)   172096      concatenate_1[0][0]              \n",
      "____________________________________________________________________________________________________\n",
      "batch_normalization_5 (BatchNorm (None, 124, 16, 64)   256         conv2d_5[0][0]                   \n",
      "____________________________________________________________________________________________________\n",
      "up_sampling2d_2 (UpSampling2D)   (None, 248, 32, 64)   0           batch_normalization_5[0][0]      \n",
      "____________________________________________________________________________________________________\n",
      "concatenate_2 (Concatenate)      (None, 248, 32, 128)  0           up_sampling2d_2[0][0]            \n",
      "                                                                   batch_normalization_2[0][0]      \n",
      "____________________________________________________________________________________________________\n",
      "conv2d_6 (Conv2D)                (None, 248, 32, 64)   172096      concatenate_2[0][0]              \n",
      "____________________________________________________________________________________________________\n",
      "batch_normalization_6 (BatchNorm (None, 248, 32, 64)   256         conv2d_6[0][0]                   \n",
      "____________________________________________________________________________________________________\n",
      "up_sampling2d_3 (UpSampling2D)   (None, 496, 64, 64)   0           batch_normalization_6[0][0]      \n",
      "____________________________________________________________________________________________________\n",
      "concatenate_3 (Concatenate)      (None, 496, 64, 128)  0           up_sampling2d_3[0][0]            \n",
      "                                                                   batch_normalization_1[0][0]      \n",
      "____________________________________________________________________________________________________\n",
      "conv2d_7 (Conv2D)                (None, 496, 64, 64)   172096      concatenate_3[0][0]              \n",
      "____________________________________________________________________________________________________\n",
      "batch_normalization_7 (BatchNorm (None, 496, 64, 64)   256         conv2d_7[0][0]                   \n",
      "____________________________________________________________________________________________________\n",
      "conv2d_8 (Conv2D)                (None, 496, 64, 8)    520         batch_normalization_7[0][0]      \n",
      "====================================================================================================\n",
      "Total params: 778,248\n",
      "Trainable params: 777,352\n",
      "Non-trainable params: 896\n",
      "____________________________________________________________________________________________________\n"
     ]
    }
   ],
   "source": [
    "# Defines the input tensor\n",
    "inputs = Input(shape=(496,64,1))\n",
    "\n",
    "L1 = Conv2D(64,kernel_size=(7,3),activation = 'relu',padding = \"same\")(inputs)\n",
    "L2 = BatchNormalization()(L1)\n",
    "L3 = MaxPooling2D(pool_size=(2,2))(L2)\n",
    "L4 = Conv2D(64,kernel_size=(7,3),activation = 'relu',padding = \"same\")(L3)\n",
    "L5 = BatchNormalization()(L4)\n",
    "L6 = MaxPooling2D(pool_size=(2,2))(L5)\n",
    "L7 = Conv2D(64,kernel_size=(7,3),activation = 'relu',padding = \"same\")(L6)\n",
    "L8 = BatchNormalization()(L7)\n",
    "L9 = MaxPooling2D(pool_size=(2,2))(L8)\n",
    "L10 = Conv2D(64,kernel_size=(7,3),activation = 'relu',padding = \"same\")(L9)\n",
    "L11 = BatchNormalization()(L10)\n",
    "L12 = UpSampling2D(size = (2,2))(L11)\n",
    "L13 = Concatenate(axis = 3)([L8,L12])\n",
    "L14 = Conv2D(64,kernel_size=(7,3),activation = 'relu',padding = \"same\")(L13)\n",
    "L15 = BatchNormalization()(L14)\n",
    "L16 = UpSampling2D(size= (2,2))(L15)\n",
    "L17 = Concatenate(axis = 3)([L16,L5])\n",
    "L18 = Conv2D(64,kernel_size=(7,3),activation = 'relu',padding = \"same\")(L17)\n",
    "L19 = BatchNormalization()(L18)\n",
    "L20 = UpSampling2D(size=(2,2))(L19)\n",
    "L21 = Concatenate(axis=3)([L20,L2])\n",
    "L22 = Conv2D(64,kernel_size=(7,3),activation = 'relu',padding = \"same\")(L21)\n",
    "L23 = BatchNormalization()(L22)\n",
    "L24 = Conv2D(8,kernel_size=(1,1),activation = 'softmax',padding = \"same\")(L23)\n",
    "\n",
    "model = Model(inputs = inputs, outputs = L24)\n",
    "model.summary()"
   ]
  },
  {
   "cell_type": "code",
   "execution_count": 11,
   "metadata": {
    "collapsed": true
   },
   "outputs": [],
   "source": [
    "model.compile(optimizer='Adam',loss='categorical_crossentropy',metrics=['accuracy'])"
   ]
  },
  {
   "cell_type": "code",
   "execution_count": 12,
   "metadata": {},
   "outputs": [
    {
     "name": "stdout",
     "output_type": "stream",
     "text": [
      "Train on 515 samples, validate on 255 samples\n",
      "Epoch 1/2\n",
      "515/515 [==============================] - 1487s - loss: 0.8536 - acc: 0.7956 - val_loss: 0.7650 - val_acc: 0.8141\n",
      "Epoch 2/2\n",
      "515/515 [==============================] - 1373s - loss: 0.7137 - acc: 0.8014 - val_loss: 0.6420 - val_acc: 0.8109\n"
     ]
    },
    {
     "data": {
      "text/plain": [
       "<keras.callbacks.History at 0x7efeeda1a9d0>"
      ]
     },
     "execution_count": 12,
     "metadata": {},
     "output_type": "execute_result"
    }
   ],
   "source": [
    "train_images_2=np.array(images)\n",
    "train_labels_2=np.array(labels_list)\n",
    "model.fit(train_images_2,train_labels_2,batch_size=8,epochs=2,validation_split = 0.33)"
   ]
  },
  {
   "cell_type": "code",
   "execution_count": 14,
   "metadata": {},
   "outputs": [],
   "source": [
    "testing_image = ndimage.imread('Dataset/testing_image_1.png',mode = 'L')"
   ]
  },
  {
   "cell_type": "code",
   "execution_count": 21,
   "metadata": {},
   "outputs": [
    {
     "name": "stdout",
     "output_type": "stream",
     "text": [
      "496\n"
     ]
    }
   ],
   "source": [
    "testing_image = np.array(testing_image)\n",
    "print(testing_image.shape[0])"
   ]
  },
  {
   "cell_type": "code",
   "execution_count": 23,
   "metadata": {},
   "outputs": [],
   "source": [
    "testing_image = testing_image.reshape(1,496,64,1)"
   ]
  },
  {
   "cell_type": "code",
   "execution_count": 24,
   "metadata": {
    "collapsed": true
   },
   "outputs": [],
   "source": [
    "prediction = model.predict(testing_image)"
   ]
  },
  {
   "cell_type": "code",
   "execution_count": 26,
   "metadata": {},
   "outputs": [
    {
     "name": "stdout",
     "output_type": "stream",
     "text": [
      "(1, 496, 64, 8)\n"
     ]
    }
   ],
   "source": [
    "print(prediction.shape)"
   ]
  },
  {
   "cell_type": "code",
   "execution_count": 27,
   "metadata": {
    "collapsed": true
   },
   "outputs": [],
   "source": [
    "prediction = np.squeeze(prediction,axis = 0)"
   ]
  },
  {
   "cell_type": "code",
   "execution_count": 28,
   "metadata": {},
   "outputs": [
    {
     "name": "stdout",
     "output_type": "stream",
     "text": [
      "(496, 64, 8)\n"
     ]
    }
   ],
   "source": [
    "print(prediction.shape)\n"
   ]
  },
  {
   "cell_type": "code",
   "execution_count": 29,
   "metadata": {},
   "outputs": [
    {
     "name": "stdout",
     "output_type": "stream",
     "text": [
      "[[[  9.51055288e-01   5.08835772e-03   7.64070824e-03 ...,   1.35591161e-02\n",
      "     6.41391333e-03   2.03385856e-03]\n",
      "  [  9.89129066e-01   1.37636391e-03   1.59470248e-03 ...,   2.83164089e-03\n",
      "     7.98437861e-04   2.31422222e-04]\n",
      "  [  9.93243515e-01   7.29773950e-04   1.49815169e-03 ...,   1.28048542e-03\n",
      "     4.12662775e-04   1.85338038e-04]\n",
      "  ..., \n",
      "  [  9.94452059e-01   7.07910745e-04   1.41219539e-03 ...,   1.00862223e-03\n",
      "     3.69670161e-04   1.79604278e-04]\n",
      "  [  9.95130897e-01   6.43168984e-04   1.22412457e-03 ...,   9.06944857e-04\n",
      "     4.26636048e-04   1.55635309e-04]\n",
      "  [  9.53116298e-01   5.21943672e-03   1.37084033e-02 ...,   8.16471688e-03\n",
      "     5.32337837e-03   2.99629872e-03]]\n",
      "\n",
      " [[  9.71927583e-01   3.18190339e-03   4.34533600e-03 ...,   7.71330064e-03\n",
      "     3.47576826e-03   1.17555854e-03]\n",
      "  [  9.92332339e-01   1.05487648e-03   9.60503006e-04 ...,   1.33030058e-03\n",
      "     7.65082950e-04   1.42906603e-04]\n",
      "  [  9.96978879e-01   3.48684174e-04   4.96730441e-04 ...,   3.93205701e-04\n",
      "     2.08712503e-04   5.83308865e-05]\n",
      "  ..., \n",
      "  [  9.96993065e-01   4.23165329e-04   6.46503526e-04 ...,   3.71178554e-04\n",
      "     2.41100832e-04   7.07248328e-05]\n",
      "  [  9.96503234e-01   4.74982196e-04   6.72373106e-04 ...,   5.24798350e-04\n",
      "     3.81261663e-04   8.58281928e-05]\n",
      "  [  9.65992808e-01   3.39544169e-03   9.13853757e-03 ...,   5.28122764e-03\n",
      "     3.75847588e-03   1.57940737e-03]]\n",
      "\n",
      " [[  9.85808909e-01   1.29684433e-03   1.84106070e-03 ...,   4.47390834e-03\n",
      "     1.98435714e-03   6.44019747e-04]\n",
      "  [  9.95573640e-01   3.14064266e-04   4.16416297e-04 ...,   1.38756784e-03\n",
      "     4.75905574e-04   8.72903038e-05]\n",
      "  [  9.97444272e-01   1.92201333e-04   3.33597476e-04 ...,   5.20766596e-04\n",
      "     2.03685166e-04   4.78459806e-05]\n",
      "  ..., \n",
      "  [  9.97610331e-01   2.25481403e-04   3.99003562e-04 ...,   4.35565395e-04\n",
      "     2.16054614e-04   4.88137011e-05]\n",
      "  [  9.97808039e-01   2.36925698e-04   3.40180763e-04 ...,   4.42261226e-04\n",
      "     2.38605688e-04   5.32321537e-05]\n",
      "  [  9.66399193e-01   3.70914675e-03   7.93995336e-03 ...,   6.73726574e-03\n",
      "     3.31153534e-03   1.29014603e-03]]\n",
      "\n",
      " ..., \n",
      " [[  9.69283044e-01   6.54221140e-03   7.01131532e-03 ...,   3.89284478e-03\n",
      "     2.89150723e-03   2.86697154e-03]\n",
      "  [  9.87812579e-01   3.28416866e-03   2.92515079e-03 ...,   9.43927909e-04\n",
      "     9.35691234e-04   1.00970222e-03]\n",
      "  [  9.86336768e-01   3.79176671e-03   3.48140928e-03 ...,   9.95177194e-04\n",
      "     9.34707292e-04   1.05611049e-03]\n",
      "  ..., \n",
      "  [  9.86020982e-01   4.14284552e-03   3.42264399e-03 ...,   1.14548916e-03\n",
      "     8.19980341e-04   9.85727995e-04]\n",
      "  [  9.85495746e-01   4.25336650e-03   3.45060788e-03 ...,   1.28730561e-03\n",
      "     8.94501165e-04   1.03413104e-03]\n",
      "  [  9.60495889e-01   7.60861021e-03   8.75379611e-03 ...,   5.84264100e-03\n",
      "     3.63419112e-03   3.43314931e-03]]\n",
      "\n",
      " [[  9.55644906e-01   8.31318926e-03   9.63118952e-03 ...,   6.27842871e-03\n",
      "     4.55802865e-03   4.15671756e-03]\n",
      "  [  9.78530109e-01   5.04812133e-03   5.22909965e-03 ...,   1.98571174e-03\n",
      "     1.79774640e-03   1.85652089e-03]\n",
      "  [  9.78672028e-01   5.19514782e-03   5.22524165e-03 ...,   1.91389397e-03\n",
      "     1.64543127e-03   1.73377316e-03]\n",
      "  ..., \n",
      "  [  9.77988005e-01   5.57303196e-03   5.44334389e-03 ...,   2.26005469e-03\n",
      "     1.54181360e-03   1.64663256e-03]\n",
      "  [  9.77891982e-01   5.48708811e-03   5.16688451e-03 ...,   2.31918204e-03\n",
      "     1.68189756e-03   1.70613674e-03]\n",
      "  [  9.44689631e-01   9.66164935e-03   1.20661473e-02 ...,   9.18368809e-03\n",
      "     5.26509481e-03   4.74038627e-03]]\n",
      "\n",
      " [[  9.28286314e-01   1.11958981e-02   1.62602738e-02 ...,   1.11626610e-02\n",
      "     8.23814888e-03   6.85679819e-03]\n",
      "  [  9.62292314e-01   7.13734142e-03   9.05603450e-03 ...,   4.40148916e-03\n",
      "     3.56324506e-03   3.56673659e-03]\n",
      "  [  9.59947288e-01   7.89737981e-03   1.00218430e-02 ...,   4.72675217e-03\n",
      "     3.48111289e-03   3.47085972e-03]\n",
      "  ..., \n",
      "  [  9.59942281e-01   8.14041123e-03   9.94303729e-03 ...,   5.16907545e-03\n",
      "     3.40097724e-03   3.27098556e-03]\n",
      "  [  9.59538519e-01   8.52445699e-03   1.01023950e-02 ...,   4.97948192e-03\n",
      "     3.36421956e-03   3.21647828e-03]\n",
      "  [  9.06368315e-01   1.39346663e-02   2.12940350e-02 ...,   1.72721650e-02\n",
      "     9.14405193e-03   8.10787454e-03]]]\n"
     ]
    }
   ],
   "source": [
    "print (prediction)"
   ]
  },
  {
   "cell_type": "code",
   "execution_count": 45,
   "metadata": {},
   "outputs": [
    {
     "name": "stdout",
     "output_type": "stream",
     "text": [
      "[ 0.40268043  0.0040052   0.01174086  0.04017023  0.02991423  0.38745448\n",
      "  0.06749202  0.05654261]\n"
     ]
    }
   ],
   "source": [
    "print(prediction[260][45])"
   ]
  },
  {
   "cell_type": "code",
   "execution_count": 35,
   "metadata": {},
   "outputs": [
    {
     "name": "stdout",
     "output_type": "stream",
     "text": [
      "3\n"
     ]
    }
   ],
   "source": [
    "s = [1,2,3,4]\n",
    "print(np.argmax(s))"
   ]
  },
  {
   "cell_type": "code",
   "execution_count": 46,
   "metadata": {},
   "outputs": [
    {
     "name": "stdout",
     "output_type": "stream",
     "text": [
      "(496, 64, 8)\n"
     ]
    }
   ],
   "source": [
    "print(prediction.shape)"
   ]
  },
  {
   "cell_type": "code",
   "execution_count": 48,
   "metadata": {},
   "outputs": [],
   "source": [
    "output = np.zeros((496,64))"
   ]
  },
  {
   "cell_type": "code",
   "execution_count": 49,
   "metadata": {
    "collapsed": true
   },
   "outputs": [],
   "source": [
    "for i in range(496):\n",
    "    for j in range(64):\n",
    "        index = np.argmax(prediction[i][j])\n",
    "        output[i][j] = index"
   ]
  },
  {
   "cell_type": "code",
   "execution_count": 50,
   "metadata": {},
   "outputs": [
    {
     "name": "stdout",
     "output_type": "stream",
     "text": [
      "(496, 64)\n"
     ]
    }
   ],
   "source": [
    "print (output.shape)"
   ]
  },
  {
   "cell_type": "code",
   "execution_count": 54,
   "metadata": {
    "collapsed": true
   },
   "outputs": [],
   "source": [
    "color= np.zeros((496,64,3))"
   ]
  },
  {
   "cell_type": "code",
   "execution_count": 55,
   "metadata": {},
   "outputs": [],
   "source": [
    "for j in range(496):\n",
    "    for k in range(64):\n",
    "        if(output[j][k]==0):\n",
    "            color[j][k] = [0,0,0]\n",
    "        if(output[j][k]==1):\n",
    "            color[j][k] = [128,0,0]\n",
    "        if(output[j][k]==2):\n",
    "            color[j][k] = [0,128,0]\n",
    "        if(output[j][k]==3):\n",
    "            color[j][k] = [128,128,0] \n",
    "        if(output[j][k]==4):\n",
    "            color[j][k] = [0,128,128]\n",
    "        if(output[j][k]==5):\n",
    "            color[j][k] = [64,0,0]\n",
    "        if(output[j][k]==6):\n",
    "            color[j][k] = [192,0,0]\n",
    "        if(output[j][k]==7):\n",
    "            color[j][k] = [64,128,0]"
   ]
  },
  {
   "cell_type": "code",
   "execution_count": 56,
   "metadata": {},
   "outputs": [
    {
     "data": {
      "text/plain": [
       "<matplotlib.image.AxesImage at 0x7eff2e17f450>"
      ]
     },
     "execution_count": 56,
     "metadata": {},
     "output_type": "execute_result"
    }
   ],
   "source": [
    "plt.imshow(color)"
   ]
  },
  {
   "cell_type": "code",
   "execution_count": 57,
   "metadata": {},
   "outputs": [
    {
     "data": {
      "image/png": "[encoded data removed]",
      "text/plain": [
       "<matplotlib.figure.Figure at 0x7eff2c558990>"
      ]
     },
     "metadata": {},
     "output_type": "display_data"
    }
   ],
   "source": [
    "plt.show()"
   ]
  },
  {
   "cell_type": "code",
   "execution_count": null,
   "metadata": {
    "collapsed": true
   },
   "outputs": [],
   "source": []
  }
 ],
 "metadata": {
  "kernelspec": {
   "display_name": "Python 2",
   "language": "python",
   "name": "python2"
  },
  "language_info": {
   "codemirror_mode": {
    "name": "ipython",
    "version": 2
   },
   "file_extension": ".py",
   "mimetype": "text/x-python",
   "name": "python",
   "nbconvert_exporter": "python",
   "pygments_lexer": "ipython2",
   "version": "2.7.12"
  }
 },
 "nbformat": 4,
 "nbformat_minor": 2
}
