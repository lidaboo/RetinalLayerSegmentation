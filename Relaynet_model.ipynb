{
 "cells": [
  {
   "cell_type": "code",
   "execution_count": 77,
   "metadata": {
    "collapsed": false
   },
   "outputs": [],
   "source": [
    "import keras\n",
    "from keras.layers import Activation\n",
    "from keras.layers import Conv2D, MaxPooling2D\n",
    "from keras.models import Model\n",
    "from keras.layers import Input\n",
    "from keras.layers import BatchNormalization\n",
    "from keras.layers import UpSampling2D\n",
    "from keras.layers import Concatenate"
   ]
  },
  {
   "cell_type": "code",
   "execution_count": 78,
   "metadata": {
    "collapsed": true
   },
   "outputs": [],
   "source": [
    "import scipy.io as scio\n",
    "import numpy as np    \n",
    "import os\n",
    "import matplotlib.pyplot as plt\n",
    "from scipy.misc import imsave\n",
    "from scipy import ndimage, misc"
   ]
  },
  {
   "cell_type": "code",
   "execution_count": 79,
   "metadata": {
    "collapsed": false
   },
   "outputs": [],
   "source": [
    "images = []\n",
    "for root, dirnames, filenames in os.walk(\"Dataset/Train_images/\"):\n",
    "    for filename in filenames:\n",
    "        filepath = os.path.join(root, filename)\n",
    "        image = ndimage.imread(filepath, mode=\"L\")\n",
    "        images.append(image)"
   ]
  },
  {
   "cell_type": "code",
   "execution_count": 80,
   "metadata": {
    "collapsed": false
   },
   "outputs": [
    {
     "name": "stdout",
     "output_type": "stream",
     "text": [
      "496\n"
     ]
    }
   ],
   "source": [
    "print (len(image))\n"
   ]
  },
  {
   "cell_type": "code",
   "execution_count": 81,
   "metadata": {
    "collapsed": true
   },
   "outputs": [],
   "source": [
    "labels = np.load('train_labels.npy')\n",
    "labels_list = []\n",
    "for i in range(len(labels)):\n",
    "    labels_list.append(labels[i])"
   ]
  },
  {
   "cell_type": "code",
   "execution_count": 97,
   "metadata": {
    "collapsed": false
   },
   "outputs": [
    {
     "name": "stdout",
     "output_type": "stream",
     "text": [
      "550\n",
      "<type 'numpy.ndarray'>\n",
      "(496, 96, 1)\n"
     ]
    }
   ],
   "source": [
    "print (len(labels_list))\n",
    "print (type(labels_list[0]))\n",
    "\n",
    "images=np.array(images)\n",
    "images = images.reshape(images.shape[0],496,96,1)\n",
    "\n",
    "print(images[0].shape)\n",
    "train_labels=labels_list[0:500]\n",
    "train_images=images[0:500]\n",
    "test_labels = labels_list[500:550]\n",
    "test_images = images[500:550]"
   ]
  },
  {
   "cell_type": "code",
   "execution_count": 98,
   "metadata": {
    "collapsed": false
   },
   "outputs": [
    {
     "name": "stdout",
     "output_type": "stream",
     "text": [
      "500\n",
      "500\n",
      "(500, 496, 96, 8)\n"
     ]
    }
   ],
   "source": [
    "print (len(train_images))\n",
    "print (len(train_labels))\n",
    "print (np.array(train_labels).shape)"
   ]
  },
  {
   "cell_type": "code",
   "execution_count": 90,
   "metadata": {
    "collapsed": false
   },
   "outputs": [
    {
     "name": "stdout",
     "output_type": "stream",
     "text": [
      "_________________________________________________________________\n",
      "Layer (type)                 Output Shape              Param #   \n",
      "=================================================================\n",
      "input_10 (InputLayer)        (None, 496, 96, 1)        0         \n",
      "_________________________________________________________________\n",
      "conv2d_48 (Conv2D)           (None, 496, 96, 64)       1408      \n",
      "_________________________________________________________________\n",
      "batch_normalization_42 (Batc (None, 496, 96, 64)       256       \n",
      "_________________________________________________________________\n",
      "max_pooling2d_21 (MaxPooling (None, 248, 48, 64)       0         \n",
      "_________________________________________________________________\n",
      "conv2d_49 (Conv2D)           (None, 248, 48, 64)       86080     \n",
      "_________________________________________________________________\n",
      "batch_normalization_43 (Batc (None, 248, 48, 64)       256       \n",
      "_________________________________________________________________\n",
      "max_pooling2d_22 (MaxPooling (None, 124, 24, 64)       0         \n",
      "_________________________________________________________________\n",
      "conv2d_50 (Conv2D)           (None, 124, 24, 64)       86080     \n",
      "_________________________________________________________________\n",
      "batch_normalization_44 (Batc (None, 124, 24, 64)       256       \n",
      "_________________________________________________________________\n",
      "max_pooling2d_23 (MaxPooling (None, 62, 12, 64)        0         \n",
      "_________________________________________________________________\n",
      "conv2d_51 (Conv2D)           (None, 62, 12, 64)        86080     \n",
      "_________________________________________________________________\n",
      "batch_normalization_45 (Batc (None, 62, 12, 64)        256       \n",
      "_________________________________________________________________\n",
      "up_sampling2d_17 (UpSampling (None, 124, 24, 64)       0         \n",
      "_________________________________________________________________\n",
      "concatenate_17 (Concatenate) (None, 124, 24, 128)      0         \n",
      "_________________________________________________________________\n",
      "conv2d_52 (Conv2D)           (None, 124, 24, 64)       172096    \n",
      "_________________________________________________________________\n",
      "batch_normalization_46 (Batc (None, 124, 24, 64)       256       \n",
      "_________________________________________________________________\n",
      "up_sampling2d_18 (UpSampling (None, 248, 48, 64)       0         \n",
      "_________________________________________________________________\n",
      "concatenate_18 (Concatenate) (None, 248, 48, 128)      0         \n",
      "_________________________________________________________________\n",
      "conv2d_53 (Conv2D)           (None, 248, 48, 64)       172096    \n",
      "_________________________________________________________________\n",
      "batch_normalization_47 (Batc (None, 248, 48, 64)       256       \n",
      "_________________________________________________________________\n",
      "up_sampling2d_19 (UpSampling (None, 496, 96, 64)       0         \n",
      "_________________________________________________________________\n",
      "concatenate_19 (Concatenate) (None, 496, 96, 128)      0         \n",
      "_________________________________________________________________\n",
      "conv2d_54 (Conv2D)           (None, 496, 96, 64)       172096    \n",
      "_________________________________________________________________\n",
      "batch_normalization_48 (Batc (None, 496, 96, 64)       256       \n",
      "_________________________________________________________________\n",
      "conv2d_55 (Conv2D)           (None, 496, 96, 8)        520       \n",
      "=================================================================\n",
      "Total params: 778,248.0\n",
      "Trainable params: 777,352.0\n",
      "Non-trainable params: 896.0\n",
      "_________________________________________________________________\n"
     ]
    }
   ],
   "source": [
    "# Defines the input tensor\n",
    "inputs = Input(shape=(496,96,1))\n",
    "\n",
    "L1 = Conv2D(64,kernel_size=(7,3),activation = 'relu',padding = \"same\")(inputs)\n",
    "L2 = BatchNormalization()(L1)\n",
    "L3 = MaxPooling2D(pool_size=(2,2))(L2)\n",
    "L4 = Conv2D(64,kernel_size=(7,3),activation = 'relu',padding = \"same\")(L3)\n",
    "L5 = BatchNormalization()(L4)\n",
    "L6 = MaxPooling2D(pool_size=(2,2))(L5)\n",
    "L7 = Conv2D(64,kernel_size=(7,3),activation = 'relu',padding = \"same\")(L6)\n",
    "L8 = BatchNormalization()(L7)\n",
    "L9 = MaxPooling2D(pool_size=(2,2))(L8)\n",
    "L10 = Conv2D(64,kernel_size=(7,3),activation = 'relu',padding = \"same\")(L9)\n",
    "L11 = BatchNormalization()(L10)\n",
    "L12 = UpSampling2D(size = (2,2))(L11)\n",
    "L13 = Concatenate(axis = 3)([L8,L12])\n",
    "L14 = Conv2D(64,kernel_size=(7,3),activation = 'relu',padding = \"same\")(L13)\n",
    "L15 = BatchNormalization()(L14)\n",
    "L16 = UpSampling2D(size= (2,2))(L15)\n",
    "L17 = Concatenate(axis = 3)([L16,L5])\n",
    "L18 = Conv2D(64,kernel_size=(7,3),activation = 'relu',padding = \"same\")(L17)\n",
    "L19 = BatchNormalization()(L18)\n",
    "L20 = UpSampling2D(size=(2,2))(L19)\n",
    "L21 = Concatenate(axis=3)([L20,L2])\n",
    "L22 = Conv2D(64,kernel_size=(7,3),activation = 'relu',padding = \"same\")(L21)\n",
    "L23 = BatchNormalization()(L22)\n",
    "L24 = Conv2D(8,kernel_size=(1,1),activation = 'softmax',padding = \"same\")(L23)\n",
    "\n",
    "model = Model(inputs = inputs, outputs = L24)\n",
    "model.summary()"
   ]
  },
  {
   "cell_type": "code",
   "execution_count": 91,
   "metadata": {
    "collapsed": false
   },
   "outputs": [],
   "source": [
    "model.compile(optimizer='Adam',loss='categorical_crossentropy',metrics=['accuracy'])"
   ]
  },
  {
   "cell_type": "code",
   "execution_count": null,
   "metadata": {
    "collapsed": false
   },
   "outputs": [
    {
     "name": "stdout",
     "output_type": "stream",
     "text": [
      "Epoch 1/10\n",
      " 90/500 [====>.........................] - ETA: 260s - loss: 1.9176 - acc: 0.5939"
     ]
    }
   ],
   "source": [
    "train_images_2=np.array(train_images)\n",
    "train_labels_2=np.array(train_labels)\n",
    "model.fit(train_images_2,train_labels_2,batch_size=6,epochs=10)"
   ]
  },
  {
   "cell_type": "code",
   "execution_count": null,
   "metadata": {
    "collapsed": true
   },
   "outputs": [],
   "source": []
  }
 ],
 "metadata": {
  "kernelspec": {
   "display_name": "Python [Root]",
   "language": "python",
   "name": "Python [Root]"
  },
  "language_info": {
   "codemirror_mode": {
    "name": "ipython",
    "version": 2
   },
   "file_extension": ".py",
   "mimetype": "text/x-python",
   "name": "python",
   "nbconvert_exporter": "python",
   "pygments_lexer": "ipython2",
   "version": "2.7.12"
  }
 },
 "nbformat": 4,
 "nbformat_minor": 2
}
