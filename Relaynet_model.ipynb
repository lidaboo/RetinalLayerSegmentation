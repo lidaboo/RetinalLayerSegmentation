{
 "cells": [
  {
   "cell_type": "code",
   "execution_count": 13,
   "metadata": {
    "collapsed": true
   },
   "outputs": [],
   "source": [
    "import keras\n",
    "from keras.layers import Activation\n",
    "from keras.layers import Conv2D, MaxPooling2D\n",
    "from keras.models import Model\n",
    "from keras.layers import Input\n",
    "from keras.layers import BatchNormalization\n",
    "from keras.layers import UpSampling2D\n",
    "from keras.layers import Concatenate"
   ]
  },
  {
   "cell_type": "code",
   "execution_count": 17,
   "metadata": {},
   "outputs": [
    {
     "name": "stdout",
     "output_type": "stream",
     "text": [
      "____________________________________________________________________________________________________\n",
      "Layer (type)                     Output Shape          Param #     Connected to                     \n",
      "====================================================================================================\n",
      "input_11 (InputLayer)            (None, 496, 96, 1)    0                                            \n",
      "____________________________________________________________________________________________________\n",
      "conv2d_48 (Conv2D)               (None, 496, 96, 64)   1408        input_11[0][0]                   \n",
      "____________________________________________________________________________________________________\n",
      "batch_normalization_43 (BatchNor (None, 496, 96, 64)   256         conv2d_48[0][0]                  \n",
      "____________________________________________________________________________________________________\n",
      "max_pooling2d_25 (MaxPooling2D)  (None, 248, 48, 64)   0           batch_normalization_43[0][0]     \n",
      "____________________________________________________________________________________________________\n",
      "conv2d_49 (Conv2D)               (None, 248, 48, 64)   86080       max_pooling2d_25[0][0]           \n",
      "____________________________________________________________________________________________________\n",
      "batch_normalization_44 (BatchNor (None, 248, 48, 64)   256         conv2d_49[0][0]                  \n",
      "____________________________________________________________________________________________________\n",
      "max_pooling2d_26 (MaxPooling2D)  (None, 124, 24, 64)   0           batch_normalization_44[0][0]     \n",
      "____________________________________________________________________________________________________\n",
      "conv2d_50 (Conv2D)               (None, 124, 24, 64)   86080       max_pooling2d_26[0][0]           \n",
      "____________________________________________________________________________________________________\n",
      "batch_normalization_45 (BatchNor (None, 124, 24, 64)   256         conv2d_50[0][0]                  \n",
      "____________________________________________________________________________________________________\n",
      "max_pooling2d_27 (MaxPooling2D)  (None, 62, 12, 64)    0           batch_normalization_45[0][0]     \n",
      "____________________________________________________________________________________________________\n",
      "conv2d_51 (Conv2D)               (None, 62, 12, 64)    86080       max_pooling2d_27[0][0]           \n",
      "____________________________________________________________________________________________________\n",
      "batch_normalization_46 (BatchNor (None, 62, 12, 64)    256         conv2d_51[0][0]                  \n",
      "____________________________________________________________________________________________________\n",
      "up_sampling2d_15 (UpSampling2D)  (None, 124, 24, 64)   0           batch_normalization_46[0][0]     \n",
      "____________________________________________________________________________________________________\n",
      "concatenate_14 (Concatenate)     (None, 124, 24, 128)  0           batch_normalization_45[0][0]     \n",
      "                                                                   up_sampling2d_15[0][0]           \n",
      "____________________________________________________________________________________________________\n",
      "conv2d_52 (Conv2D)               (None, 124, 24, 64)   172096      concatenate_14[0][0]             \n",
      "____________________________________________________________________________________________________\n",
      "batch_normalization_47 (BatchNor (None, 124, 24, 64)   256         conv2d_52[0][0]                  \n",
      "____________________________________________________________________________________________________\n",
      "up_sampling2d_16 (UpSampling2D)  (None, 248, 48, 64)   0           batch_normalization_47[0][0]     \n",
      "____________________________________________________________________________________________________\n",
      "concatenate_15 (Concatenate)     (None, 248, 48, 128)  0           up_sampling2d_16[0][0]           \n",
      "                                                                   batch_normalization_44[0][0]     \n",
      "____________________________________________________________________________________________________\n",
      "conv2d_53 (Conv2D)               (None, 248, 48, 64)   172096      concatenate_15[0][0]             \n",
      "____________________________________________________________________________________________________\n",
      "batch_normalization_48 (BatchNor (None, 248, 48, 64)   256         conv2d_53[0][0]                  \n",
      "____________________________________________________________________________________________________\n",
      "up_sampling2d_17 (UpSampling2D)  (None, 496, 96, 64)   0           batch_normalization_48[0][0]     \n",
      "____________________________________________________________________________________________________\n",
      "concatenate_16 (Concatenate)     (None, 496, 96, 128)  0           up_sampling2d_17[0][0]           \n",
      "                                                                   batch_normalization_43[0][0]     \n",
      "____________________________________________________________________________________________________\n",
      "conv2d_54 (Conv2D)               (None, 496, 96, 64)   172096      concatenate_16[0][0]             \n",
      "____________________________________________________________________________________________________\n",
      "batch_normalization_49 (BatchNor (None, 496, 96, 64)   256         conv2d_54[0][0]                  \n",
      "____________________________________________________________________________________________________\n",
      "conv2d_55 (Conv2D)               (None, 496, 96, 10)   650         batch_normalization_49[0][0]     \n",
      "====================================================================================================\n",
      "Total params: 778,378\n",
      "Trainable params: 777,482\n",
      "Non-trainable params: 896\n",
      "____________________________________________________________________________________________________\n"
     ]
    }
   ],
   "source": [
    "# Defines the input tensor\n",
    "inputs = Input(shape=(496,96,1))\n",
    "\n",
    "L1 = Conv2D(64,kernel_size=(7,3),activation = 'relu',padding = \"same\")(inputs)\n",
    "L2 = BatchNormalization()(L1)\n",
    "L3 = MaxPooling2D(pool_size=(2,2))(L2)\n",
    "L4 = Conv2D(64,kernel_size=(7,3),activation = 'relu',padding = \"same\")(L3)\n",
    "L5 = BatchNormalization()(L4)\n",
    "L6 = MaxPooling2D(pool_size=(2,2))(L5)\n",
    "L7 = Conv2D(64,kernel_size=(7,3),activation = 'relu',padding = \"same\")(L6)\n",
    "L8 = BatchNormalization()(L7)\n",
    "L9 = MaxPooling2D(pool_size=(2,2))(L8)\n",
    "L10 = Conv2D(64,kernel_size=(7,3),activation = 'relu',padding = \"same\")(L9)\n",
    "L11 = BatchNormalization()(L10)\n",
    "L12 = UpSampling2D(size = (2,2))(L11)\n",
    "L13 = Concatenate(axis = 3)([L8,L12])\n",
    "L14 = Conv2D(64,kernel_size=(7,3),activation = 'relu',padding = \"same\")(L13)\n",
    "L15 = BatchNormalization()(L14)\n",
    "L16 = UpSampling2D(size= (2,2))(L15)\n",
    "L17 = Concatenate(axis = 3)([L16,L5])\n",
    "L18 = Conv2D(64,kernel_size=(7,3),activation = 'relu',padding = \"same\")(L17)\n",
    "L19 = BatchNormalization()(L18)\n",
    "L20 = UpSampling2D(size=(2,2))(L19)\n",
    "L21 = Concatenate(axis=3)([L20,L2])\n",
    "L22 = Conv2D(64,kernel_size=(7,3),activation = 'relu',padding = \"same\")(L21)\n",
    "L23 = BatchNormalization()(L22)\n",
    "L24 = Conv2D(10,kernel_size=(1,1),activation = 'softmax',padding = \"same\")(L23)\n",
    "\n",
    "model = Model(inputs = inputs, outputs = L24)\n",
    "model.summary()"
   ]
  },
  {
   "cell_type": "code",
   "execution_count": null,
   "metadata": {
    "collapsed": true
   },
   "outputs": [],
   "source": []
  }
 ],
 "metadata": {
  "kernelspec": {
   "display_name": "Python 2",
   "language": "python",
   "name": "python2"
  },
  "language_info": {
   "codemirror_mode": {
    "name": "ipython",
    "version": 2
   },
   "file_extension": ".py",
   "mimetype": "text/x-python",
   "name": "python",
   "nbconvert_exporter": "python",
   "pygments_lexer": "ipython2",
   "version": "2.7.12"
  }
 },
 "nbformat": 4,
 "nbformat_minor": 2
}
