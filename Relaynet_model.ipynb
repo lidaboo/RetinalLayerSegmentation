{
 "cells": [
  {
   "cell_type": "code",
   "execution_count": 16,
   "metadata": {},
   "outputs": [],
   "source": [
    "import keras\n",
    "from keras.layers import Activation\n",
    "from keras.layers import Conv2D, MaxPooling2D\n",
    "from keras.models import Model\n",
    "from keras.layers import Input\n",
    "from keras.layers import BatchNormalization\n",
    "from keras.layers import UpSampling2D\n",
    "from keras.layers import Concatenate\n",
    "from keras.layers import Lambda \n",
    "\n",
    "import tensorflow as tf\n",
    "\n",
    "\n",
    "\n",
    "from keras import backend as K\n",
    "\n"
   ]
  },
  {
   "cell_type": "code",
   "execution_count": 17,
   "metadata": {
    "collapsed": true
   },
   "outputs": [],
   "source": [
    "import scipy.io as scio\n",
    "import numpy as np    \n",
    "import os\n",
    "import matplotlib.pyplot as plt\n",
    "from scipy.misc import imsave\n",
    "from scipy import ndimage, misc\n",
    "from numpy import unravel_index\n",
    "from operator import sub"
   ]
  },
  {
   "cell_type": "code",
   "execution_count": 18,
   "metadata": {
    "collapsed": true
   },
   "outputs": [],
   "source": [
    "images = []\n",
    "for root, dirnames, filenames in os.walk(\"Dataset/Train_images/\"):\n",
    "    for filename in filenames:\n",
    "        filepath = os.path.join(root, filename)\n",
    "        image = ndimage.imread(filepath, mode=\"L\")\n",
    "        images.append(image)"
   ]
  },
  {
   "cell_type": "code",
   "execution_count": 19,
   "metadata": {},
   "outputs": [
    {
     "name": "stdout",
     "output_type": "stream",
     "text": [
      "496\n"
     ]
    }
   ],
   "source": [
    "print (len(image))\n"
   ]
  },
  {
   "cell_type": "code",
   "execution_count": 20,
   "metadata": {
    "collapsed": true
   },
   "outputs": [],
   "source": [
    "labels = np.load('train_labels.npy')\n",
    "labels_list = []\n",
    "for i in range(len(labels)):\n",
    "    labels_list.append(labels[i])"
   ]
  },
  {
   "cell_type": "code",
   "execution_count": 21,
   "metadata": {},
   "outputs": [
    {
     "name": "stdout",
     "output_type": "stream",
     "text": [
      "770\n",
      "<type 'numpy.ndarray'>\n",
      "770\n",
      "(496, 64, 1)\n",
      "[0, 1, 6, 8, 9, 11, 12, 15, 16, 17, 18, 20, 21, 22, 23, 24, 26, 27, 29, 31, 33, 34, 36, 40, 41, 42, 44, 45, 48, 51, 52, 53, 54, 55, 56, 57, 58, 60, 63, 66, 67, 68, 70, 71, 72, 73, 75, 76, 79, 81, 82, 83, 84, 85, 86, 87, 88, 92, 93, 95, 96, 97, 98, 99, 100, 103, 105, 107, 110, 111, 112, 114, 117, 118, 120, 121, 126, 127, 129, 131, 132, 134, 135, 136, 139, 140, 142, 144, 145, 146, 147, 148, 149, 150, 151, 153, 155, 156, 157, 158, 162, 163, 164, 167, 168, 171, 172, 173, 176, 178, 179, 180, 182, 183, 184, 185, 186, 187, 189, 191, 192, 194, 195, 203, 205, 211, 212, 213, 216, 217, 218, 219, 221, 227, 231, 232, 234, 235, 237, 239, 241, 242, 243, 246, 247, 251, 252, 253, 255, 256, 257, 258, 259, 260, 262, 263, 264, 265, 266, 270, 271, 272, 274, 275, 276, 277, 279, 280, 282, 283, 284, 285, 287, 288, 296, 298, 300, 302, 303, 304, 305, 306, 308, 309, 310, 311, 312, 314, 315, 316, 317, 318, 320, 321, 322, 323, 324, 328, 329, 330, 331, 334, 335, 336, 338, 342, 343, 344, 345, 346, 347, 348, 350, 352, 353, 355, 357, 358, 359, 360, 363, 364, 365, 366, 368, 371, 372, 374, 375, 376, 379, 380, 381, 382, 383, 384, 385, 386, 387, 388, 389, 390, 391, 393, 396, 397, 398, 399, 400, 401, 402, 403, 404, 411, 412, 414, 416, 417, 419, 420, 421, 422, 423, 426, 427, 428, 429, 430, 431, 432, 433, 434, 435, 437, 441, 442, 443, 444, 445, 448, 449, 450, 451, 453, 454, 455, 456, 458, 459, 460, 461, 463, 465, 466, 469, 470, 473, 474, 476, 477, 478, 479, 480, 482, 483, 484, 485, 488, 489, 490, 492, 493, 494, 495, 496, 498, 499, 500, 503, 504, 505, 506, 507, 508, 510, 512, 514, 515, 517, 519, 521, 522, 523, 524, 526, 527, 528, 529, 531, 532, 535, 537, 538, 539, 541, 542, 544, 546, 547, 549, 550, 551, 552, 553, 554, 555, 556, 557, 561, 562, 563, 564, 565, 566, 567, 569, 570, 571, 572, 574, 575, 576, 578, 581, 582, 583, 584, 585, 586, 590, 591, 592, 594, 595, 597, 599, 600, 601, 603, 604, 605, 606, 608, 611, 612, 613, 614, 615, 616, 617, 618, 619, 620, 622, 623, 624, 626, 628, 629, 631, 632, 633, 634, 635, 636, 637, 638, 639, 641, 642, 644, 646, 647, 648, 649, 650, 651, 656, 657, 658, 659, 660, 661, 662, 663, 664, 666, 667, 668, 670, 671, 673, 674, 676, 677, 679, 681, 682, 683, 685, 686, 687, 688, 689, 690, 691, 692, 693, 697, 699, 701, 704, 705, 706, 708, 709, 712, 713, 714, 715, 716, 720, 721, 723, 724, 725, 727, 730, 732, 734, 739, 740, 742, 744, 746, 747, 751, 752, 753, 754, 756, 759, 761, 762, 763, 764, 766, 767, 768, 769]\n",
      "[2, 3, 4, 5, 7, 10, 13, 14, 19, 25, 28, 30, 32, 35, 37, 38, 39, 43, 46, 47, 49, 50, 59, 61, 62, 64, 65, 69, 74, 77, 78, 80, 89, 90, 91, 94, 101, 102, 104, 106, 108, 109, 113, 115, 116, 119, 122, 123, 124, 125, 128, 130, 133, 137, 138, 141, 143, 152, 154, 159, 160, 161, 165, 166, 169, 170, 174, 175, 177, 181, 188, 190, 193, 196, 197, 198, 199, 200, 201, 202, 204, 206, 207, 208, 209, 210, 214, 215, 220, 222, 223, 224, 225, 226, 228, 229, 230, 233, 236, 238, 240, 244, 245, 248, 249, 250, 254, 261, 267, 268, 269, 273, 278, 281, 286, 289, 290, 291, 292, 293, 294, 295, 297, 299, 301, 307, 313, 319, 325, 326, 327, 332, 333, 337, 339, 340, 341, 349, 351, 354, 356, 361, 362, 367, 369, 370, 373, 377, 378, 392, 394, 395, 405, 406, 407, 408, 409, 410, 413, 415, 418, 424, 425, 436, 438, 439, 440, 446, 447, 452, 457, 462, 464, 467, 468, 471, 472, 475, 481, 486, 487, 491, 497, 501, 502, 509, 511, 513, 516, 518, 520, 525, 530, 533, 534, 536, 540, 543, 545, 548, 558, 559, 560, 568, 573, 577, 579, 580, 587, 588, 589, 593, 596, 598, 602, 607, 609, 610, 621, 625, 627, 630, 640, 643, 645, 652, 653, 654, 655, 665, 669, 672, 675, 678, 680, 684, 694, 695, 696, 698]\n"
     ]
    }
   ],
   "source": [
    "print (len(labels_list))\n",
    "print (type(labels_list[0]))\n",
    "\n",
    "images=np.array(images)\n",
    "print(images.shape[0])\n",
    "images = images.reshape(images.shape[0],496,64,1)\n",
    "\n",
    "print(images[0].shape)\n",
    "train_labels = np.random.choice(770,500,replace = False)\n",
    "print(sorted(train_labels))\n",
    "train_images = []\n",
    "for i in train_labels:\n",
    "    train_images.append(images[i])\n",
    "test_labels = [x for x in range(700) if x not in train_labels]\n",
    "print(test_labels)\n",
    "test_images = []\n",
    "for i in test_labels:\n",
    "    test_images.append(images[i])"
   ]
  },
  {
   "cell_type": "code",
   "execution_count": 22,
   "metadata": {},
   "outputs": [
    {
     "name": "stdout",
     "output_type": "stream",
     "text": [
      "500\n",
      "500\n",
      "(500,)\n"
     ]
    }
   ],
   "source": [
    "print (len(train_images))\n",
    "print (len(train_labels))\n",
    "print (np.array(train_labels).shape)"
   ]
  },
  {
   "cell_type": "code",
   "execution_count": 23,
   "metadata": {
    "collapsed": true
   },
   "outputs": [],
   "source": [
    "arg_1 = tf.placeholder(tf.float32,shape=(None,248,32,64))\n",
    "index_mask_1 = tf.placeholder(tf.bool,shape=(None,496,64,64))\n",
    "\n",
    "arg_2 = tf.placeholder(tf.float32,shape=(None,124,16,64))\n",
    "index_mask_2 = tf.placeholder(tf.bool,shape=(None,248,32,64))\n",
    "\n",
    "arg_3 = tf.placeholder(tf.float32,shape=(None,62,8,64))\n",
    "index_mask_3 = tf.placeholder(tf.bool,shape=(None,124,16,64))"
   ]
  },
  {
   "cell_type": "code",
   "execution_count": 24,
   "metadata": {
    "collapsed": true
   },
   "outputs": [],
   "source": [
    "def maxpool_1(x):\n",
    "    print(type(x))\n",
    "    print(x.shape)\n",
    "    y = x[0,:,:,:]\n",
    "    t = K.argmax(y)\n",
    "    print(type(t))\n",
    "    print(t.shape)\n",
    "    print(type(y))\n",
    "    print(y.shape)\n",
    "    outputs = tf.nn.max_pool_with_argmax(x, ksize=[1, 2, 2, 1],\n",
    "                        strides=[1, 2, 2, 1], padding='VALID')\n",
    "    arg_1=tf.cast(outputs[1],tf.float32)\n",
    "    upsampled_output=UpSampling2D(size=(2,2))(outputs[0])\n",
    "    print(upsampled_output.dtype)\n",
    "    print(arg_1.dtype)\n",
    "    index_mask_1=K.tf.equal(x,upsampled_output)\n",
    "    print((arg_1.shape))\n",
    "    return outputs[0]\n",
    "\n",
    "def maxpool_2(x):\n",
    "    print(type(x))\n",
    "    print(x.shape)\n",
    "    y = x[0,:,:,:]\n",
    "    t = K.argmax(y)\n",
    "    print(type(t))\n",
    "    print(t.shape)\n",
    "    print(type(y))\n",
    "    print(y.shape)\n",
    "    outputs = tf.nn.max_pool_with_argmax(x, ksize=[1, 2, 2, 1],\n",
    "                        strides=[1, 2, 2, 1], padding='VALID')\n",
    "    arg_2=tf.cast(outputs[1],tf.float32)\n",
    "    upsampled_output=UpSampling2D(size=(2,2))(outputs[0])\n",
    "    print(upsampled_output.dtype)\n",
    "    print(arg_2.dtype)\n",
    "    index_mask_2=K.tf.equal(x,upsampled_output)\n",
    "    print((arg_2.shape))\n",
    "    return outputs[0]\n",
    "\n",
    "def maxpool_3(x):\n",
    "    print(type(x))\n",
    "    print(x.shape)\n",
    "    y = x[0,:,:,:]\n",
    "    t = K.argmax(y)\n",
    "    print(type(t))\n",
    "    print(t.shape)\n",
    "    print(type(y))\n",
    "    print(y.shape)\n",
    "    outputs = tf.nn.max_pool_with_argmax(x, ksize=[1, 2, 2, 1],\n",
    "                        strides=[1, 2, 2, 1], padding='VALID')\n",
    "    arg_3=tf.cast(outputs[1],tf.float32)\n",
    "    upsampled_output=UpSampling2D(size=(2,2))(outputs[0])\n",
    "    print(upsampled_output.dtype)\n",
    "    print(arg_3.dtype)\n",
    "    index_mask_3=K.tf.equal(x,upsampled_output)\n",
    "    print((arg_3.shape))\n",
    "    return outputs[0]\n",
    "\n",
    "def shape(x):\n",
    "    shape = list(x)\n",
    "    shape[1]= shape[1]//2\n",
    "    shape[2]= None\n",
    "    return tuple(shape)"
   ]
  },
  {
   "cell_type": "code",
   "execution_count": 25,
   "metadata": {},
   "outputs": [
    {
     "name": "stdout",
     "output_type": "stream",
     "text": [
      "(?, 248, 32, 64)\n"
     ]
    }
   ],
   "source": [
    "print((arg_1.shape))"
   ]
  },
  {
   "cell_type": "code",
   "execution_count": 26,
   "metadata": {
    "collapsed": true
   },
   "outputs": [],
   "source": [
    "def unpool_1(input):\n",
    "    mask_shape = index_mask_1.get_shape().as_list()\n",
    "    input_shape = input.get_shape().as_list()\n",
    "    pool_size = (mask_shape[1] / input_shape[1], None)\n",
    "    on_success = UpSampling2D(size=(2,2))(input)\n",
    "    on_fail = K.zeros_like(on_success)\n",
    "    print()\n",
    "    return K.tf.where(index_mask_1, on_success, on_fail)\n",
    "\n",
    "def unpool_2(input):\n",
    "    mask_shape= index_mask_2.get_shape().as_list()\n",
    "    input_shape = input.get_shape().as_list()\n",
    "    pool_size = (mask_shape[1] / input_shape[1], None)\n",
    "    on_success = UpSampling2D(size=(2,2))(input)\n",
    "    on_fail = K.zeros_like(on_success)\n",
    "    print()\n",
    "    return K.tf.where(index_mask_2, on_success, on_fail)\n",
    "\n",
    "def unpool_3(input):\n",
    "    mask_shape = index_mask_3.get_shape().as_list()\n",
    "    input_shape = input.get_shape().as_list()\n",
    "    pool_size = (mask_shape[1] / input_shape[1], None)\n",
    "    on_success = UpSampling2D(size=(2,2))(input)\n",
    "    on_fail = K.zeros_like(on_success)\n",
    "    print()\n",
    "    return K.tf.where(index_mask_3, on_success, on_fail)"
   ]
  },
  {
   "cell_type": "code",
   "execution_count": 27,
   "metadata": {
    "collapsed": true
   },
   "outputs": [],
   "source": [
    "def unpool_shape(x):\n",
    "    shape = list(x)\n",
    "    shape[1]= shape[1]*2\n",
    "    shape[2]= None\n",
    "    return tuple(shape)"
   ]
  },
  {
   "cell_type": "code",
   "execution_count": 28,
   "metadata": {},
   "outputs": [
    {
     "name": "stdout",
     "output_type": "stream",
     "text": [
      "<class 'tensorflow.python.framework.ops.Tensor'>\n",
      "(?, 496, ?, 64)\n",
      "<class 'tensorflow.python.framework.ops.Tensor'>\n",
      "(496, ?)\n",
      "<class 'tensorflow.python.framework.ops.Tensor'>\n",
      "(496, ?, 64)\n",
      "<dtype: 'float32'>\n",
      "<dtype: 'float32'>\n",
      "(?, 248, ?, 64)\n",
      "<class 'tensorflow.python.framework.ops.Tensor'>\n",
      "(?, 248, ?, 64)\n",
      "<class 'tensorflow.python.framework.ops.Tensor'>\n",
      "(248, ?)\n",
      "<class 'tensorflow.python.framework.ops.Tensor'>\n",
      "(248, ?, 64)\n",
      "<dtype: 'float32'>\n",
      "<dtype: 'float32'>\n",
      "(?, 124, ?, 64)\n",
      "<class 'tensorflow.python.framework.ops.Tensor'>\n",
      "(?, 124, ?, 64)\n",
      "<class 'tensorflow.python.framework.ops.Tensor'>\n",
      "(124, ?)\n",
      "<class 'tensorflow.python.framework.ops.Tensor'>\n",
      "(124, ?, 64)\n",
      "<dtype: 'float32'>\n",
      "<dtype: 'float32'>\n",
      "(?, 62, ?, 64)\n",
      "()\n",
      "()\n",
      "()\n",
      "____________________________________________________________________________________________________\n",
      "Layer (type)                     Output Shape          Param #     Connected to                     \n",
      "====================================================================================================\n",
      "input_3 (InputLayer)             (None, 496, None, 1)  0                                            \n",
      "____________________________________________________________________________________________________\n",
      "conv2d_13 (Conv2D)               (None, 496, None, 64) 1408        input_3[0][0]                    \n",
      "____________________________________________________________________________________________________\n",
      "batch_normalization_12 (BatchNor (None, 496, None, 64) 256         conv2d_13[0][0]                  \n",
      "____________________________________________________________________________________________________\n",
      "lambda_11 (Lambda)               (None, 248, None, 64) 0           batch_normalization_12[0][0]     \n",
      "____________________________________________________________________________________________________\n",
      "conv2d_14 (Conv2D)               (None, 248, None, 64) 86080       lambda_11[0][0]                  \n",
      "____________________________________________________________________________________________________\n",
      "batch_normalization_13 (BatchNor (None, 248, None, 64) 256         conv2d_14[0][0]                  \n",
      "____________________________________________________________________________________________________\n",
      "lambda_12 (Lambda)               (None, 124, None, 64) 0           batch_normalization_13[0][0]     \n",
      "____________________________________________________________________________________________________\n",
      "conv2d_15 (Conv2D)               (None, 124, None, 64) 86080       lambda_12[0][0]                  \n",
      "____________________________________________________________________________________________________\n",
      "batch_normalization_14 (BatchNor (None, 124, None, 64) 256         conv2d_15[0][0]                  \n",
      "____________________________________________________________________________________________________\n",
      "lambda_13 (Lambda)               (None, 62, None, 64)  0           batch_normalization_14[0][0]     \n",
      "____________________________________________________________________________________________________\n",
      "conv2d_16 (Conv2D)               (None, 62, None, 64)  86080       lambda_13[0][0]                  \n",
      "____________________________________________________________________________________________________\n",
      "batch_normalization_15 (BatchNor (None, 62, None, 64)  256         conv2d_16[0][0]                  \n",
      "____________________________________________________________________________________________________\n",
      "lambda_14 (Lambda)               (None, 124, None, 64) 0           batch_normalization_15[0][0]     \n",
      "____________________________________________________________________________________________________\n",
      "concatenate_5 (Concatenate)      (None, 124, None, 128 0           batch_normalization_14[0][0]     \n",
      "                                                                   lambda_14[0][0]                  \n",
      "____________________________________________________________________________________________________\n",
      "conv2d_17 (Conv2D)               (None, 124, None, 64) 172096      concatenate_5[0][0]              \n",
      "____________________________________________________________________________________________________\n",
      "batch_normalization_16 (BatchNor (None, 124, None, 64) 256         conv2d_17[0][0]                  \n",
      "____________________________________________________________________________________________________\n",
      "lambda_15 (Lambda)               (None, 248, None, 64) 0           batch_normalization_16[0][0]     \n",
      "____________________________________________________________________________________________________\n",
      "concatenate_6 (Concatenate)      (None, 248, None, 128 0           lambda_15[0][0]                  \n",
      "                                                                   batch_normalization_13[0][0]     \n",
      "____________________________________________________________________________________________________\n",
      "conv2d_18 (Conv2D)               (None, 248, None, 64) 172096      concatenate_6[0][0]              \n",
      "____________________________________________________________________________________________________\n",
      "batch_normalization_17 (BatchNor (None, 248, None, 64) 256         conv2d_18[0][0]                  \n",
      "____________________________________________________________________________________________________\n",
      "lambda_16 (Lambda)               (None, 496, None, 64) 0           batch_normalization_17[0][0]     \n",
      "____________________________________________________________________________________________________\n",
      "concatenate_7 (Concatenate)      (None, 496, None, 128 0           lambda_16[0][0]                  \n",
      "                                                                   batch_normalization_12[0][0]     \n",
      "____________________________________________________________________________________________________\n",
      "conv2d_19 (Conv2D)               (None, 496, None, 64) 172096      concatenate_7[0][0]              \n",
      "____________________________________________________________________________________________________\n",
      "batch_normalization_18 (BatchNor (None, 496, None, 64) 256         conv2d_19[0][0]                  \n",
      "____________________________________________________________________________________________________\n",
      "conv2d_20 (Conv2D)               (None, 496, None, 8)  520         batch_normalization_18[0][0]     \n",
      "====================================================================================================\n",
      "Total params: 778,248\n",
      "Trainable params: 777,352\n",
      "Non-trainable params: 896\n",
      "____________________________________________________________________________________________________\n"
     ]
    }
   ],
   "source": [
    "# Defines the input tensor\n",
    "inputs = Input(shape=(496,None,1))\n",
    "\n",
    "L1 = Conv2D(64,kernel_size=(7,3),activation = 'relu',padding = \"same\")(inputs)\n",
    "L2 = BatchNormalization()(L1)\n",
    "L3 = Lambda(maxpool_1,output_shape = shape)(L2)\n",
    "#L3 = MaxPooling2D(pool_size=(2,2))(L2)\n",
    "L4 = Conv2D(64,kernel_size=(7,3),activation = 'relu',padding = \"same\")(L3)\n",
    "L5 = BatchNormalization()(L4)\n",
    "L6 = Lambda(maxpool_2,output_shape = shape)(L5)\n",
    "#L6 = MaxPooling2D(pool_size=(2,2))(L5)\n",
    "L7 = Conv2D(64,kernel_size=(7,3),activation = 'relu',padding = \"same\")(L6)\n",
    "L8 = BatchNormalization()(L7)\n",
    "L9 = Lambda(maxpool_3,output_shape = shape)(L8)\n",
    "#L9 = MaxPooling2D(pool_size=(2,2))(L8)\n",
    "L10 = Conv2D(64,kernel_size=(7,3),activation = 'relu',padding = \"same\")(L9)\n",
    "L11 = BatchNormalization()(L10)\n",
    "#L12 = UpSampling2D(size = (2,2))(L11)\n",
    "L12 = Lambda(unpool_3,output_shape = unpool_shape)(L11)\n",
    "L13 = Concatenate(axis = 3)([L8,L12])\n",
    "L14 = Conv2D(64,kernel_size=(7,3),activation = 'relu',padding = \"same\")(L13)\n",
    "L15 = BatchNormalization()(L14)\n",
    "#L16 = UpSampling2D(size= (2,2))(L15)\n",
    "L16 = Lambda(unpool_2,output_shape=unpool_shape)(L15)\n",
    "L17 = Concatenate(axis = 3)([L16,L5])\n",
    "L18 = Conv2D(64,kernel_size=(7,3),activation = 'relu',padding = \"same\")(L17)\n",
    "L19 = BatchNormalization()(L18)\n",
    "L20 = Lambda(unpool_1,output_shape=unpool_shape)(L19)\n",
    "#L20 = UpSampling2D(size=(2,2),name = \"Layer19\")(L19)\n",
    "L21 = Concatenate(axis=3)([L20,L2])\n",
    "L22 = Conv2D(64,kernel_size=(7,3),activation = 'relu',padding = \"same\")(L21)\n",
    "L23 = BatchNormalization()(L22)\n",
    "L24 = Conv2D(8,kernel_size=(1,1),activation = 'softmax',padding = \"same\")(L23)\n",
    "\n",
    "model = Model(inputs = inputs, outputs = L24)\n",
    "model.summary()"
   ]
  },
  {
   "cell_type": "code",
   "execution_count": 29,
   "metadata": {
    "collapsed": true
   },
   "outputs": [],
   "source": [
    "model.compile(optimizer='Adam',loss='categorical_crossentropy',metrics=['accuracy'])"
   ]
  },
  {
   "cell_type": "code",
   "execution_count": 10,
   "metadata": {
    "scrolled": true
   },
   "outputs": [
    {
     "name": "stdout",
     "output_type": "stream",
     "text": [
      "Train on 515 samples, validate on 255 samples\n",
      "Epoch 1/10\n",
      "515/515 [==============================] - 1375s - loss: 1.4785 - acc: 0.7307 - val_loss: 1.8171 - val_acc: 0.8342\n",
      "Epoch 2/10\n",
      "515/515 [==============================] - 1358s - loss: 0.9489 - acc: 0.7920 - val_loss: 1.1931 - val_acc: 0.7953\n",
      "Epoch 3/10\n",
      "515/515 [==============================] - 1431s - loss: 0.7919 - acc: 0.8005 - val_loss: 1.2294 - val_acc: 0.7746\n",
      "Epoch 4/10\n",
      "515/515 [==============================] - 1372s - loss: 0.7093 - acc: 0.8020 - val_loss: 0.6476 - val_acc: 0.8346\n",
      "Epoch 5/10\n",
      "515/515 [==============================] - 1476s - loss: 0.6552 - acc: 0.8054 - val_loss: 0.6271 - val_acc: 0.8318\n",
      "Epoch 6/10\n",
      "515/515 [==============================] - 1647s - loss: 0.7162 - acc: 0.8035 - val_loss: 0.6038 - val_acc: 0.8344\n",
      "Epoch 7/10\n",
      "515/515 [==============================] - 1455s - loss: 0.6374 - acc: 0.8073 - val_loss: 0.5707 - val_acc: 0.8348\n",
      "Epoch 8/10\n",
      "515/515 [==============================] - 1467s - loss: 0.6300 - acc: 0.8076 - val_loss: 0.8078 - val_acc: 0.7545\n",
      "Epoch 9/10\n",
      "515/515 [==============================] - 1536s - loss: 0.6687 - acc: 0.8006 - val_loss: 0.6330 - val_acc: 0.8125\n",
      "Epoch 10/10\n",
      "515/515 [==============================] - 1519s - loss: 0.6285 - acc: 0.8031 - val_loss: 0.5784 - val_acc: 0.8229\n"
     ]
    },
    {
     "data": {
      "text/plain": [
       "<keras.callbacks.History at 0x7f855d2b7210>"
      ]
     },
     "execution_count": 10,
     "metadata": {},
     "output_type": "execute_result"
    }
   ],
   "source": [
    "train_images_2=np.array(images)\n",
    "train_labels_2=np.array(labels_list)\n",
    "model.fit(train_images_2,train_labels_2,batch_size=8,epochs=10,validation_split = 0.33)"
   ]
  },
  {
   "cell_type": "code",
   "execution_count": 11,
   "metadata": {
    "collapsed": true
   },
   "outputs": [],
   "source": [
    "model.save_weights(\"weights.h5\")"
   ]
  },
  {
   "cell_type": "code",
   "execution_count": 55,
   "metadata": {
    "collapsed": true
   },
   "outputs": [],
   "source": [
    "testing_image = ndimage.imread('Dataset/testing_image_4.png',mode = 'L')"
   ]
  },
  {
   "cell_type": "code",
   "execution_count": 56,
   "metadata": {},
   "outputs": [
    {
     "name": "stdout",
     "output_type": "stream",
     "text": [
      "496\n"
     ]
    }
   ],
   "source": [
    "testing_image = np.array(testing_image)\n",
    "print(testing_image.shape[0])"
   ]
  },
  {
   "cell_type": "code",
   "execution_count": 57,
   "metadata": {
    "collapsed": true
   },
   "outputs": [],
   "source": [
    "testing_image = testing_image.reshape(1,496,64,1)"
   ]
  },
  {
   "cell_type": "code",
   "execution_count": 58,
   "metadata": {
    "collapsed": true
   },
   "outputs": [],
   "source": [
    "prediction = model.predict(testing_image)"
   ]
  },
  {
   "cell_type": "code",
   "execution_count": 59,
   "metadata": {},
   "outputs": [
    {
     "name": "stdout",
     "output_type": "stream",
     "text": [
      "(1, 496, 64, 8)\n"
     ]
    }
   ],
   "source": [
    "print(prediction.shape)"
   ]
  },
  {
   "cell_type": "code",
   "execution_count": 60,
   "metadata": {
    "collapsed": true
   },
   "outputs": [],
   "source": [
    "prediction = np.squeeze(prediction,axis = 0)"
   ]
  },
  {
   "cell_type": "code",
   "execution_count": 61,
   "metadata": {},
   "outputs": [
    {
     "name": "stdout",
     "output_type": "stream",
     "text": [
      "(496, 64, 8)\n"
     ]
    }
   ],
   "source": [
    "print(prediction.shape)\n"
   ]
  },
  {
   "cell_type": "code",
   "execution_count": 62,
   "metadata": {},
   "outputs": [
    {
     "name": "stdout",
     "output_type": "stream",
     "text": [
      "[[[  9.90431845e-01   5.23849914e-04   2.38480396e-03 ...,   3.14290333e-03\n",
      "     7.15359987e-04   9.47752633e-05]\n",
      "  [  9.95876908e-01   1.26564744e-04   5.17529435e-04 ...,   2.05338211e-03\n",
      "     3.22114036e-04   4.62890821e-05]\n",
      "  [  9.91709769e-01   3.47106252e-04   1.40436867e-03 ...,   3.52300471e-03\n",
      "     4.66498459e-04   1.45449289e-04]\n",
      "  ..., \n",
      "  [  9.93215978e-01   2.89540971e-04   1.14223047e-03 ...,   2.86238850e-03\n",
      "     4.15960822e-04   1.21896235e-04]\n",
      "  [  9.94165242e-01   1.88748279e-04   9.98849748e-04 ...,   2.88870698e-03\n",
      "     5.12290921e-04   5.69161930e-05]\n",
      "  [  9.77184176e-01   1.62097695e-03   5.97098330e-03 ...,   8.09637923e-03\n",
      "     1.31334132e-03   5.07012708e-04]]\n",
      "\n",
      " [[  9.90255058e-01   3.38861166e-04   1.74046448e-03 ...,   4.34618024e-03\n",
      "     1.35297398e-03   1.18468612e-04]\n",
      "  [  9.95023370e-01   1.01163852e-04   3.01213498e-04 ...,   2.36597634e-03\n",
      "     9.77306976e-04   7.58161477e-05]\n",
      "  [  9.88762558e-01   4.33083362e-04   1.21312588e-03 ...,   5.10587031e-03\n",
      "     1.09717529e-03   2.63440015e-04]\n",
      "  ..., \n",
      "  [  9.91281629e-01   3.42571380e-04   9.18625679e-04 ...,   3.90662067e-03\n",
      "     8.95616191e-04   2.10764672e-04]\n",
      "  [  9.93597388e-01   1.58802737e-04   3.77169432e-04 ...,   3.55895376e-03\n",
      "     1.00448204e-03   9.56160293e-05]\n",
      "  [  9.84181404e-01   8.47313553e-04   3.29919416e-03 ...,   7.02520646e-03\n",
      "     1.48526952e-03   2.46619573e-04]]\n",
      "\n",
      " [[  9.74529088e-01   1.21575373e-03   4.12007654e-03 ...,   1.18069425e-02\n",
      "     3.39906197e-03   2.07784149e-04]\n",
      "  [  9.90355372e-01   1.86323290e-04   5.50398894e-04 ...,   5.00425138e-03\n",
      "     2.17842031e-03   5.41268673e-05]\n",
      "  [  9.78334606e-01   8.60139553e-04   2.12629605e-03 ...,   1.12865148e-02\n",
      "     2.77075032e-03   2.52791593e-04]\n",
      "  ..., \n",
      "  [  9.83236134e-01   6.94643648e-04   1.56729110e-03 ...,   8.49746075e-03\n",
      "     2.30723177e-03   2.13592415e-04]\n",
      "  [  9.83772814e-01   4.62632335e-04   8.58771964e-04 ...,   9.48271807e-03\n",
      "     2.97520170e-03   1.66534373e-04]\n",
      "  [  9.70981836e-01   1.66576635e-03   4.81727673e-03 ...,   1.36180576e-02\n",
      "     3.62858782e-03   3.86472471e-04]]\n",
      "\n",
      " ..., \n",
      " [[  9.35610414e-01   1.08410632e-02   1.88477654e-02 ...,   1.36803668e-02\n",
      "     4.30256780e-03   2.60322005e-03]\n",
      "  [  9.39385593e-01   1.32400952e-02   1.94174219e-02 ...,   1.22866249e-02\n",
      "     2.79524969e-03   1.33786676e-03]\n",
      "  [  9.21719193e-01   1.81544051e-02   2.51135882e-02 ...,   1.53281745e-02\n",
      "     3.10707092e-03   1.35587540e-03]\n",
      "  ..., \n",
      "  [  9.39390004e-01   1.46924844e-02   1.78972241e-02 ...,   1.28695564e-02\n",
      "     2.74265511e-03   1.00809371e-03]\n",
      "  [  9.53405738e-01   1.02786161e-02   1.31759392e-02 ...,   1.16282357e-02\n",
      "     2.59682676e-03   9.56178759e-04]\n",
      "  [  9.40995097e-01   9.32195224e-03   1.65981501e-02 ...,   1.46331051e-02\n",
      "     4.64907149e-03   2.39924761e-03]]\n",
      "\n",
      " [[  9.35710251e-01   8.82554706e-03   1.80705097e-02 ...,   1.45533094e-02\n",
      "     5.01212943e-03   3.22904368e-03]\n",
      "  [  9.42313135e-01   1.03421314e-02   1.74628738e-02 ...,   1.26807513e-02\n",
      "     3.60166538e-03   1.94576941e-03]\n",
      "  [  9.27808166e-01   1.45627605e-02   2.14146730e-02 ...,   1.58059113e-02\n",
      "     3.91027471e-03   1.74122292e-03]\n",
      "  ..., \n",
      "  [  9.41626608e-01   1.15386834e-02   1.72992889e-02 ...,   1.23937000e-02\n",
      "     3.32949962e-03   1.52602140e-03]\n",
      "  [  9.52535748e-01   8.70242342e-03   1.32798329e-02 ...,   1.21384030e-02\n",
      "     3.22847255e-03   1.34360127e-03]\n",
      "  [  9.28587019e-01   1.02902604e-02   1.85933243e-02 ...,   1.81699209e-02\n",
      "     5.62000927e-03   3.50589771e-03]]\n",
      "\n",
      " [[  9.10407841e-01   1.02036027e-02   2.61319485e-02 ...,   1.98036041e-02\n",
      "     6.61617937e-03   5.62639721e-03]\n",
      "  [  9.23993826e-01   1.14721227e-02   2.22188327e-02 ...,   1.70544311e-02\n",
      "     5.09488583e-03   3.53984325e-03]\n",
      "  [  9.24438477e-01   1.18975407e-02   2.22453475e-02 ...,   1.77026223e-02\n",
      "     4.98476950e-03   2.73528113e-03]\n",
      "  ..., \n",
      "  [  9.31796908e-01   9.85012203e-03   2.00748146e-02 ...,   1.74492002e-02\n",
      "     4.74172458e-03   2.67803459e-03]\n",
      "  [  9.40884888e-01   8.53689015e-03   1.60142053e-02 ...,   1.56390071e-02\n",
      "     4.78343479e-03   2.42307270e-03]\n",
      "  [  9.06518459e-01   1.16982171e-02   2.40787175e-02 ...,   2.22525187e-02\n",
      "     8.14915914e-03   5.75513532e-03]]]\n"
     ]
    }
   ],
   "source": [
    "print (prediction)"
   ]
  },
  {
   "cell_type": "code",
   "execution_count": 63,
   "metadata": {},
   "outputs": [
    {
     "name": "stdout",
     "output_type": "stream",
     "text": [
      "[ 0.18668322  0.02075981  0.07049716  0.08813264  0.0905104   0.37279558\n",
      "  0.11087015  0.059751  ]\n"
     ]
    }
   ],
   "source": [
    "print(prediction[260][45])"
   ]
  },
  {
   "cell_type": "code",
   "execution_count": 64,
   "metadata": {},
   "outputs": [
    {
     "name": "stdout",
     "output_type": "stream",
     "text": [
      "3\n"
     ]
    }
   ],
   "source": [
    "s = [1,2,3,4]\n",
    "print(np.argmax(s))"
   ]
  },
  {
   "cell_type": "code",
   "execution_count": 65,
   "metadata": {},
   "outputs": [
    {
     "name": "stdout",
     "output_type": "stream",
     "text": [
      "(496, 64, 8)\n"
     ]
    }
   ],
   "source": [
    "print(prediction.shape)"
   ]
  },
  {
   "cell_type": "code",
   "execution_count": 66,
   "metadata": {
    "collapsed": true
   },
   "outputs": [],
   "source": [
    "output = np.zeros((496,64))"
   ]
  },
  {
   "cell_type": "code",
   "execution_count": 67,
   "metadata": {
    "collapsed": true
   },
   "outputs": [],
   "source": [
    "for i in range(496):\n",
    "    for j in range(64):\n",
    "        index = np.argmax(prediction[i][j])\n",
    "        output[i][j] = index"
   ]
  },
  {
   "cell_type": "code",
   "execution_count": 68,
   "metadata": {},
   "outputs": [
    {
     "name": "stdout",
     "output_type": "stream",
     "text": [
      "(496, 64)\n"
     ]
    }
   ],
   "source": [
    "print (output.shape)"
   ]
  },
  {
   "cell_type": "code",
   "execution_count": 69,
   "metadata": {
    "collapsed": true
   },
   "outputs": [],
   "source": [
    "color= np.zeros((496,64,3))"
   ]
  },
  {
   "cell_type": "code",
   "execution_count": 70,
   "metadata": {
    "collapsed": true
   },
   "outputs": [],
   "source": [
    "for j in range(496):\n",
    "    for k in range(64):\n",
    "        if(output[j][k]==0):\n",
    "            color[j][k] = [0,0,0]\n",
    "        if(output[j][k]==1):\n",
    "            color[j][k] = [128,0,0]\n",
    "        if(output[j][k]==2):\n",
    "            color[j][k] = [0,128,0]\n",
    "        if(output[j][k]==3):\n",
    "            color[j][k] = [128,128,0] \n",
    "        if(output[j][k]==4):\n",
    "            color[j][k] = [0,128,128]\n",
    "        if(output[j][k]==5):\n",
    "            color[j][k] = [64,0,0]\n",
    "        if(output[j][k]==6):\n",
    "            color[j][k] = [192,0,0]\n",
    "        if(output[j][k]==7):\n",
    "            color[j][k] = [64,128,0]"
   ]
  },
  {
   "cell_type": "code",
   "execution_count": 71,
   "metadata": {},
   "outputs": [
    {
     "data": {
      "text/plain": [
       "<matplotlib.image.AxesImage at 0x7f84257fba50>"
      ]
     },
     "execution_count": 71,
     "metadata": {},
     "output_type": "execute_result"
    }
   ],
   "source": [
    "plt.imshow(color)"
   ]
  },
  {
   "cell_type": "code",
   "execution_count": 72,
   "metadata": {},
   "outputs": [
    {
     "data": {
      "image/png": "[encoded data removed]",
      "text/plain": [
       "<matplotlib.figure.Figure at 0x7f84258bd3d0>"
      ]
     },
     "metadata": {},
     "output_type": "display_data"
    }
   ],
   "source": [
    "plt.show()"
   ]
  },
  {
   "cell_type": "code",
   "execution_count": null,
   "metadata": {
    "collapsed": true
   },
   "outputs": [],
   "source": []
  }
 ],
 "metadata": {
  "kernelspec": {
   "display_name": "Python 2",
   "language": "python",
   "name": "python2"
  },
  "language_info": {
   "codemirror_mode": {
    "name": "ipython",
    "version": 2
   },
   "file_extension": ".py",
   "mimetype": "text/x-python",
   "name": "python",
   "nbconvert_exporter": "python",
   "pygments_lexer": "ipython2",
   "version": "2.7.12"
  }
 },
 "nbformat": 4,
 "nbformat_minor": 2
}
